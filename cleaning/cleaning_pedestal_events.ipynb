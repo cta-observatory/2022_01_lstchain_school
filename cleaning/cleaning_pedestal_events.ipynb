{
 "cells": [
  {
   "cell_type": "code",
   "execution_count": null,
   "metadata": {},
   "outputs": [],
   "source": [
    "import matplotlib.pyplot as plt\n",
    "import matplotlib as mpl\n",
    "import numpy as np\n",
    "import tables\n",
    "from traitlets.config.loader import Config\n",
    "from ctapipe.containers import EventType\n",
    "from ctapipe.io import read_table\n",
    "from ctapipe.instrument import CameraGeometry\n",
    "from ctapipe.visualization import CameraDisplay\n",
    "from ctapipe.image import (\n",
    "        hillas_parameters,\n",
    "        tailcuts_clean,\n",
    "        apply_time_delta_cleaning\n",
    "        )\n",
    "from lstchain.io.config import get_cleaning_parameters\n",
    "from lstchain.io.config import read_configuration_file\n",
    "from lstchain.io.io import read_camera_geometries, read_single_camera_geometry\n",
    "from lstchain.calib.camera.pixel_threshold_estimation import get_threshold_from_dl1_file\n",
    "\n",
    "plt.rcParams.update({'font.size': 22})"
   ]
  },
  {
   "cell_type": "code",
   "execution_count": null,
   "metadata": {},
   "outputs": [],
   "source": [
    "def plot_img(ax, img, geom, text_label=\"signal [p.e.]\", text_title=\"Image\"):\n",
    "    disp = CameraDisplay(geom, ax=ax)\n",
    "    disp.image = img\n",
    "    disp.add_colorbar(ax=ax, label=text_label)\n",
    "    disp.cmap = 'gnuplot2'\n",
    "    ax.set_title(text_title, fontsize=20)\n",
    "    format_axes(ax)\n",
    "    \n",
    "def format_axes(ax):\n",
    "    ax.set_yticklabels([])\n",
    "    ax.set_xticklabels([])\n",
    "    ax.set_xlabel(\"\")\n",
    "    ax.set_ylabel(\"\")"
   ]
  },
  {
   "cell_type": "code",
   "execution_count": null,
   "metadata": {},
   "outputs": [],
   "source": [
    "def check_cleaning_with_pedestal_events(dl1_path, config_file_path=\"\", config=None):\n",
    "    clean_method_name = 'tailcuts_clean_with_pedestal_threshold'\n",
    "    if config_file_path:\n",
    "        config = read_configuration_file(config_file_path)\n",
    "    \n",
    "    # read cleaning parameters\n",
    "    sigma = config[clean_method_name]['sigma']\n",
    "    cleaning_params = get_cleaning_parameters(config, clean_method_name)\n",
    "    pic_th, boundary_th, isolated_pixels, min_n_neighbors = cleaning_params\n",
    "    \n",
    "    \n",
    "    pedestal_thresh = get_threshold_from_dl1_file(dl1_path, sigma)\n",
    "    picture_th = np.clip(pedestal_thresh, pic_th, None)\n",
    "    print(f\"Fraction of pixel cleaning thresholds above picture thr.:\"\n",
    "          f\"{np.sum(pedestal_thresh>pic_th) / len(pedestal_thresh):.3f}\")\n",
    "    \n",
    "    delta_time = config[clean_method_name]['delta_time']\n",
    "    print(config[clean_method_name])\n",
    "    n_ped_events = 0\n",
    "    n_survive_ped_clean = 0\n",
    "    n_survive_delta_time = 0\n",
    "    \n",
    "    camera_geometry = read_single_camera_geometry(dl1_path, \"LSTCam\")\n",
    "    tablename = \"/dl1/event/telescope/parameters/LST_LSTCam\"\n",
    "    params = read_table(dl1_path, tablename)\n",
    "    \n",
    "    with tables.open_file(dl1_path, mode='r') as f:\n",
    "        image_table = f.root['/dl1/event/telescope/image/LST_LSTCam']\n",
    "        ucts_trigger_type = f.root['/dl1/event/telescope/parameters/LST_LSTCam'].col('ucts_trigger_type')\n",
    "        for ii, row in enumerate(image_table):\n",
    "            image = row['image']\n",
    "            peak_time = row['peak_time']\n",
    "            if params['event_type'][ii] == EventType.SKY_PEDESTAL.value:\n",
    "                n_ped_events += 1\n",
    "                # tailcuts clean\n",
    "                signal_pixels = tailcuts_clean(camera_geometry,\n",
    "                                            image,\n",
    "                                            picture_thresh=picture_th,\n",
    "                                            boundary_thresh=boundary_th,\n",
    "                                            keep_isolated_pixels=isolated_pixels,\n",
    "                                            min_number_picture_neighbors=min_n_neighbors)\n",
    "            \n",
    "                cleaning_img = image.copy()\n",
    "                cleaning_img[~signal_pixels] = 0\n",
    "                n_pixels = np.count_nonzero(signal_pixels)\n",
    "            \n",
    "                if n_pixels > 0:\n",
    "                    n_survive_ped_clean += 1\n",
    "                if n_pixels > 0:\n",
    "                    cleaned_pixel_times = peak_time\n",
    "                    cleaned_pixel_times[~signal_pixels] = np.nan\n",
    "                    new_mask = apply_time_delta_cleaning(\n",
    "                                                 camera_geometry,\n",
    "                                                 signal_pixels,\n",
    "                                                 cleaned_pixel_times,\n",
    "                                                 1,\n",
    "                                                 delta_time)\n",
    "                    signal_pixels = new_mask\n",
    "                    time_cleaning_img = cleaning_img.copy()\n",
    "                    time_cleaning_img[~signal_pixels] = 0\n",
    "                   \n",
    "                    n_pixels = np.count_nonzero(signal_pixels)        \n",
    "                    if n_pixels > 0:\n",
    "                        n_survive_delta_time += 1\n",
    "                        \n",
    "    print(n_ped_events, n_survive_ped_clean, n_survive_delta_time)\n",
    "    print(\"N pedestal events {}\".format(n_ped_events))\n",
    "    print(\"N pedestal events survived tailcut cleaning {}\".format(n_survive_ped_clean))\n",
    "    print(\"N pedestal events survived tailcut + delta time cleaning {}\".format(n_survive_delta_time), end=\" \")\n",
    "    percent_survive = (n_survive_delta_time/n_ped_events)*100\n",
    "    print(\"{:.2f} %\".format(percent_survive))\n",
    "    \n",
    "def show_images_cleaning_with_pedestal_events(dl1_path, config_file_path=\"\", config=None):\n",
    "    clean_method_name = 'tailcuts_clean_with_pedestal_threshold'\n",
    "    if config_file_path:\n",
    "        config = read_configuration_file(config_file_path)\n",
    "    \n",
    "    sigma = config[clean_method_name]['sigma']\n",
    "    cleaning_params = get_cleaning_parameters(config, clean_method_name)\n",
    "    pic_th, boundary_th, isolated_pixels, min_n_neighbors = cleaning_params\n",
    "    \n",
    "    \n",
    "    pedestal_thresh = get_threshold_from_dl1_file(dl1_path, sigma)\n",
    "    picture_th = np.clip(pedestal_thresh, pic_th, None)\n",
    "    print(f\"Fraction of pixel cleaning thresholds above picture thr.:\"\n",
    "                 f\"{np.sum(pedestal_thresh>pic_th) / len(pedestal_thresh):.3f}\")\n",
    "    \n",
    "    delta_time = config[clean_method_name]['delta_time']\n",
    "    print(config[clean_method_name])\n",
    "\n",
    "    \n",
    "    camera_geometry = read_single_camera_geometry(dl1_path, \"LSTCam\")\n",
    "    tablename = \"/dl1/event/telescope/parameters/LST_LSTCam\"\n",
    "    params = read_table(dl1_path, tablename)\n",
    "    n_events = 0\n",
    "    n_survive = 0\n",
    "    with tables.open_file(dl1_path, mode='r') as f:\n",
    "        image_table = f.root['/dl1/event/telescope/image/LST_LSTCam'][:5000]\n",
    "        ucts_trigger_type = f.root['/dl1/event/telescope/parameters/LST_LSTCam'].col('ucts_trigger_type')[:5000]\n",
    "        for ii, row in enumerate(image_table):\n",
    "            image = row['image']\n",
    "            peak_time = row['peak_time']\n",
    "            if params['event_type'][ii] == EventType.SKY_PEDESTAL.value:\n",
    "                n_events += 1\n",
    "                signal_pixels = tailcuts_clean(camera_geometry,\n",
    "                                                image,\n",
    "                                                picture_thresh=picture_th,\n",
    "                                                boundary_thresh=boundary_th,\n",
    "                                                keep_isolated_pixels=isolated_pixels,\n",
    "                                                min_number_picture_neighbors=min_n_neighbors)\n",
    "            \n",
    "                cleaning_img = image.copy()\n",
    "                cleaning_img[~signal_pixels] = 0\n",
    "                n_pixels = np.count_nonzero(signal_pixels)\n",
    "            \n",
    "                # delta_time cleaning, we require at least one\n",
    "                # neighbor within delta_time to accept a pixel in the image:\n",
    "                if n_pixels > 0:\n",
    "                    cleaned_pixel_times = peak_time\n",
    "                    cleaned_pixel_times[~signal_pixels] = np.nan\n",
    "                    new_mask = apply_time_delta_cleaning(\n",
    "                                                 camera_geometry,\n",
    "                                                 signal_pixels,\n",
    "                                                 cleaned_pixel_times,\n",
    "                                                 1,\n",
    "                                                 delta_time)\n",
    "                    signal_pixels = new_mask\n",
    "                    time_cleaning_img = cleaning_img.copy()\n",
    "                    time_cleaning_img[~signal_pixels] = 0\n",
    "                    cleaning_img = time_cleaning_img\n",
    "                    n_pixels = np.count_nonzero(signal_pixels)\n",
    "                if n_pixels > 0:\n",
    "                    n_survive += 1\n",
    "                    fig, ax = plt.subplots(1, 2, figsize=(12, 5))\n",
    "                    plot_img(ax[0], image, camera_geometry)\n",
    "                    plot_img(ax[1], cleaning_img, camera_geometry, text_title=\"Cleaning\")\n",
    "                    plt.show()\n",
    "                    \n",
    "        print(\"N events survived cleaning per pedestal events : {}/{}\".format(n_survive, n_events))"
   ]
  },
  {
   "cell_type": "markdown",
   "metadata": {},
   "source": [
    "# Pedestal events"
   ]
  },
  {
   "cell_type": "markdown",
   "metadata": {},
   "source": [
    "Good way to check performance of cleaning is check how many pedestal events will survive cleaning\n",
    "* shoudl be < 3-5 %"
   ]
  },
  {
   "cell_type": "markdown",
   "metadata": {},
   "source": [
    "# Crab"
   ]
  },
  {
   "cell_type": "code",
   "execution_count": null,
   "metadata": {},
   "outputs": [],
   "source": [
    "sigma = 2.5\n",
    "dl1_path = \"/fefs/aswg/data/real/DL1/20201120/v0.7.3/tailcut84/dl1_LST-1.Run02969.0010.h5\"\n",
    "\n",
    "# calculate mean and standard deviation of each pixel's charge in interleaved pedestals with sigma=2.5.\n",
    "pedestal_thresh = get_threshold_from_dl1_file(dl1_path, sigma)\n",
    "\n",
    "camera_geometry = read_single_camera_geometry(dl1_path, \"LSTCam\")\n",
    "fig, ax = plt.subplots(figsize=(8, 7))\n",
    "plot_img(ax, pedestal_thresh, camera_geometry, text_label=\"th = mean + 2.5 $\\cdot$ std [p.e.]\")\n",
    "\n",
    "print(f\"Fraction of pixel cleaning thresholds above picture thr 6: \"\n",
    "      f\"{np.sum(pedestal_thresh>6) / len(pedestal_thresh):.3f}\")\n",
    "\n",
    "print(f\"Fraction of pixel cleaning thresholds above picture thr 8: \"\n",
    "      f\"{np.sum(pedestal_thresh>8) / len(pedestal_thresh):.3f}\")"
   ]
  },
  {
   "cell_type": "markdown",
   "metadata": {},
   "source": [
    "Check how pedestal tailcuts with delta time cleaning works with pedestal events   \n",
    "* Cleaning 6-3\n",
    "* Cleaning 8-4\n",
    "* Cleaning 10-5\n",
    "\n",
    "delta time = 2 ns"
   ]
  },
  {
   "cell_type": "markdown",
   "metadata": {},
   "source": [
    "### 6-3"
   ]
  },
  {
   "cell_type": "markdown",
   "metadata": {},
   "source": [
    "Check how pedestal tailcuts with delta time cleaning works with pedestal events  "
   ]
  },
  {
   "cell_type": "code",
   "execution_count": null,
   "metadata": {},
   "outputs": [],
   "source": [
    "dl1_path = \"/fefs/aswg/data/real/DL1/20201120/v0.7.3/tailcut84/dl1_LST-1.Run02969.0010.h5\"\n",
    "config_file_63 = \"/fefs/aswg/lstosa/config_files_lstchain/lstchain_standard_config.json\"\n",
    "check_cleaning_with_pedestal_events(dl1_path, \n",
    "                                    config_file_63)"
   ]
  },
  {
   "cell_type": "code",
   "execution_count": null,
   "metadata": {
    "scrolled": true
   },
   "outputs": [],
   "source": [
    "dl1_path = \"/fefs/aswg/data/real/DL1/20201120/v0.7.3/tailcut84/dl1_LST-1.Run02969.0010.h5\"\n",
    "config_file_63 = \"/fefs/aswg/lstosa/config_files_lstchain/lstchain_standard_config.json\"\n",
    "show_images_cleaning_with_pedestal_events(dl1_path, config_file_63)"
   ]
  },
  {
   "cell_type": "markdown",
   "metadata": {},
   "source": [
    "### 8-4"
   ]
  },
  {
   "cell_type": "code",
   "execution_count": null,
   "metadata": {},
   "outputs": [],
   "source": [
    "dl1_path = \"/fefs/aswg/data/real/DL1/20201120/v0.7.3/tailcut84/dl1_LST-1.Run02969.0010.h5\"\n",
    "config_file_84 = \"/fefs/aswg/lstosa/config_files_lstchain/lstchain_standard_config_tailcut84.json\"\n",
    "check_cleaning_with_pedestal_events(dl1_path, \n",
    "                                    config_file_84)"
   ]
  },
  {
   "cell_type": "code",
   "execution_count": null,
   "metadata": {},
   "outputs": [],
   "source": [
    "config = Config({\n",
    "    \"tailcuts_clean_with_pedestal_threshold\": {\n",
    "        'picture_thresh': 10,\n",
    "        'boundary_thresh': 5, \n",
    "        'sigma': 2.5, \n",
    "        'keep_isolated_pixels': False, \n",
    "        'min_number_picture_neighbors': 2, \n",
    "        'use_only_main_island': False, \n",
    "        'delta_time': 2\n",
    "    }\n",
    "}) \n",
    "check_cleaning_with_pedestal_events(dl1_path, config_file_path=False, config=config)"
   ]
  },
  {
   "cell_type": "markdown",
   "metadata": {},
   "source": [
    "# Mrk 421"
   ]
  },
  {
   "cell_type": "code",
   "execution_count": null,
   "metadata": {},
   "outputs": [],
   "source": [
    "sigma = 2.5\n",
    "dl1_path = \"/fefs/aswg/data/real/DL1/20210316/v0.7.1/tailcut84/dl1_LST-1.Run04097.0004.h5\"\n",
    "\n",
    "# calculate mean and standard deviation of each pixel's charge in interleaved pedestals with sigma=2.5.\n",
    "pedestal_thresh = get_threshold_from_dl1_file(dl1_path, sigma)\n",
    "camera_geometry = read_single_camera_geometry(dl1_path, \"LSTCam\")\n",
    "fig, ax = plt.subplots(figsize=(8, 7))\n",
    "plot_img(ax, pedestal_thresh, camera_geometry)\n",
    "\n",
    "print(f\"Fraction of pixel cleaning thresholds above picture thr 6: \"\n",
    "      f\"{np.sum(pedestal_thresh>6) / len(pedestal_thresh):.3f}\")\n",
    "print(f\"Fraction of pixel cleaning thresholds above picture thr 8: \"\n",
    "      f\"{np.sum(pedestal_thresh>8) / len(pedestal_thresh):.3f}\")"
   ]
  },
  {
   "cell_type": "markdown",
   "metadata": {},
   "source": [
    "### 6-3"
   ]
  },
  {
   "cell_type": "code",
   "execution_count": null,
   "metadata": {},
   "outputs": [],
   "source": [
    "dl1_path = \"/fefs/aswg/data/real/DL1/20210316/v0.7.1/tailcut84/dl1_LST-1.Run04097.0004.h5\"\n",
    "config_file_63 = \"/fefs/aswg/lstosa/config_files_lstchain/lstchain_standard_config.json\"\n",
    "check_cleaning_with_pedestal_events(dl1_path, \n",
    "                                    config_file_63)"
   ]
  },
  {
   "cell_type": "markdown",
   "metadata": {},
   "source": [
    "### 8-4"
   ]
  },
  {
   "cell_type": "code",
   "execution_count": null,
   "metadata": {},
   "outputs": [],
   "source": [
    "dl1_path = \"/fefs/aswg/data/real/DL1/20210316/v0.7.1/tailcut84/dl1_LST-1.Run04097.0004.h5\"\n",
    "config_file_84 = \"/fefs/aswg/lstosa/config_files_lstchain/lstchain_standard_config_tailcut84.json\"\n",
    "check_cleaning_with_pedestal_events(dl1_path, \n",
    "                                    config_file_84)"
   ]
  },
  {
   "cell_type": "code",
   "execution_count": null,
   "metadata": {},
   "outputs": [],
   "source": []
  },
  {
   "cell_type": "markdown",
   "metadata": {},
   "source": [
    "# Exercises :\n",
    "1. Check pedestal events dl1_LST-1.Run04097.0004.h5\" with pedestal tailcuts clean method picture_threshold = 7, boundary_threshold=3.5 and sigma = 2.5, delta_time = 2"
   ]
  },
  {
   "cell_type": "code",
   "execution_count": null,
   "metadata": {},
   "outputs": [],
   "source": []
  }
 ],
 "metadata": {
  "kernelspec": {
   "display_name": "Python 3",
   "language": "python",
   "name": "python3"
  },
  "language_info": {
   "codemirror_mode": {
    "name": "ipython",
    "version": 3
   },
   "file_extension": ".py",
   "mimetype": "text/x-python",
   "name": "python",
   "nbconvert_exporter": "python",
   "pygments_lexer": "ipython3",
   "version": "3.6.10"
  }
 },
 "nbformat": 4,
 "nbformat_minor": 5
}
