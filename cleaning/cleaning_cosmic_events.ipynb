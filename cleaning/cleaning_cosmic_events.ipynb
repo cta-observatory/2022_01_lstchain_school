{
 "cells": [
  {
   "cell_type": "code",
   "execution_count": null,
   "metadata": {},
   "outputs": [],
   "source": [
    "import matplotlib.pyplot as plt\n",
    "import matplotlib as mpl\n",
    "import matplotlib\n",
    "import numpy as np\n",
    "import tables\n",
    "from collections import Counter\n",
    "from traitlets.config.loader import Config\n",
    "\n",
    "from ctapipe.io import read_table\n",
    "from ctapipe.containers import EventType\n",
    "\n",
    "from ctapipe.instrument import CameraGeometry\n",
    "from ctapipe.visualization import CameraDisplay\n",
    "from ctapipe.image import (\n",
    "        hillas_parameters,\n",
    "        tailcuts_clean,\n",
    "        apply_time_delta_cleaning\n",
    "        )\n",
    "\n",
    "from lstchain.io.config import get_cleaning_parameters\n",
    "from lstchain.io.config import get_standard_config\n",
    "from lstchain.io.config import read_configuration_file\n",
    "from lstchain.io.io import read_camera_geometries, read_single_camera_geometry\n",
    "from lstchain.io import DL1ParametersContainer, standard_config, replace_config\n",
    "from lstchain.calib.camera.pixel_threshold_estimation import get_threshold_from_dl1_file\n",
    "from lstchain.image.cleaning import apply_dynamic_cleaning\n",
    "\n",
    "plt.rcParams.update({'font.size': 18})"
   ]
  },
  {
   "cell_type": "code",
   "execution_count": null,
   "metadata": {},
   "outputs": [],
   "source": [
    "def plot_img(ax, img, geom, text_label=\"signal [p.e.]\", text_title=\"Image\"):\n",
    "    disp = CameraDisplay(geom, ax=ax)\n",
    "    disp.image = img\n",
    "    disp.add_colorbar(ax=ax, label=text_label)\n",
    "    disp.cmap = 'gnuplot2'\n",
    "    ax.set_title(text_title, fontsize=20)\n",
    "    format_axes(ax)\n",
    "    \n",
    "def plot_img_hillas(ax, img, geom, hillas, text_label=\"signal [p.e.]\", text_title=\"Image\"):\n",
    "    disp = CameraDisplay(geom, ax=ax)\n",
    "    disp.image = img\n",
    "    disp.add_colorbar(ax=ax, label=text_label)\n",
    "    disp.cmap = 'gnuplot2'\n",
    "    disp.overlay_moments(hillas, color='xkcd:green', lw=3)\n",
    "    ax.set_title(text_title, fontsize=20)\n",
    "    format_axes(ax)\n",
    "    \n",
    "def format_axes(ax):\n",
    "    ax.set_yticklabels([])\n",
    "    ax.set_xticklabels([])\n",
    "    ax.set_xlabel(\"\")\n",
    "    ax.set_ylabel(\"\")\n",
    "    \n",
    "\n",
    "def show_images_cleaning_with_cosmic_events(dl1_path, config_file_path=\"\", config=None, max_events=100, min_size=200):\n",
    "    clean_method_name = 'tailcuts_clean_with_pedestal_threshold'\n",
    "    if config_file_path:\n",
    "        config = read_configuration_file(config_file_path)\n",
    "    \n",
    "    # read cleaning parameters \n",
    "    sigma = config[clean_method_name]['sigma']\n",
    "    cleaning_params = get_cleaning_parameters(config, clean_method_name)\n",
    "    pic_th, boundary_th, isolated_pixels, min_n_neighbors = cleaning_params\n",
    "    \n",
    "    \n",
    "    pedestal_thresh = get_threshold_from_dl1_file(dl1_path, sigma)\n",
    "    # Set picture threshold as array max(8, ped_mean + 2.5*ped_std) - pixel-wise\n",
    "    picture_th = np.clip(pedestal_thresh, pic_th, None)\n",
    "    print(f\"Fraction of pixel cleaning thresholds above picture thr.:\"\n",
    "          f\"{np.sum(pedestal_thresh>pic_th) / len(pedestal_thresh):.3f}\")\n",
    "    \n",
    "    delta_time = config[clean_method_name]['delta_time']\n",
    "    print(config[clean_method_name])\n",
    "\n",
    "    camera_geometry = read_single_camera_geometry(dl1_path, \"LSTCam\")\n",
    "    tablename = \"/dl1/event/telescope/parameters/LST_LSTCam\"\n",
    "    params = read_table(dl1_path, tablename)\n",
    "    \n",
    "    with tables.open_file(dl1_path, mode='r') as f:\n",
    "        image_table = f.root['/dl1/event/telescope/image/LST_LSTCam'][:max_events]\n",
    "        ucts_trigger_type = f.root['/dl1/event/telescope/parameters/LST_LSTCam'].col('ucts_trigger_type')[:max_events]\n",
    "        for ii, row in enumerate(image_table):\n",
    "            image = row['image']\n",
    "            peak_time = row['peak_time']\n",
    "            if params['event_type'][ii] == EventType.SUBARRAY.value:\n",
    "            \n",
    "                signal_pixels = tailcuts_clean(camera_geometry,\n",
    "                                               image,\n",
    "                                               picture_thresh=picture_th,\n",
    "                                               boundary_thresh=boundary_th,\n",
    "                                               keep_isolated_pixels=isolated_pixels,\n",
    "                                               min_number_picture_neighbors=min_n_neighbors)\n",
    "            \n",
    "                cleaning_img = image.copy()\n",
    "                cleaning_img[~signal_pixels] = 0\n",
    "                n_pixels = np.count_nonzero(signal_pixels)\n",
    "            \n",
    "            \n",
    "                if n_pixels > 0:\n",
    "                    cleaned_pixel_times = peak_time\n",
    "                    cleaned_pixel_times[~signal_pixels] = np.nan\n",
    "                    new_mask = apply_time_delta_cleaning(\n",
    "                                                 camera_geometry,\n",
    "                                                 signal_pixels,\n",
    "                                                 cleaned_pixel_times,\n",
    "                                                 1,\n",
    "                                                 delta_time)\n",
    "                    signal_pixels = new_mask\n",
    "                    time_cleaning_img = cleaning_img.copy()\n",
    "                    time_cleaning_img[~signal_pixels] = 0\n",
    "                    cleaning_img = time_cleaning_img\n",
    "        \n",
    "                    n_pixels = np.count_nonzero(signal_pixels)\n",
    "                    size = np.sum(cleaning_img[signal_pixels])\n",
    "                \n",
    "                # Show images with size > 200 p.e.\n",
    "                if n_pixels > 0 and size > 200:\n",
    "                    fig, ax = plt.subplots(1, 2, figsize=(14, 6))\n",
    "                    plot_img(ax[0], image, camera_geometry)\n",
    "                    print(\"i = \", ii)\n",
    "                    hillas = hillas_parameters(camera_geometry[signal_pixels],\n",
    "                                           cleaning_img[signal_pixels])\n",
    "                    plot_img_hillas(ax[1], cleaning_img, camera_geometry, hillas, text_title=\"Cleaning image\")\n",
    "                    plt.show()"
   ]
  },
  {
   "cell_type": "markdown",
   "metadata": {},
   "source": [
    "Check how pedestal tailcuts clean with delta time cleaning works with cosmic events   \n",
    "* Cleaning 6-3\n",
    "* Cleaning 8-4\n",
    "\n",
    "delta time = 2 ns"
   ]
  },
  {
   "cell_type": "markdown",
   "metadata": {},
   "source": [
    "# Crab"
   ]
  },
  {
   "cell_type": "markdown",
   "metadata": {},
   "source": [
    "### 6-3"
   ]
  },
  {
   "cell_type": "code",
   "execution_count": null,
   "metadata": {
    "scrolled": true
   },
   "outputs": [],
   "source": [
    "dl1_path = \"/fefs/aswg/data/real/DL1/20201120/v0.7.3/tailcut84/dl1_LST-1.Run02969.0010.h5\"\n",
    "config_file_63 = \"/fefs/aswg/lstosa/config_files_lstchain/lstchain_standard_config.json\"\n",
    "show_images_cleaning_with_cosmic_events(dl1_path, config_file_path=config_file_63, max_events=20)"
   ]
  },
  {
   "cell_type": "markdown",
   "metadata": {},
   "source": [
    "### 8-4"
   ]
  },
  {
   "cell_type": "code",
   "execution_count": null,
   "metadata": {
    "scrolled": true
   },
   "outputs": [],
   "source": [
    "dl1_path = \"/fefs/aswg/data/real/DL1/20201120/v0.7.3/tailcut84/dl1_LST-1.Run02969.0010.h5\"\n",
    "config_file_84 = \"/fefs/aswg/lstosa/config_files_lstchain/lstchain_standard_config_tailcut84.json\"\n",
    "show_images_cleaning_with_cosmic_events(dl1_path, config_file_path=config_file_84, max_events=20)"
   ]
  },
  {
   "cell_type": "markdown",
   "metadata": {},
   "source": [
    "# Mrk 421"
   ]
  },
  {
   "cell_type": "markdown",
   "metadata": {},
   "source": [
    "### 6-3"
   ]
  },
  {
   "cell_type": "code",
   "execution_count": null,
   "metadata": {},
   "outputs": [],
   "source": [
    "dl1_path = \"/fefs/aswg/data/real/DL1/20210316/v0.7.1/tailcut84/dl1_LST-1.Run04097.0005.h5\"\n",
    "config_file_63 = \"/fefs/aswg/lstosa/config_files_lstchain/lstchain_standard_config.json\"\n",
    "show_images_cleaning_with_cosmic_events(dl1_path, config_file_path=config_file_63, max_events=10)"
   ]
  },
  {
   "cell_type": "markdown",
   "metadata": {},
   "source": [
    "### 8-4"
   ]
  },
  {
   "cell_type": "code",
   "execution_count": null,
   "metadata": {
    "scrolled": true
   },
   "outputs": [],
   "source": [
    "config_84 = Config({\n",
    "    \"tailcuts_clean_with_pedestal_threshold\": {\n",
    "        'picture_thresh': 8,\n",
    "        'boundary_thresh': 4, \n",
    "        'sigma': 2.5, \n",
    "        'keep_isolated_pixels': False, \n",
    "        'min_number_picture_neighbors': 2, \n",
    "        'use_only_main_island': False, \n",
    "        'delta_time': 2\n",
    "    }\n",
    "}) \n",
    "dl1_path = \"/fefs/aswg/data/real/DL1/20210316/v0.7.1/tailcut84/dl1_LST-1.Run04097.0005.h5\"\n",
    "show_images_cleaning_with_cosmic_events(dl1_path, config_file_path=False, config=config_84, max_events=10)"
   ]
  },
  {
   "cell_type": "markdown",
   "metadata": {},
   "source": [
    "# Dynamic cleaning"
   ]
  },
  {
   "cell_type": "code",
   "execution_count": null,
   "metadata": {},
   "outputs": [],
   "source": [
    "config = read_configuration_file(\"/fefs/aswg/lstosa/config_files_lstchain/lstchain_standard_config_tailcut84_dynamic_cleaning_v075.json\")"
   ]
  },
  {
   "cell_type": "code",
   "execution_count": null,
   "metadata": {},
   "outputs": [],
   "source": [
    "config['dynamic_cleaning']"
   ]
  },
  {
   "cell_type": "code",
   "execution_count": null,
   "metadata": {},
   "outputs": [],
   "source": [
    "dl1_path = \"/fefs/aswg/data/real/DL1/20201120/v0.7.3/tailcut84/dl1_LST-1.Run02969.0010.h5\"\n",
    "camera_geometry = read_single_camera_geometry(dl1_path, \"LSTCam\")\n",
    "tablename = \"/dl1/event/telescope/parameters/LST_LSTCam\"\n",
    "params = read_table(dl1_path, tablename)\n",
    "\n",
    "\n",
    "clean_method_name = 'tailcuts_clean_with_pedestal_threshold'\n",
    "sigma = config[clean_method_name]['sigma']\n",
    "cleaning_params = get_cleaning_parameters(config, clean_method_name)\n",
    "pic_th, boundary_th, isolated_pixels, min_n_neighbors = cleaning_params\n",
    "    \n",
    "THRESHOLD_DYNAMIC_CLEANING = config['dynamic_cleaning']['threshold']\n",
    "FRACTION_CLEANING_SIZE = config['dynamic_cleaning']['fraction_cleaning_intensity']\n",
    "    \n",
    "pedestal_thresh = get_threshold_from_dl1_file(dl1_path, sigma)\n",
    "picture_th = np.clip(pedestal_thresh, pic_th, None)\n",
    "print(f\"Fraction of pixel cleaning thresholds above picture thr.:\"\n",
    "        f\"{np.sum(pedestal_thresh>pic_th) / len(pedestal_thresh):.3f}\")\n",
    "    \n",
    "delta_time = config[clean_method_name]['delta_time']\n",
    "print(config[clean_method_name])\n",
    "\n",
    "pedestal_thresh = get_threshold_from_dl1_file(dl1_path, sigma)\n",
    "picture_th = np.clip(pedestal_thresh, pic_th, None)\n",
    "\n",
    "\n",
    "with tables.open_file(dl1_path, mode='r') as f:\n",
    "    image_table = f.root['/dl1/event/telescope/image/LST_LSTCam'][:10000]\n",
    "    ucts_trigger_type = f.root['/dl1/event/telescope/parameters/LST_LSTCam'].col('ucts_trigger_type')[:1000]\n",
    "    for ii, row in enumerate(image_table):\n",
    "        image = row['image']\n",
    "        peak_time = row['peak_time']\n",
    "        if params['event_type'][ii] == EventType.SUBARRAY.value:\n",
    "            \n",
    "            signal_pixels = tailcuts_clean(camera_geometry,\n",
    "                                            image,\n",
    "                                            picture_thresh=picture_th,\n",
    "                                            boundary_thresh=boundary_th,\n",
    "                                            keep_isolated_pixels=isolated_pixels,\n",
    "                                            min_number_picture_neighbors= min_n_neighbors)\n",
    "            \n",
    "            cleaning_img = image.copy()\n",
    "            cleaning_img[~signal_pixels] = 0\n",
    "            n_pixels = np.count_nonzero(signal_pixels)\n",
    "            \n",
    "            \n",
    "            if n_pixels > 0:\n",
    "                cleaned_pixel_times = peak_time\n",
    "                cleaned_pixel_times[~signal_pixels] = np.nan\n",
    "                new_mask = apply_time_delta_cleaning(\n",
    "                                                 camera_geometry,\n",
    "                                                 signal_pixels,\n",
    "                                                 cleaned_pixel_times,\n",
    "                                                 1,\n",
    "                                                 delta_time)\n",
    "                signal_pixels = new_mask\n",
    "                time_cleaning_img = cleaning_img.copy()\n",
    "                time_cleaning_img[~signal_pixels] = 0\n",
    "                cleaning_img = time_cleaning_img\n",
    "        \n",
    "                n_pixels = np.count_nonzero(signal_pixels)\n",
    "        \n",
    "            max_3_value_index = np.argsort(image)[-3:]\n",
    "            mean_3_max_signal = np.mean(image[max_3_value_index])\n",
    "            if mean_3_max_signal > THRESHOLD_DYNAMIC_CLEANING:\n",
    "                new_mask = apply_dynamic_cleaning(image,\n",
    "                                                  signal_pixels,\n",
    "                                                  THRESHOLD_DYNAMIC_CLEANING,\n",
    "                                                  FRACTION_CLEANING_SIZE)\n",
    "                signal_pixels = new_mask\n",
    "                dynamic_cleaning_img = cleaning_img.copy()\n",
    "                dynamic_cleaning_img[~signal_pixels] = 0\n",
    "                cleaning_img = dynamic_cleaning_img\n",
    "                \n",
    "                fig, ax = plt.subplots(1, 2, figsize=(14, 6))\n",
    "                plot_img(ax[0], image, camera_geometry)\n",
    "                print(\"Size =\", np.sum(cleaning_img[signal_pixels]))\n",
    "                hillas = hillas_parameters(camera_geometry[signal_pixels],\n",
    "                                           cleaning_img[signal_pixels])\n",
    "                plot_img_hillas(ax[1], cleaning_img, camera_geometry, hillas, text_title=\"Cleaning image\")\n",
    "                plt.show()"
   ]
  },
  {
   "cell_type": "code",
   "execution_count": null,
   "metadata": {},
   "outputs": [],
   "source": []
  },
  {
   "cell_type": "markdown",
   "metadata": {},
   "source": [
    "# Exercises :\n",
    "1. Show cosmic events dl1_LST-1.Run04097.0001.h5\" using tailcuts clean method picture_threshold = 7, boundary_threshold=3.5 and sigma = 2.5, delta_time = 2"
   ]
  }
 ],
 "metadata": {
  "kernelspec": {
   "display_name": "Python 3",
   "language": "python",
   "name": "python3"
  },
  "language_info": {
   "codemirror_mode": {
    "name": "ipython",
    "version": 3
   },
   "file_extension": ".py",
   "mimetype": "text/x-python",
   "name": "python",
   "nbconvert_exporter": "python",
   "pygments_lexer": "ipython3",
   "version": "3.6.10"
  }
 },
 "nbformat": 4,
 "nbformat_minor": 5
}
