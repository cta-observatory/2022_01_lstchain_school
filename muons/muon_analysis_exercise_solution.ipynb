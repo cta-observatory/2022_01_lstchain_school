{
 "cells": [
  {
   "cell_type": "code",
   "execution_count": 1,
   "id": "85ef06d5",
   "metadata": {},
   "outputs": [],
   "source": [
    "from astropy.io import fits\n",
    "import numpy as np\n",
    "import matplotlib.pyplot as plt\n",
    "import seaborn as sns\n",
    "import os\n",
    "from astropy.table import Table, vstack\n",
    "import glob\n",
    "\n",
    "from scipy import stats\n"
   ]
  },
  {
   "cell_type": "code",
   "execution_count": 2,
   "id": "23b75e3e",
   "metadata": {},
   "outputs": [
    {
     "data": {
      "text/plain": [
       "[12.0, 8.0]"
      ]
     },
     "execution_count": 2,
     "metadata": {},
     "output_type": "execute_result"
    }
   ],
   "source": [
    "import matplotlib.style as style\n",
    "style.use('seaborn-colorblind')\n",
    "\n",
    "plt.rcParams['figure.figsize'] = (12, 8)\n",
    "plt.rcParams['font.size'] = 20\n",
    "plt.rcParams['figure.figsize']"
   ]
  },
  {
   "cell_type": "code",
   "execution_count": 5,
   "id": "e4a9f2c7",
   "metadata": {},
   "outputs": [],
   "source": [
    "# Optical efficiencies to be called\n",
    "OPT_EFF=[0.7, 0.8, 0.9, 1.0]\n",
    "\n",
    "# size (intensity) outside the ring, to get rid of hadronic showers\n",
    "size_outside = 500 # phe"
   ]
  },
  {
   "cell_type": "markdown",
   "id": "ff6d29f0",
   "metadata": {},
   "source": [
    "# 1. Analyze by yourself MC file"
   ]
  },
  {
   "cell_type": "code",
   "execution_count": 6,
   "id": "356743cb",
   "metadata": {},
   "outputs": [
    {
     "name": "stdout",
     "output_type": "stream",
     "text": [
      "input files: ../data/muons/mc/Scale1.0/dl1_muon_0deg_0deg_run1___cta-prod5-lapalma_desert-2158m--dark.h5\n",
      "calib file: None\n",
      "output file: ../data/muons/mc/Scale1.0/dl1_muon_test_mc.fits\n",
      "['../data/muons/mc/Scale1.0/dl1_muon_0deg_0deg_run1___cta-prod5-lapalma_desert-2158m--dark.h5']\n",
      "Opening file ../data/muons/mc/Scale1.0/dl1_muon_0deg_0deg_run1___cta-prod5-lapalma_desert-2158m--dark.h5\n",
      "Impact parameter=7.876 m, ring_width=0.057 deg, ring radius=1.178 deg, ring completeness=0.733\n",
      "Number of good muon rings found 1, EventID 100\n",
      "Impact parameter=0.000 m, ring_width=0.043 deg, ring radius=1.227 deg, ring completeness=0.867\n",
      "Impact parameter=5.824 m, ring_width=0.049 deg, ring radius=0.956 deg, ring completeness=0.667\n",
      "Number of good muon rings found 2, EventID 400\n",
      "Impact parameter=6.345 m, ring_width=0.046 deg, ring radius=1.188 deg, ring completeness=0.933\n",
      "Number of good muon rings found 3, EventID 500\n",
      "Impact parameter=5.917 m, ring_width=0.065 deg, ring radius=1.144 deg, ring completeness=0.967\n",
      "Number of good muon rings found 4, EventID 600\n",
      "Impact parameter=1.026 m, ring_width=0.044 deg, ring radius=1.007 deg, ring completeness=0.867\n",
      "Impact parameter=2.468 m, ring_width=0.038 deg, ring radius=0.991 deg, ring completeness=0.867\n",
      "Number of good muon rings found 5, EventID 800\n",
      "Impact parameter=0.385 m, ring_width=0.059 deg, ring radius=1.114 deg, ring completeness=0.933\n",
      "Impact parameter=0.323 m, ring_width=0.057 deg, ring radius=1.114 deg, ring completeness=0.933\n",
      "Impact parameter=11.082 m, ring_width=0.090 deg, ring radius=0.957 deg, ring completeness=0.367\n",
      "Impact parameter=2.743 m, ring_width=0.032 deg, ring radius=1.202 deg, ring completeness=0.867\n",
      "Number of good muon rings found 6, EventID 1200\n",
      "Impact parameter=0.308 m, ring_width=0.037 deg, ring radius=1.213 deg, ring completeness=1.000\n",
      "Impact parameter=5.269 m, ring_width=0.045 deg, ring radius=1.113 deg, ring completeness=0.867\n",
      "Number of good muon rings found 7, EventID 1400\n",
      "Impact parameter=3.461 m, ring_width=0.047 deg, ring radius=1.053 deg, ring completeness=0.933\n",
      "Number of good muon rings found 8, EventID 1600\n",
      "Impact parameter=5.218 m, ring_width=0.068 deg, ring radius=1.017 deg, ring completeness=0.833\n",
      "Number of good muon rings found 9, EventID 1800\n",
      "Impact parameter=2.933 m, ring_width=0.053 deg, ring radius=1.189 deg, ring completeness=0.967\n",
      "Number of good muon rings found 10, EventID 1900\n",
      "\u001b[0m"
     ]
    }
   ],
   "source": [
    "! lstchain_dl1_muon_analysis \\\n",
    "  --input-file ../data/muons/mc/Scale1.0/dl1_muon_0deg_0deg_run1___cta-prod5-lapalma_desert-2158m--dark.h5 \\\n",
    "  -o ../data/muons/mc/Scale1.0/dl1_muon_test_mc.fits --max-muons 10"
   ]
  },
  {
   "cell_type": "markdown",
   "id": "b97ee19f",
   "metadata": {},
   "source": [
    "# 2. Compare the optical efficiency of the different runs in the real data folder and plot them together\n",
    "\n",
    "### Read and fit MC"
   ]
  },
  {
   "cell_type": "code",
   "execution_count": 7,
   "id": "9b7cb673",
   "metadata": {},
   "outputs": [],
   "source": [
    "\n",
    "normalization = 1.1 # deg \n",
    "ring_completeness_cut = 0.9\n",
    "value_at_norm = []\n",
    "\n",
    "for j, opt_eff in enumerate(OPT_EFF):\n",
    "    listdir=glob.glob(f'../data/muons/mc/Scale{opt_eff}/dl1*fits')\n",
    "    dat = Table.read('{}'.format(listdir[0]), format='fits')\n",
    "    for i in range(1,len(listdir)):\n",
    "        dat2 = Table.read('{}'.format(listdir[i]), format='fits')\n",
    "        dat = vstack([dat, dat2])\n",
    "    df = dat.to_pandas()\n",
    "    df_good = df[df['good_ring']]\n",
    "\n",
    "    slope, intercept, r_value, p_value, std_err = stats.linregress(\n",
    "        (df_good['ring_radius'][(df_good['ring_completeness'] > ring_completeness_cut) \n",
    "                                & (df_good['size_outside'] < size_outside)],\n",
    "         df_good['ring_size'][(df_good['ring_completeness'] > ring_completeness_cut) \n",
    "                              & (df_good['size_outside'] < size_outside)]))\n",
    "\n",
    "    value_at_norm.append(intercept + slope * normalization)\n",
    "    \n",
    "slope_opt_eff, intercept_opt_eff, r_value_opt_eff, p_value_opt_eff, std_err_opt_eff = stats.linregress(OPT_EFF, value_at_norm)\n",
    "    "
   ]
  },
  {
   "cell_type": "markdown",
   "id": "94864e26",
   "metadata": {},
   "source": [
    "### Data"
   ]
  },
  {
   "cell_type": "code",
   "execution_count": 8,
   "id": "db4f0766",
   "metadata": {},
   "outputs": [
    {
     "name": "stdout",
     "output_type": "stream",
     "text": [
      "Value at radius 1.1 deg 2441.461772705923 phe\n",
      "Optical efficiency 77.22583253346002\n",
      "Value at radius 1.1 deg 2456.919048159215 phe\n",
      "Optical efficiency 77.79894617642888\n",
      "Value at radius 1.1 deg 2462.2055796520253 phe\n",
      "Optical efficiency 77.99495635504474\n",
      "Value at radius 1.1 deg 2447.309563283427 phe\n",
      "Optical efficiency 77.44265266915079\n",
      "Value at radius 1.1 deg 2444.4693809392093 phe\n",
      "Optical efficiency 77.33734644911809\n",
      "Value at radius 1.1 deg 2456.9135923146755 phe\n",
      "Optical efficiency 77.79874388858397\n",
      "Value at radius 1.1 deg 2443.9269262824537 phe\n",
      "Optical efficiency 77.31723370897717\n",
      "Value at radius 1.1 deg 2455.010290928135 phe\n",
      "Optical efficiency 77.72817466086956\n",
      "Value at radius 1.1 deg 2472.671417154781 phe\n",
      "Optical efficiency 78.38300108362897\n",
      "Value at radius 1.1 deg 2446.4634999707982 phe\n",
      "Optical efficiency 77.41128294757546\n",
      "Value at radius 1.1 deg 2430.9075483942765 phe\n",
      "Optical efficiency 76.83451066291201\n",
      "Value at radius 1.1 deg 2438.0103390349077 phe\n",
      "Optical efficiency 77.09786278027563\n",
      "Value at radius 1.1 deg 2433.1046656785297 phe\n",
      "Optical efficiency 76.9159737832797\n",
      "Value at radius 1.1 deg 2449.7596484577357 phe\n",
      "Optical efficiency 77.53349514938446\n",
      "Value at radius 1.1 deg 2453.6659685274835 phe\n",
      "Optical efficiency 77.67833085038109\n",
      "Value at radius 1.1 deg 2431.003497526061 phe\n",
      "Optical efficiency 76.83806819519658\n",
      "Value at radius 1.1 deg 2453.0132600663874 phe\n",
      "Optical efficiency 77.65413019968648\n"
     ]
    }
   ],
   "source": [
    "runs = np.arange(2965, 2982, 1)\n",
    "\n",
    "opt_eff_result = []\n",
    "\n",
    "for i in runs:\n",
    "    listdir = glob.glob(f'../data/muons/real/20201120/v0.8.3/muons_LST-1.Run0{i}*')\n",
    "\n",
    "    dat = Table.read('{}'.format(listdir[0]), format='fits')\n",
    "    for i in range(1,len(listdir)):\n",
    "        dat2 = Table.read('{}'.format(listdir[i]), format='fits')\n",
    "        if(len(dat2) == 0):\n",
    "            continue\n",
    "        dat = vstack([dat, dat2])\n",
    "\n",
    "    df = dat.to_pandas()\n",
    "    df_good_data = df[df['good_ring']]\n",
    "\n",
    "\n",
    "    slope, intercept, r_value, p_value, std_err = stats.linregress(\n",
    "        (df_good_data['ring_radius'][(df_good_data['ring_completeness'] > ring_completeness_cut) & (df_good_data['size_outside'] < size_outside)],\n",
    "         df_good_data['ring_size'][(df_good_data['ring_completeness'] > ring_completeness_cut) & (df_good_data['size_outside'] < size_outside)]))\n",
    "\n",
    "    phe_normalization = intercept + slope * normalization\n",
    "    optical_efficiency = (phe_normalization - intercept_opt_eff)/slope_opt_eff * 100\n",
    "\n",
    "    print(f'Value at radius {normalization} deg {phe_normalization} phe')\n",
    "    print(f'Optical efficiency {optical_efficiency}')\n",
    "    \n",
    "    opt_eff_result.append(optical_efficiency)\n"
   ]
  },
  {
   "cell_type": "markdown",
   "id": "fd60eb30",
   "metadata": {},
   "source": [
    "### Plot the final results"
   ]
  },
  {
   "cell_type": "code",
   "execution_count": 9,
   "id": "20829e9a",
   "metadata": {},
   "outputs": [
    {
     "data": {
      "image/png": "[encoded data removed]",
      "text/plain": [
       "<Figure size 864x576 with 1 Axes>"
      ]
     },
     "metadata": {
      "needs_background": "light"
     },
     "output_type": "display_data"
    }
   ],
   "source": [
    "fig, ax = plt.subplots()\n",
    "ax.scatter(runs, opt_eff_result)\n",
    "ax.set_xlabel('Run number')\n",
    "ax.set_ylabel('Optical efficiency [%]')\n",
    "ax.grid(ls='--', alpha=0.5)"
   ]
  }
 ],
 "metadata": {
  "kernelspec": {
   "display_name": "Python 3 (ipykernel)",
   "language": "python",
   "name": "python3"
  },
  "language_info": {
   "codemirror_mode": {
    "name": "ipython",
    "version": 3
   },
   "file_extension": ".py",
   "mimetype": "text/x-python",
   "name": "python",
   "nbconvert_exporter": "python",
   "pygments_lexer": "ipython3",
   "version": "3.8.10"
  }
 },
 "nbformat": 4,
 "nbformat_minor": 5
}
