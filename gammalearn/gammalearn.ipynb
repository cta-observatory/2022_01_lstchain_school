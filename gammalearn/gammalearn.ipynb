{
 "cells": [
  {
   "cell_type": "markdown",
   "id": "861c95f0-d48f-450c-9991-d07bbb7245bc",
   "metadata": {},
   "source": [
    "# GammaLearn for LST-1 data analysis\n",
    "LST data analysis school, 21-01-2022, Thomas Vuillaume"
   ]
  },
  {
   "cell_type": "markdown",
   "id": "6ae53a42-8d51-4cd9-b3a3-3f072a135582",
   "metadata": {},
   "source": [
    "<img class=\"fit-picture\"\n",
    "     src=\"https://gammalearn.pages.in2p3.fr/pages/images/glearn.png\"\n",
    "     alt=\"GammaLearn logo\" width=\"150\" url=\"https://purl.org/gammalearn\">\n",
    "\n",
    "**All info on https://purl.org/gammalearn**\n",
    "\n",
    "----"
   ]
  },
  {
   "cell_type": "markdown",
   "id": "ed0e1434-babd-4d4f-85a9-ec6521720d10",
   "metadata": {},
   "source": [
    "To run the following, you need to create a new environment and install gammalearn:\n",
    "\n",
    "```\n",
    "mamba env create -f environment_glearn.yml\n",
    "```\n",
    "\n",
    "\n",
    "If you run on the cluster, you may just source the glearn environment:\n",
    "\n",
    "```\n",
    "conda activate /fefs/aswg/workspace/gammalearn/software/miniconda3/envs/gammalearn_v0.7.4\n",
    "```\n",
    "\n",
    "----"
   ]
  },
  {
   "cell_type": "markdown",
   "id": "f101c35c-7bdd-409f-a662-fa02a3ecb9c3",
   "metadata": {},
   "source": [
    "# 🔄 Training on MC DL1 images\n",
    "\n",
    "Training deep networks require GPUs.    \n",
    "For most of you, this tutorial we be done on CPU, involving poor performances.\n",
    "\n",
    "If you have access to a GPU, you may use it (`gpus=1` in the config files)\n"
   ]
  },
  {
   "cell_type": "markdown",
   "id": "2ce6a112-5811-4698-9f24-40f8bfca23eb",
   "metadata": {},
   "source": [
    "```\n",
    "gammalearn  training_mc/gammalearn_experiment_settings_train_MC_lstschool.py\n",
    "```"
   ]
  },
  {
   "cell_type": "code",
   "execution_count": null,
   "id": "4ce5301c-e27e-4813-a6f1-7633b9480ed9",
   "metadata": {},
   "outputs": [],
   "source": []
  },
  {
   "cell_type": "code",
   "execution_count": null,
   "id": "a982162e-859a-4ad0-a46e-cd75e3da9fa4",
   "metadata": {},
   "outputs": [],
   "source": [
    "!ls ../data/gammalearn/experiments/20220121_lstschool_training_mc/ "
   ]
  },
  {
   "cell_type": "markdown",
   "id": "80a7f6cb-3a72-4671-9e16-929113dd6cbd",
   "metadata": {},
   "source": [
    "Training also include testing, the created DL2 files are in the `dl2` directory of the experiments.    \n",
    "These files have the same format as lstchain ones."
   ]
  },
  {
   "cell_type": "code",
   "execution_count": null,
   "id": "276ef2bd-1918-4bc4-b9ae-32ae5de08137",
   "metadata": {},
   "outputs": [],
   "source": []
  },
  {
   "cell_type": "markdown",
   "id": "d5c0ad7a-e642-45ca-b3f6-8ca9843fcc97",
   "metadata": {},
   "source": [
    "# Results on MC DL2 test dataset"
   ]
  },
  {
   "cell_type": "code",
   "execution_count": null,
   "id": "91c93d41-3fe3-4c91-b3ed-45e3063b88cb",
   "metadata": {},
   "outputs": [],
   "source": [
    "import os\n",
    "import pandas as pd\n",
    "from glob import glob\n",
    "import matplotlib.pyplot as plt\n",
    "import numpy as np\n",
    "import ctaplot\n",
    "from lstchain.io.io import dl2_params_lstcam_key, dl1_images_lstcam_key\n",
    "from lstchain.visualization import plot_dl2\n",
    "from lstmcpipe.plots import plot_irfs\n",
    "\n",
    "ctaplot.set_style('notebook')"
   ]
  },
  {
   "cell_type": "code",
   "execution_count": null,
   "id": "933002fd-39a8-471c-8622-0572abe67425",
   "metadata": {},
   "outputs": [],
   "source": [
    "dl2_path = '../data/gammalearn/experiments/20220121_lstschool_training_mc/dl2'\n",
    "assert os.path.exists(dl2_path)\n",
    "os.listdir(dl2_path)"
   ]
  },
  {
   "cell_type": "code",
   "execution_count": null,
   "id": "8cb6ef8a-51d2-4599-8856-8c5c38565daf",
   "metadata": {},
   "outputs": [],
   "source": [
    "def read_dl2(filelist):\n",
    "    return pd.concat([pd.read_hdf(filename, key=dl2_params_lstcam_key) for filename in filelist])"
   ]
  },
  {
   "cell_type": "code",
   "execution_count": null,
   "id": "2614deb3-fb04-4b14-90b2-1e674752c58e",
   "metadata": {},
   "outputs": [],
   "source": [
    "gammas = read_dl2(glob(os.path.join(dl2_path, '*gamma*')))\n",
    "protons = read_dl2(glob(os.path.join(dl2_path, '*proton*')))\n",
    "electrons = read_dl2(glob(os.path.join(dl2_path, '*electron*')))"
   ]
  },
  {
   "cell_type": "code",
   "execution_count": null,
   "id": "14532bd6-1b34-479f-b98d-783df40acac0",
   "metadata": {},
   "outputs": [],
   "source": [
    "gammas"
   ]
  },
  {
   "cell_type": "code",
   "execution_count": null,
   "id": "aebde9e2-21f4-433e-b9e6-6b670d66cc9e",
   "metadata": {},
   "outputs": [],
   "source": []
  },
  {
   "cell_type": "code",
   "execution_count": null,
   "id": "45906e09",
   "metadata": {},
   "outputs": [],
   "source": [
    "plot_dl2.direction_results(gammas)"
   ]
  },
  {
   "cell_type": "code",
   "execution_count": null,
   "id": "9a7957ed",
   "metadata": {},
   "outputs": [],
   "source": [
    "plot_dl2.energy_results(gammas)"
   ]
  },
  {
   "cell_type": "code",
   "execution_count": null,
   "id": "d2e6544a-5e48-407f-a5e5-f79c14699986",
   "metadata": {},
   "outputs": [],
   "source": [
    "plot_dl2.plot_roc_gamma(pd.concat([gammas, protons]));"
   ]
  },
  {
   "cell_type": "code",
   "execution_count": null,
   "id": "3e1cb149-c6c9-4735-946c-6c0781d5b5ac",
   "metadata": {},
   "outputs": [],
   "source": []
  },
  {
   "cell_type": "markdown",
   "id": "fcaf8d3c-83c1-476f-813c-b9412be26153",
   "metadata": {},
   "source": [
    "### 📉 IRFs\n",
    "We can create IRFs from these files, as we did with lstchain dl2 files.    \n",
    "Of course, with such small statistics, we won't go very far 🤷‍♂️"
   ]
  },
  {
   "cell_type": "code",
   "execution_count": null,
   "id": "95c33535-d9aa-4ddf-9a45-dc106ecd902e",
   "metadata": {},
   "outputs": [],
   "source": [
    "!lstchain_merge_hdf5_files -d . -p '../data/gammalearn/experiments/20220121_lstschool_training_mc/dl2/dl2_gamma*' -o dl2_gammalearn_gamma_merged.h5\n",
    "!lstchain_merge_hdf5_files -d . -p '../data/gammalearn/experiments/20220121_lstschool_training_mc/dl2/dl2_proton*' -o dl2_gammalearn_proton_merged.h5\n",
    "!lstchain_merge_hdf5_files -d . -p '../data/gammalearn/experiments/20220121_lstschool_training_mc/dl2/dl2_electron*' -o dl2_gammalearn_electron_merged.h5"
   ]
  },
  {
   "cell_type": "code",
   "execution_count": null,
   "id": "cf9517b1",
   "metadata": {},
   "outputs": [],
   "source": [
    "!lstmcpipe_dl2_to_sensitivity -g dl2_gammalearn_gamma_merged.h5 -p dl2_gammalearn_proton_merged.h5 -e dl2_gammalearn_electron_merged.h5 -o irfs_gammalearn.fits.gz"
   ]
  },
  {
   "cell_type": "code",
   "execution_count": null,
   "id": "7750e011-5f7c-4350-aa83-621f1c5afa82",
   "metadata": {},
   "outputs": [],
   "source": [
    "axes = plot_irfs.plot_summary_from_file('irfs_gammalearn.fits.gz', label='example experiment')"
   ]
  },
  {
   "cell_type": "code",
   "execution_count": null,
   "id": "813cef2f-f3b2-41c6-9545-a47746143348",
   "metadata": {},
   "outputs": [],
   "source": [
    "std_irfs='../data/mc/IRF/20200629_prod5_trans_80/zenith_20deg/south_pointing/20210923_v0.7.5_prod5_trans_80_dynamic_cleaning/off0.4deg/20210923_v075_prod5_trans_80_dynamic_cleaning_gamma_off04deg_sensitivity.fits.gz'"
   ]
  },
  {
   "cell_type": "code",
   "execution_count": null,
   "id": "6e1a16ed-e189-41ca-a048-e0ee43c07f9c",
   "metadata": {},
   "outputs": [],
   "source": [
    "# axes = plot_irfs.plot_summary_from_file('../data/gammalearn/gammaPhysNet_trained/R_0963_irf_sensitivity.fits.gz', label='LST-1 GammaPhysNet') #,  axes=axes)\n",
    "# axes = plot_irfs.plot_summary_from_file(std_irfs, label='LST-1 RFs', axes=axes)\n",
    "\n",
    "# ctaplot.plot_sensitivity_cta_performance('north', ax=axes[0,0])\n",
    "# ctaplot.plot_angular_resolution_cta_performance('north', ax=axes[0,1])\n",
    "# ctaplot.plot_energy_resolution_cta_performance('north', ax=axes[1,0])\n",
    "# ctaplot.plot_effective_area_cta_performance('north', ax=axes[1,1])"
   ]
  },
  {
   "cell_type": "code",
   "execution_count": null,
   "id": "9100cf17-310d-43f9-9f07-862cf7840f49",
   "metadata": {},
   "outputs": [],
   "source": []
  },
  {
   "cell_type": "markdown",
   "id": "45842dde-29a3-4d59-924e-6253d735e9be",
   "metadata": {},
   "source": [
    "# Inference on real data"
   ]
  },
  {
   "cell_type": "markdown",
   "id": "d5979174-295f-4304-9df4-1493546e4f1f",
   "metadata": {},
   "source": [
    "```\n",
    "gammalearn inference_real_data/experiments_settings_lstchool_real.py\n",
    "\n",
    "\n",
    "[INFO] - load settings from inference_real_data/experiments_settings_lstchool_real.py\n",
    "[INFO] - prepare folders\n",
    "[INFO] - Experiment directory: /Users/thomasvuillaume/Work/CTA/Dev/cta-observatory/2022_01_lstchain_school/gammalearn/inference_real_data/../../data/gammalearn/experiments/lstchool_inference/\n",
    "[INFO] - gammalearn 0.8\n",
    "[INFO] - save configuration file\n",
    "[INFO] - Tensorboard run directory: /Users/thomasvuillaume/Work/CTA/Dev/cta-observatory/2022_01_lstchain_school/gammalearn/inference_real_data/../../data/gammalearn/experiments/runs/lstchool_inference\n",
    "[INFO] - Start creating datasets\n",
    "[INFO] - length of data file list : 2\n",
    "[INFO] - test set length : 17368\n",
    "d is a list\n",
    "[INFO] - mp start method: fork\n",
    "[INFO] - Save net definition file\n",
    "[INFO] - network parameters number : 2181849\n",
    "/Users/thomasvuillaume/opt/anaconda3/envs/glearn/lib/python3.8/site-packages/pytorch_lightning/trainer/connectors/checkpoint_connector.py:45: LightningDeprecationWarning: Setting `Trainer(resume_from_checkpoint=)` is deprecated in v1.5 and will be removed in v1.7. Please pass `Trainer.fit(ckpt_path=)` directly instead.\n",
    "  rank_zero_deprecation(\n",
    "[INFO] - Test model\n",
    "[INFO] - test loader length : 18 batches\n",
    "Testing: 0it [00:00, ?it/s][W ParallelNative.cpp:214] Warning: Cannot set number of intraop threads after parallel work has started or after set_num_threads call when using native parallel backend (function set_num_threads)\n",
    "[W ParallelNative.cpp:214] Warning: Cannot set number of intraop threads after parallel work has started or after set_num_threads call when using native parallel backend (function set_num_threads)\n",
    "[W ParallelNative.cpp:214] Warning: Cannot set number of intraop threads after parallel work has started or after set_num_threads call when using native parallel backend (function set_num_threads)\n",
    "[W ParallelNative.cpp:214] Warning: Cannot set number of intraop threads after parallel work has started or after set_num_threads call when using native parallel backend (function set_num_threads)\n",
    "Testing:  33%|███████████████████████████████████████████████████████████████████████████▋\n",
    "```"
   ]
  },
  {
   "cell_type": "code",
   "execution_count": null,
   "id": "b3bc60ac-5687-4410-a4fc-1dc688c761bd",
   "metadata": {},
   "outputs": [],
   "source": []
  },
  {
   "cell_type": "code",
   "execution_count": null,
   "id": "3d04d5fb-6e8d-44ba-a537-eea54a195d3c",
   "metadata": {},
   "outputs": [],
   "source": [
    "from ctapipe.io import read_table\n",
    "from ctapipe.visualization import CameraDisplay\n",
    "from lstchain.io.io import read_camera_geometries\n",
    "from astropy.table import join"
   ]
  },
  {
   "cell_type": "code",
   "execution_count": null,
   "id": "d5e824f9-b924-4d47-9364-4d69bae804c7",
   "metadata": {},
   "outputs": [],
   "source": [
    "dl2_path = '../data/gammalearn/experiments/lstchool_inference/dl2/'\n",
    "assert os.path.exists(dl2_path)\n",
    "os.listdir(dl2_path)"
   ]
  },
  {
   "cell_type": "code",
   "execution_count": null,
   "id": "1cd9aa12-55a2-44e3-ad58-1c5a89711dbe",
   "metadata": {},
   "outputs": [],
   "source": [
    "dl2_filename = os.path.join(dl2_path, 'dl2_LST-1.Run02977.0122.h5')\n",
    "\n",
    "dl2_params = read_table(dl2_filename, path='/' + dl2_params_lstcam_key)\n",
    "dl2_params[:5]"
   ]
  },
  {
   "cell_type": "code",
   "execution_count": null,
   "id": "28adf76b",
   "metadata": {},
   "outputs": [],
   "source": [
    "plt.hist2d(dl2_params['reco_alt'], dl2_params['reco_az'], bins=50);"
   ]
  },
  {
   "cell_type": "code",
   "execution_count": null,
   "id": "fd2ddd59",
   "metadata": {},
   "outputs": [],
   "source": [
    "plt.hist(dl2_params['reco_energy'], bins=np.logspace(-1.5,2,50));\n",
    "plt.xscale('log')"
   ]
  },
  {
   "cell_type": "code",
   "execution_count": null,
   "id": "25b14673",
   "metadata": {},
   "outputs": [],
   "source": [
    "plt.hist(dl2_params['gammaness'], bins=30)\n",
    "plt.yscale('log')"
   ]
  },
  {
   "cell_type": "code",
   "execution_count": null,
   "id": "04f301d6",
   "metadata": {},
   "outputs": [],
   "source": []
  },
  {
   "cell_type": "code",
   "execution_count": null,
   "id": "c4a7dab7",
   "metadata": {},
   "outputs": [],
   "source": [
    "geom =  read_camera_geometries(dl2_filename)['LSTCam']"
   ]
  },
  {
   "cell_type": "code",
   "execution_count": null,
   "id": "65e58a76",
   "metadata": {},
   "outputs": [],
   "source": [
    "image_table = read_table('../data/DL1ab/dl1_LST-1.Run02977.0122.h5',\n",
    "           path='/'+dl1_images_lstcam_key\n",
    "          )"
   ]
  },
  {
   "cell_type": "code",
   "execution_count": null,
   "id": "8624b388",
   "metadata": {},
   "outputs": [],
   "source": [
    "joined_table = join(dl2_params, image_table, keys=['obs_id', 'event_id'])"
   ]
  },
  {
   "cell_type": "code",
   "execution_count": null,
   "id": "5f860523",
   "metadata": {},
   "outputs": [],
   "source": [
    "gamma_events = joined_table[joined_table['gammaness']>0.8]"
   ]
  },
  {
   "cell_type": "code",
   "execution_count": null,
   "id": "726dc05f",
   "metadata": {},
   "outputs": [],
   "source": [
    "gamma_events"
   ]
  },
  {
   "cell_type": "code",
   "execution_count": null,
   "id": "c67ce8b3",
   "metadata": {},
   "outputs": [],
   "source": [
    "for event in gamma_events:\n",
    "    print(event['event_id'])\n",
    "    CameraDisplay(geom, event['image'])\n",
    "    plt.show()"
   ]
  },
  {
   "cell_type": "code",
   "execution_count": null,
   "id": "215b7d01-255f-40e6-a3b1-c09e29de5cb1",
   "metadata": {},
   "outputs": [],
   "source": []
  },
  {
   "cell_type": "code",
   "execution_count": null,
   "id": "4d777c70-877c-420c-a8ea-075568f14ecd",
   "metadata": {},
   "outputs": [],
   "source": []
  }
 ],
 "metadata": {
  "kernelspec": {
   "display_name": "Python 3 (ipykernel)",
   "language": "python",
   "name": "python3"
  },
  "language_info": {
   "codemirror_mode": {
    "name": "ipython",
    "version": 3
   },
   "file_extension": ".py",
   "mimetype": "text/x-python",
   "name": "python",
   "nbconvert_exporter": "python",
   "pygments_lexer": "ipython3",
   "version": "3.8.12"
  }
 },
 "nbformat": 4,
 "nbformat_minor": 5
}
