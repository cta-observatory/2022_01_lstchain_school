{
 "cells": [
  {
   "cell_type": "code",
   "execution_count": 6,
   "id": "fb3f0b57",
   "metadata": {},
   "outputs": [],
   "source": [
    "%matplotlib inline\n",
    "import matplotlib.pyplot as plt\n",
    "import numpy as np\n",
    "from ctapipe.io import read_table\n",
    "from ctapipe.visualization import CameraDisplay\n",
    "from ctapipe_io_lst import load_camera_geometry\n",
    "from ctapipe.coordinates import EngineeringCameraFrame\n",
    "from lstchain.io import get_dataset_keys\n",
    "\n",
    "from ctapipe_io_lst.constants import (\n",
    "    N_GAINS, N_PIXELS, N_MODULES, N_SAMPLES, LOW_GAIN, HIGH_GAIN,\n",
    "    N_PIXELS_MODULE, N_CAPACITORS_PIXEL, N_CAPACITORS_CHANNEL\n",
    ")\n"
   ]
  },
  {
   "cell_type": "markdown",
   "id": "aad1c858",
   "metadata": {},
   "source": [
    "<font size=\"4\"> Basic constants of the LST camera are:</font>"
   ]
  },
  {
   "cell_type": "code",
   "execution_count": 7,
   "id": "39741dab",
   "metadata": {
    "scrolled": true
   },
   "outputs": [
    {
     "name": "stdout",
     "output_type": "stream",
     "text": [
      "N_GAINS 2\n",
      "N_PIXELS 1855\n",
      "N_MODULES 265\n",
      "N_SAMPLES 40\n",
      "LOW_GAIN 1\n",
      "HIGH_GAIN 0\n",
      "N_PIXELS_MODULE 7\n",
      "N_CAPACITORS_PIXEL 4096\n",
      "N_CAPACITORS_CHANNEL 1024\n"
     ]
    }
   ],
   "source": [
    "print(f\"N_GAINS {N_GAINS}\") \n",
    "print(f\"N_PIXELS {N_PIXELS}\")\n",
    "print(f\"N_MODULES {N_MODULES}\")\n",
    "print(f\"N_SAMPLES {N_SAMPLES}\")\n",
    "print(f\"LOW_GAIN {LOW_GAIN}\")\n",
    "print(f\"HIGH_GAIN {HIGH_GAIN}\")\n",
    "print(f\"N_PIXELS_MODULE {N_PIXELS_MODULE}\")\n",
    "print(f\"N_CAPACITORS_PIXEL {N_CAPACITORS_PIXEL}\")\n",
    "print(f\"N_CAPACITORS_CHANNEL {N_CAPACITORS_CHANNEL}\")"
   ]
  },
  {
   "cell_type": "markdown",
   "id": "05ccbaa0",
   "metadata": {},
   "source": [
    "<font size=\"4\">Read the baseline file of date 20210915: <br>\n",
    "<ul>    \n",
    "<li> data in  \n",
    "[data_tree_base_dir]/monitoring/PixelCalibration/LevelA/drs4_baseline/20210915/pro/drs4_pedestal.Run06307.0000.h5    \n",
    "<li> you can check the control plots in \n",
    "[data_tree_base_dir]/monitoring/PixelCalibration/LevelA/drs4_baseline/20210915/pro/log/drs4_pedestal.Run06307.0000.pdf\n",
    "</ul>    \n",
    "</font>\n"
   ]
  },
  {
   "cell_type": "code",
   "execution_count": 11,
   "id": "91e73b8d",
   "metadata": {},
   "outputs": [
    {
     "name": "stdout",
     "output_type": "stream",
     "text": [
      "file keys: ['/r1/monitoring/drs4_baseline/tel_001']\n"
     ]
    }
   ],
   "source": [
    "# change the data tree root dir with your local tree\n",
    "#file_name=\"/fefs/aswg/data/real/monitoring/PixelCalibration/LevelA/drs4_baseline/20210915/pro/drs4_pedestal.Run06307.0000.h5\"\n",
    "file_name=\"/Users/cassol/Documents/soft/2022_01_lstchain_school/data/real/monitoring/PixelCalibration/LevelA/drs4_baseline/20210915/pro/drs4_pedestal.Run06307.0000.h5\"\n",
    "\n",
    "tel_id=1 \n",
    "\n",
    "# find the keys' name\n",
    "dataset_keys=get_dataset_keys(file_name)\n",
    "print(f\"file keys: {dataset_keys}\")\n",
    "\n",
    "# read the table\n",
    "table = read_table(file_name, dataset_keys[0])\n"
   ]
  },
  {
   "cell_type": "code",
   "execution_count": 9,
   "id": "8b1e67a4",
   "metadata": {},
   "outputs": [
    {
     "data": {
      "text/html": [
       "<div><i>Table length=1</i>\n",
       "<table id=\"table140640990194992\" class=\"table-striped table-bordered table-condensed\">\n",
       "<thead><tr><th>time</th><th>time_min</th><th>time_max</th><th>dc_to_pe [2,1855]</th><th>pedestal_per_sample [2,1855]</th><th>time_correction [2,1855]</th><th>n_pe [2,1855]</th><th>unusable_pixels [2,1855]</th></tr></thead>\n",
       "<thead><tr><th>s</th><th>s</th><th>s</th><th></th><th></th><th>ns</th><th></th><th></th></tr></thead>\n",
       "<thead><tr><th>float64</th><th>float64</th><th>float64</th><th>float64</th><th>float64</th><th>float64</th><th>float64</th><th>bool</th></tr></thead>\n",
       "<tr><td>5.873421469906881e-05</td><td>1631760278.86569</td><td>1631760289.0149622</td><td>0.012976351264900562 .. 0.22336443098388722</td><td>-0.9657676219940186 .. 1.1073602437973022</td><td>-1.033951759338379 .. 0.18059825897216797</td><td>91.29148666345827 .. 74.00133836887319</td><td>False .. False</td></tr>\n",
       "</table></div>"
      ],
      "text/plain": [
       "<Table length=1>\n",
       "         time             time_min     ...             n_pe [2,1855]              unusable_pixels [2,1855]\n",
       "          s                  s         ...                                                                \n",
       "       float64            float64      ...                float64                           bool          \n",
       "--------------------- ---------------- ... -------------------------------------- ------------------------\n",
       "5.873421469906881e-05 1631760278.86569 ... 91.29148666345827 .. 74.00133836887319           False .. False"
      ]
     },
     "execution_count": 9,
     "metadata": {},
     "output_type": "execute_result"
    }
   ],
   "source": [
    "# look at the table\n",
    "table"
   ]
  },
  {
   "cell_type": "markdown",
   "id": "9276424e",
   "metadata": {},
   "source": [
    "<font size=\"5\">Exercise: <br>\n",
    "    \n",
    "<font size=\"4\"> Plot the baseline values as function of the capacitors for pixel 0 and the two gain channels<br>"
   ]
  },
  {
   "cell_type": "code",
   "execution_count": 10,
   "id": "1e91ca2b",
   "metadata": {},
   "outputs": [
    {
     "ename": "KeyError",
     "evalue": "'baseline_mean'",
     "output_type": "error",
     "traceback": [
      "\u001b[0;31m---------------------------------------------------------------------------\u001b[0m",
      "\u001b[0;31mKeyError\u001b[0m                                  Traceback (most recent call last)",
      "File \u001b[0;32m~/miniconda3/soft/miniconda3/envs/std_env/lib/python3.8/site-packages/astropy/table/row.py:51\u001b[0m, in \u001b[0;36mRow.__getitem__\u001b[0;34m(self, item)\u001b[0m\n\u001b[1;32m     47\u001b[0m \u001b[38;5;28;01mtry\u001b[39;00m:\n\u001b[1;32m     48\u001b[0m     \u001b[38;5;66;03m# Try the most common use case of accessing a single column in the Row.\u001b[39;00m\n\u001b[1;32m     49\u001b[0m     \u001b[38;5;66;03m# Bypass the TableColumns __getitem__ since that does more testing\u001b[39;00m\n\u001b[1;32m     50\u001b[0m     \u001b[38;5;66;03m# and allows a list of tuple or str, which is not the right thing here.\u001b[39;00m\n\u001b[0;32m---> 51\u001b[0m     out \u001b[38;5;241m=\u001b[39m \u001b[43mOrderedDict\u001b[49m\u001b[38;5;241;43m.\u001b[39;49m\u001b[38;5;21;43m__getitem__\u001b[39;49m\u001b[43m(\u001b[49m\u001b[38;5;28;43mself\u001b[39;49m\u001b[38;5;241;43m.\u001b[39;49m\u001b[43m_table\u001b[49m\u001b[38;5;241;43m.\u001b[39;49m\u001b[43mcolumns\u001b[49m\u001b[43m,\u001b[49m\u001b[43m \u001b[49m\u001b[43mitem\u001b[49m\u001b[43m)\u001b[49m[\u001b[38;5;28mself\u001b[39m\u001b[38;5;241m.\u001b[39m_index]\n\u001b[1;32m     52\u001b[0m \u001b[38;5;28;01mexcept\u001b[39;00m (\u001b[38;5;167;01mKeyError\u001b[39;00m, \u001b[38;5;167;01mTypeError\u001b[39;00m):\n",
      "\u001b[0;31mKeyError\u001b[0m: 'baseline_mean'",
      "\nDuring handling of the above exception, another exception occurred:\n",
      "\u001b[0;31mKeyError\u001b[0m                                  Traceback (most recent call last)",
      "Input \u001b[0;32mIn [10]\u001b[0m, in \u001b[0;36m<module>\u001b[0;34m\u001b[0m\n\u001b[1;32m      1\u001b[0m \u001b[38;5;66;03m# consider the baseline data\u001b[39;00m\n\u001b[0;32m----> 2\u001b[0m baseline_data \u001b[38;5;241m=\u001b[39m \u001b[43mtable\u001b[49m\u001b[43m[\u001b[49m\u001b[38;5;241;43m0\u001b[39;49m\u001b[43m]\u001b[49m\u001b[43m[\u001b[49m\u001b[38;5;124;43m'\u001b[39;49m\u001b[38;5;124;43mbaseline_mean\u001b[39;49m\u001b[38;5;124;43m'\u001b[39;49m\u001b[43m]\u001b[49m\n\u001b[1;32m      3\u001b[0m baseline_data\u001b[38;5;241m.\u001b[39mshape\n",
      "File \u001b[0;32m~/miniconda3/soft/miniconda3/envs/std_env/lib/python3.8/site-packages/astropy/table/row.py:58\u001b[0m, in \u001b[0;36mRow.__getitem__\u001b[0;34m(self, item)\u001b[0m\n\u001b[1;32m     55\u001b[0m         out \u001b[38;5;241m=\u001b[39m \u001b[38;5;28mself\u001b[39m\u001b[38;5;241m.\u001b[39m_table\u001b[38;5;241m.\u001b[39m\u001b[38;5;18m__class__\u001b[39m(cols, copy\u001b[38;5;241m=\u001b[39m\u001b[38;5;28;01mFalse\u001b[39;00m)[\u001b[38;5;28mself\u001b[39m\u001b[38;5;241m.\u001b[39m_index]\n\u001b[1;32m     56\u001b[0m     \u001b[38;5;28;01melse\u001b[39;00m:\n\u001b[1;32m     57\u001b[0m         \u001b[38;5;66;03m# This is only to raise an exception\u001b[39;00m\n\u001b[0;32m---> 58\u001b[0m         out \u001b[38;5;241m=\u001b[39m \u001b[38;5;28;43mself\u001b[39;49m\u001b[38;5;241;43m.\u001b[39;49m\u001b[43m_table\u001b[49m\u001b[38;5;241;43m.\u001b[39;49m\u001b[43mcolumns\u001b[49m\u001b[43m[\u001b[49m\u001b[43mitem\u001b[49m\u001b[43m]\u001b[49m[\u001b[38;5;28mself\u001b[39m\u001b[38;5;241m.\u001b[39m_index]\n\u001b[1;32m     59\u001b[0m \u001b[38;5;28;01mreturn\u001b[39;00m out\n",
      "File \u001b[0;32m~/miniconda3/soft/miniconda3/envs/std_env/lib/python3.8/site-packages/astropy/table/table.py:246\u001b[0m, in \u001b[0;36mTableColumns.__getitem__\u001b[0;34m(self, item)\u001b[0m\n\u001b[1;32m    236\u001b[0m \u001b[38;5;124;03m\"\"\"Get items from a TableColumns object.\u001b[39;00m\n\u001b[1;32m    237\u001b[0m \u001b[38;5;124;03m::\u001b[39;00m\n\u001b[1;32m    238\u001b[0m \n\u001b[0;32m   (...)\u001b[0m\n\u001b[1;32m    243\u001b[0m \u001b[38;5;124;03m  tc[1:3] # <TableColumns names=('b', 'c')>\u001b[39;00m\n\u001b[1;32m    244\u001b[0m \u001b[38;5;124;03m\"\"\"\u001b[39;00m\n\u001b[1;32m    245\u001b[0m \u001b[38;5;28;01mif\u001b[39;00m \u001b[38;5;28misinstance\u001b[39m(item, \u001b[38;5;28mstr\u001b[39m):\n\u001b[0;32m--> 246\u001b[0m     \u001b[38;5;28;01mreturn\u001b[39;00m \u001b[43mOrderedDict\u001b[49m\u001b[38;5;241;43m.\u001b[39;49m\u001b[38;5;21;43m__getitem__\u001b[39;49m\u001b[43m(\u001b[49m\u001b[38;5;28;43mself\u001b[39;49m\u001b[43m,\u001b[49m\u001b[43m \u001b[49m\u001b[43mitem\u001b[49m\u001b[43m)\u001b[49m\n\u001b[1;32m    247\u001b[0m \u001b[38;5;28;01melif\u001b[39;00m \u001b[38;5;28misinstance\u001b[39m(item, (\u001b[38;5;28mint\u001b[39m, np\u001b[38;5;241m.\u001b[39minteger)):\n\u001b[1;32m    248\u001b[0m     \u001b[38;5;28;01mreturn\u001b[39;00m \u001b[38;5;28mlist\u001b[39m(\u001b[38;5;28mself\u001b[39m\u001b[38;5;241m.\u001b[39mvalues())[item]\n",
      "\u001b[0;31mKeyError\u001b[0m: 'baseline_mean'"
     ]
    }
   ],
   "source": [
    "# consider the baseline data\n",
    "baseline_data = table[0]['baseline_mean']\n",
    "baseline_data.shape"
   ]
  },
  {
   "cell_type": "code",
   "execution_count": null,
   "id": "da5f2568",
   "metadata": {},
   "outputs": [],
   "source": [
    "# plot the estimated baseline values for a given pixel\n",
    "pixel=0\n",
    "channel=[\"HG\",\"LG\"]\n",
    "\n",
    "fig, ax = plt.subplots(1, 2, figsize=(12,6),constrained_layout=True)\n",
    "for chan in np.arange(2):\n",
    "    label=f\"channel {channel[chan]}\"\n",
    "    ax[chan].grid(True)\n",
    "    ax[chan].set_ylim(395,405)\n",
    "    ped_median=np.median(baseline_data[chan,pixel,:])\n",
    "    ax[chan].plot(baseline_data[chan,pixel,:],label=label)\n",
    "    ax[chan].axhline(ped_median, color='red',linestyle=\"--\")\n",
    "    ax[chan].set_ylabel(f'baseline [ADC]',fontsize=20) \n",
    "    ax[chan].set_xlabel(f'capacitor',fontsize=20) \n",
    "   \n",
    "    ax[chan].legend(prop={'size':15})\n"
   ]
  },
  {
   "cell_type": "markdown",
   "id": "441d76c5",
   "metadata": {},
   "source": [
    "<font size=\"5\">Exercises  : <br>\n",
    "\n",
    "<ol>\n",
    "<li> <font size=\"4\"> Plot the counts as function of the capacitors for pixel 0 for the two gain channels<br>\n",
    "<li> <font size=\"4\"> Plot the height of the 3 types of spikes in a single histogram for each gain channel     \n",
    "</ol>    \n",
    "</font>\n",
    "<br>\n",
    "<font size=\"4\">  Look at the notebook read_pedestal_files_exercise_solutions.ipynb for the solution "
   ]
  },
  {
   "cell_type": "code",
   "execution_count": null,
   "id": "3108e0e2",
   "metadata": {},
   "outputs": [],
   "source": []
  },
  {
   "cell_type": "code",
   "execution_count": null,
   "id": "7e9f9a13",
   "metadata": {},
   "outputs": [],
   "source": []
  }
 ],
 "metadata": {
  "kernelspec": {
   "display_name": "Python 3 (ipykernel)",
   "language": "python",
   "name": "python3"
  },
  "language_info": {
   "codemirror_mode": {
    "name": "ipython",
    "version": 3
   },
   "file_extension": ".py",
   "mimetype": "text/x-python",
   "name": "python",
   "nbconvert_exporter": "python",
   "pygments_lexer": "ipython3",
   "version": "3.8.12"
  }
 },
 "nbformat": 4,
 "nbformat_minor": 5
}
