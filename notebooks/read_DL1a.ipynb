{
 "cells": [
  {
   "cell_type": "code",
   "execution_count": 22,
   "id": "italian-enforcement",
   "metadata": {},
   "outputs": [],
   "source": [
    "import matplotlib.pyplot as plt\n",
    "import numpy as np\n",
    "from ctapipe.io import read_table\n",
    "\n",
    "%matplotlib inline"
   ]
  },
  {
   "cell_type": "code",
   "execution_count": 23,
   "id": "turkish-psychology",
   "metadata": {},
   "outputs": [],
   "source": [
    "filename = \"/fefs/aswg/data/real/DL1/20201120/v0.7.3/tailcut84/dl1_LST-1.Run02969.0010.h5\""
   ]
  },
  {
   "cell_type": "code",
   "execution_count": 24,
   "id": "c3cb4e01",
   "metadata": {},
   "outputs": [],
   "source": [
    "tablename = \"/dl1/event/telescope/image/LST_LSTCam\"\n",
    "camera = read_table(filename, tablename)\n",
    "tablename = \"/dl1/event/telescope/parameters/LST_LSTCam\"\n",
    "params = read_table(filename, tablename)"
   ]
  },
  {
   "cell_type": "code",
   "execution_count": 25,
   "id": "9aaf2ef7",
   "metadata": {},
   "outputs": [
    {
     "name": "stdout",
     "output_type": "stream",
     "text": [
      "<TableColumns names=('obs_id','event_id','image','peak_time','tel_id','selected_gain_channel')>\n",
      "<TableColumns names=('obs_id','event_id','intensity','log_intensity','x','y','r','phi','length','width','psi','skewness','kurtosis','time_gradient','intercept','leakage_intensity_width_1','leakage_intensity_width_2','leakage_pixels_width_1','leakage_pixels_width_2','n_pixels','concentration_cog','concentration_core','concentration_pixel','n_islands','alt_tel','az_tel','calibration_id','dragon_time','ucts_time','tib_time','mc_type','wl','tel_id','tel_pos_x','tel_pos_y','tel_pos_z','trigger_type','ucts_trigger_type','trigger_time','event_type')>\n"
     ]
    }
   ],
   "source": [
    "print(camera.columns)\n",
    "print(params.columns)"
   ]
  },
  {
   "cell_type": "code",
   "execution_count": 26,
   "id": "cardiovascular-installation",
   "metadata": {},
   "outputs": [
    {
     "data": {
      "image/png": "[encoded data removed]",
      "text/plain": [
       "<Figure size 720x576 with 1 Axes>"
      ]
     },
     "metadata": {
      "needs_background": "light"
     },
     "output_type": "display_data"
    }
   ],
   "source": [
    "plt.figure(figsize=(10,8))\n",
    "\n",
    "# select cosmics:\n",
    "mask = (params['event_type']==32)\n",
    "\n",
    "pix_charges = camera[mask]['image'].flatten() # all pixels together\n",
    "pix_charges = pix_charges[pix_charges>0] # just to avoid warning on log of <0 values\n",
    "\n",
    "plt.hist(np.log10(pix_charges), bins=200, range=(-1, 4), log=True, histtype='step')\n",
    "plt.grid()\n",
    "plt.xlabel('log10(pixel charge / p.e.)')\n",
    "plt.ylabel('events')\n",
    "plt.show()"
   ]
  },
  {
   "cell_type": "code",
   "execution_count": null,
   "id": "overall-smoke",
   "metadata": {},
   "outputs": [],
   "source": []
  },
  {
   "cell_type": "code",
   "execution_count": null,
   "id": "olive-genesis",
   "metadata": {},
   "outputs": [],
   "source": []
  }
 ],
 "metadata": {
  "kernelspec": {
   "display_name": "Python 3 (ipykernel)",
   "language": "python",
   "name": "python3"
  },
  "language_info": {
   "codemirror_mode": {
    "name": "ipython",
    "version": 3
   },
   "file_extension": ".py",
   "mimetype": "text/x-python",
   "name": "python",
   "nbconvert_exporter": "python",
   "pygments_lexer": "ipython3",
   "version": "3.7.12"
  }
 },
 "nbformat": 4,
 "nbformat_minor": 5
}
