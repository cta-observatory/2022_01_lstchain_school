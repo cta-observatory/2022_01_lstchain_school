{
 "cells": [
  {
   "cell_type": "code",
   "execution_count": null,
   "id": "italian-enforcement",
   "metadata": {},
   "outputs": [],
   "source": [
    "import matplotlib.pyplot as plt\n",
    "import numpy as np\n",
    "from ctapipe.io import read_table\n",
    "from ctapipe.containers import EventType\n",
    "\n",
    "%matplotlib inline"
   ]
  },
  {
   "cell_type": "code",
   "execution_count": null,
   "id": "turkish-psychology",
   "metadata": {},
   "outputs": [],
   "source": [
    "# Path to an LST-1 DL1 file (contains calibrated camera images and image parameters): \n",
    "filename = \"/fefs/aswg/data/real/DL1/20201120/v0.7.3/tailcut84/dl1_LST-1.Run02969.0010.h5\""
   ]
  },
  {
   "cell_type": "code",
   "execution_count": null,
   "id": "c3cb4e01",
   "metadata": {},
   "outputs": [],
   "source": [
    "# camera images:\n",
    "tablename = \"/dl1/event/telescope/image/LST_LSTCam\"\n",
    "camera = read_table(filename, tablename)\n",
    "\n",
    "# parameters:\n",
    "tablename = \"/dl1/event/telescope/parameters/LST_LSTCam\"\n",
    "params = read_table(filename, tablename)"
   ]
  },
  {
   "cell_type": "code",
   "execution_count": null,
   "id": "9aaf2ef7",
   "metadata": {},
   "outputs": [],
   "source": [
    "# Have a look at the contents:\n",
    "print(camera.columns)\n",
    "print(params.columns)"
   ]
  },
  {
   "cell_type": "code",
   "execution_count": null,
   "id": "cardiovascular-installation",
   "metadata": {},
   "outputs": [],
   "source": [
    "# Have a look at the pixel charges:\n",
    "plt.figure(figsize=(10,8))\n",
    "\n",
    "nbins = 200\n",
    "xrange = (-1, 4)\n",
    "\n",
    "event_types = [EventType.SUBARRAY.value,\n",
    "               EventType.SKY_PEDESTAL.value,\n",
    "               EventType.FLATFIELD.value]\n",
    "\n",
    "for type, name in zip(event_types, ['cosmics', 'pedestals', 'flatfield']):\n",
    "        \n",
    "    # select type of event & histogram pixel charges:\n",
    "    mask = (params['event_type'] == type)\n",
    "    pix_charges = camera[mask]['image'].flatten() # all pixels together\n",
    "    pix_charges = pix_charges[pix_charges>0] # just to avoid warning on log of <0 values\n",
    "    plt.hist(np.log10(pix_charges), bins=nbins, range=xrange, log=True, \n",
    "             histtype='step', label=name)\n",
    "\n",
    "plt.grid()\n",
    "plt.legend()\n",
    "plt.xlabel('log10(pixel charge / p.e.)')\n",
    "plt.ylabel('events')\n",
    "plt.show()"
   ]
  },
  {
   "cell_type": "code",
   "execution_count": null,
   "id": "overall-smoke",
   "metadata": {},
   "outputs": [],
   "source": []
  },
  {
   "cell_type": "code",
   "execution_count": null,
   "id": "olive-genesis",
   "metadata": {},
   "outputs": [],
   "source": []
  }
 ],
 "metadata": {
  "kernelspec": {
   "display_name": "Python 3 (ipykernel)",
   "language": "python",
   "name": "python3"
  },
  "language_info": {
   "codemirror_mode": {
    "name": "ipython",
    "version": 3
   },
   "file_extension": ".py",
   "mimetype": "text/x-python",
   "name": "python",
   "nbconvert_exporter": "python",
   "pygments_lexer": "ipython3",
   "version": "3.7.12"
  }
 },
 "nbformat": 4,
 "nbformat_minor": 5
}
