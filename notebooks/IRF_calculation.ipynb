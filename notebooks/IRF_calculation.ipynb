{
 "cells": [
  {
   "cell_type": "markdown",
   "id": "64980a97-e6ea-461f-b25a-e9070b77d3f8",
   "metadata": {},
   "source": [
    "# pyIRF\n",
    "\n",
    "Code adapted from the pyIRF example to LST-1 data"
   ]
  },
  {
   "cell_type": "code",
   "execution_count": null,
   "id": "451f3c7b-fb06-4739-8c5c-ae8c836b7ae2",
   "metadata": {},
   "outputs": [],
   "source": [
    "import lstchain\n",
    "print(f\"lstchain version {lstchain.__version__}\")\n",
    "import pyirf\n",
    "print(f\"pyirf version {pyirf.__version__}\")"
   ]
  },
  {
   "cell_type": "code",
   "execution_count": null,
   "id": "d9c84c70-3db1-4100-953e-f91d61353570",
   "metadata": {},
   "outputs": [],
   "source": [
    "import matplotlib.pyplot as plt\n",
    "import ctaplot\n",
    "ctaplot.set_style('notebook')"
   ]
  },
  {
   "cell_type": "code",
   "execution_count": null,
   "id": "265621ef-ded5-4b91-82c7-c609299231df",
   "metadata": {},
   "outputs": [],
   "source": [
    "import tables\n",
    "import numpy as np\n",
    "import astropy.units as u\n",
    "from astropy.table import QTable\n",
    "import matplotlib.pyplot as plt\n",
    "from matplotlib.colors import LogNorm"
   ]
  },
  {
   "cell_type": "code",
   "execution_count": null,
   "id": "f5ebff11-bc79-4a4a-b9a2-a4753d08dce4",
   "metadata": {},
   "outputs": [],
   "source": [
    "import operator\n",
    "from pathlib import Path\n",
    "import numpy as np\n",
    "from astropy import table\n",
    "import astropy.units as u\n",
    "from astropy.io import fits\n",
    "\n",
    "from pyirf.binning import (\n",
    "    create_bins_per_decade,\n",
    "    add_overflow_bins,\n",
    "    create_histogram_table,\n",
    ")\n",
    "from pyirf.cuts import calculate_percentile_cut, evaluate_binned_cut\n",
    "from pyirf.sensitivity import calculate_sensitivity, estimate_background\n",
    "from pyirf.utils import calculate_theta, calculate_source_fov_offset\n",
    "from pyirf.benchmarks import energy_bias_resolution, angular_resolution\n",
    "from pyirf.benchmarks.energy_bias_resolution import energy_resolution_absolute_68\n",
    "\n",
    "from pyirf.spectral import (\n",
    "    calculate_event_weights,\n",
    "    PowerLaw,\n",
    "    CRAB_HEGRA,\n",
    "    IRFDOC_PROTON_SPECTRUM,\n",
    "    IRFDOC_ELECTRON_SPECTRUM,\n",
    ")\n",
    "from pyirf.cut_optimization import optimize_gh_cut\n",
    "\n",
    "from pyirf.irf import (\n",
    "    effective_area_per_energy,\n",
    "    energy_dispersion,\n",
    "    psf_table,\n",
    "    background_2d,\n",
    ")\n",
    "\n",
    "from pyirf.io import (\n",
    "    create_aeff2d_hdu,\n",
    "    create_psf_table_hdu,\n",
    "    create_energy_dispersion_hdu,\n",
    "    create_rad_max_hdu,\n",
    "    create_background_2d_hdu,\n",
    ")\n",
    "\n",
    "from lstchain.io.io import read_mc_dl2_to_QTable\n",
    "\n",
    "from lstchain.reco.utils import filter_events"
   ]
  },
  {
   "cell_type": "code",
   "execution_count": null,
   "id": "db11f2e8-17b7-4c08-b027-f1195994facc",
   "metadata": {},
   "outputs": [],
   "source": []
  },
  {
   "cell_type": "code",
   "execution_count": null,
   "id": "05f91355-ca75-48a3-aae8-6df58be9b427",
   "metadata": {},
   "outputs": [],
   "source": [
    "T_OBS = 50 * u.hour\n",
    "\n",
    "# scaling between on and off region.\n",
    "# Make off region 10 times larger than on region for better\n",
    "# background statistics\n",
    "ALPHA = 0.1\n",
    "\n",
    "# Radius to use for calculating background rate\n",
    "MAX_BG_RADIUS = 1 * u.deg\n",
    "MAX_GH_CUT_EFFICIENCY = 0.9\n",
    "GH_CUT_EFFICIENCY_STEP = 0.01\n",
    "\n",
    "# gh cut used for first calculation of the binned theta cuts = initial proportion of gammas to keep\n",
    "INITIAL_GH_CUT_EFFICENCY = 0.4\n",
    "\n",
    "MIN_THETA_CUT = 0.1 * u.deg\n",
    "MAX_THETA_CUT = 0.5 * u.deg\n",
    "\n",
    "MIN_ENERGY = 20.0 * u.GeV\n",
    "MAX_ENERGY = 20.05 * u.TeV\n",
    "\n",
    "# same number of bins per decade than official CTA IRFs\n",
    "N_BIN_PER_DECADE = 5\n",
    "\n"
   ]
  },
  {
   "cell_type": "code",
   "execution_count": null,
   "id": "b8646c01-686f-4ba0-8211-929244ea1c7e",
   "metadata": {},
   "outputs": [],
   "source": [
    "ls /fefs/aswg/data/mc/DL2/20200629_prod5_trans_80/gamma/zenith_20deg/south_pointing/20210923_v0.7.5_prod5_trans_80_dynamic_cleaning/off0.4deg/"
   ]
  },
  {
   "cell_type": "code",
   "execution_count": null,
   "id": "7f9d8e40-fe2a-4255-81eb-b282a7299a40",
   "metadata": {},
   "outputs": [],
   "source": [
    "gamma_file = '/fefs/aswg/data/mc/DL2/20200629_prod5_trans_80/gamma/zenith_20deg/south_pointing/20210923_v0.7.5_prod5_trans_80_dynamic_cleaning/off0.4deg/dl2_gamma_20deg_180deg_off0.4deg_20210923_v0.7.5_prod5_trans_80_dynamic_cleaning_testing.h5'\n",
    "proton_file = '/fefs/aswg/data/mc/DL2/20200629_prod5_trans_80/proton/zenith_20deg/south_pointing/20210923_v0.7.5_prod5_trans_80_dynamic_cleaning/dl2_proton_20deg_180deg_20210923_v0.7.5_prod5_trans_80_dynamic_cleaning_testing.h5'\n",
    "electron_file = '/fefs/aswg/data/mc/DL2/20200629_prod5_trans_80/electron/zenith_20deg/south_pointing/20210923_v0.7.5_prod5_trans_80_dynamic_cleaning/dl2_electron_20deg_180deg_20210923_v0.7.5_prod5_trans_80_dynamic_cleaning_testing.h5'\n",
    "\n",
    "particles = {\n",
    "    \"gamma\": {\"file\": gamma_file, \"target_spectrum\": CRAB_HEGRA},\n",
    "    \"proton\": {\"file\": proton_file, \"target_spectrum\": IRFDOC_PROTON_SPECTRUM},\n",
    "    \"electron\": {\n",
    "        \"file\": electron_file,\n",
    "        \"target_spectrum\": IRFDOC_ELECTRON_SPECTRUM,\n",
    "    },\n",
    "}"
   ]
  },
  {
   "cell_type": "code",
   "execution_count": null,
   "id": "32a65568-9ae3-41ba-b108-787e97bc6dcf",
   "metadata": {},
   "outputs": [],
   "source": [
    "filters = {\n",
    "    'intensity': [10, np.inf],\n",
    "}"
   ]
  },
  {
   "cell_type": "markdown",
   "id": "27010af3-876b-4e27-89c9-2e3464e073ca",
   "metadata": {},
   "source": [
    "## Data Loading"
   ]
  },
  {
   "cell_type": "code",
   "execution_count": null,
   "id": "f0b0534a-eba6-470b-a168-fda7ee998b6f",
   "metadata": {},
   "outputs": [],
   "source": [
    "for particle_type, p in particles.items():\n",
    "    p[\"events\"], p[\"simulation_info\"] = read_mc_dl2_to_QTable(p[\"file\"])\n",
    "    p['events'] = filter_events(p['events'], filters)\n",
    "    p[\"simulated_spectrum\"] = PowerLaw.from_simulation(p[\"simulation_info\"], T_OBS)\n",
    "    p[\"events\"][\"weight\"] = calculate_event_weights(\n",
    "            p[\"events\"][\"true_energy\"], p[\"target_spectrum\"], p[\"simulated_spectrum\"]\n",
    "        )\n",
    "    \n",
    "    for prefix in (\"true\", \"reco\"):\n",
    "            k = f\"{prefix}_source_fov_offset\"\n",
    "            p[\"events\"][k] = calculate_source_fov_offset(p[\"events\"], prefix=prefix)\n",
    "\n",
    "    \n",
    "    \n",
    "gammas = particles[\"gamma\"][\"events\"]\n",
    "# background table composed of both electrons and protons\n",
    "background = table.vstack(\n",
    "    [particles[\"proton\"][\"events\"], particles[\"electron\"][\"events\"]]\n",
    ")\n",
    "\n",
    "source_alt, source_az = gammas['true_alt'][0], gammas['true_az'][0]\n",
    "for particle_type, p in particles.items():\n",
    "    # calculate theta / distance between reco and assumed source position\n",
    "    # we handle only ON observations here, so the assumed source pos is the pointing position\n",
    "    p[\"events\"][\"theta\"] = calculate_theta(p[\"events\"], assumed_source_az=source_az, assumed_source_alt=source_alt)\n"
   ]
  },
  {
   "cell_type": "code",
   "execution_count": null,
   "id": "e5e1c5fe-ad67-46c6-96ee-9e44e8398fd8",
   "metadata": {},
   "outputs": [],
   "source": [
    "print(particles['gamma']['simulation_info'])\n",
    "\n",
    "gammas[:5]"
   ]
  },
  {
   "cell_type": "markdown",
   "id": "156665d8-6652-483c-a48b-9f02b3b5e927",
   "metadata": {},
   "source": [
    "## First round"
   ]
  },
  {
   "cell_type": "code",
   "execution_count": null,
   "id": "f0d0eb5a-76a3-4bec-8c02-2097c5c9d671",
   "metadata": {},
   "outputs": [],
   "source": [
    "hist_opt = dict(density=False, alpha=0.8, bins=40, log=True)\n",
    "fig, ax = plt.subplots()\n",
    "ax.hist(gammas[\"gh_score\"], cumulative=True, **hist_opt, label='cumul')\n",
    "ax.hist(gammas[\"gh_score\"], cumulative=False, **hist_opt, color=plt.rcParams['axes.prop_cycle'].by_key()['color'][2])\n",
    "ax.set_xlabel('GH score')\n",
    "ax.legend()\n",
    "plt.show()"
   ]
  },
  {
   "cell_type": "code",
   "execution_count": null,
   "id": "778be9f6-6af8-42dd-81f2-e9dce4866b85",
   "metadata": {},
   "outputs": [],
   "source": [
    "INITIAL_GH_CUT = np.quantile(gammas[\"gh_score\"], (1 - INITIAL_GH_CUT_EFFICENCY))\n",
    "theta_energy_bins = add_overflow_bins(create_bins_per_decade(MIN_ENERGY, MAX_ENERGY, N_BIN_PER_DECADE))\n",
    "\n",
    "print(f\"theta energy bins: {theta_energy_bins}\")\n",
    "\n",
    "# theta cut is 68 percent containment of the gammas\n",
    "# for now with a fixed global, unoptimized score cut\n",
    "\n",
    "mask_theta_cuts = gammas[\"gh_score\"] >= INITIAL_GH_CUT\n",
    "theta_cuts = calculate_percentile_cut(\n",
    "    gammas[\"theta\"][mask_theta_cuts],\n",
    "    gammas[\"reco_energy\"][mask_theta_cuts],\n",
    "    bins=theta_energy_bins,\n",
    "    min_value=MIN_THETA_CUT,\n",
    "    fill_value=MAX_THETA_CUT,\n",
    "    max_value=MAX_THETA_CUT,\n",
    "    percentile=68,\n",
    ")\n",
    "\n",
    "theta_cuts"
   ]
  },
  {
   "cell_type": "code",
   "execution_count": null,
   "id": "4839ae9d-9758-4c70-b40f-82634c7c7efe",
   "metadata": {},
   "outputs": [],
   "source": [
    "from astropy.visualization import quantity_support"
   ]
  },
  {
   "cell_type": "code",
   "execution_count": null,
   "id": "9be5b34c-bfd1-427a-bf5c-c98cecfb53ab",
   "metadata": {},
   "outputs": [],
   "source": [
    "plt.figure(figsize=(7,4))\n",
    "with quantity_support():\n",
    "    plt.errorbar(theta_cuts['center'], theta_cuts['cut'], xerr=(theta_cuts['center']-theta_cuts['low'], theta_cuts['high']-theta_cuts['center']), ls='--')\n",
    "plt.xscale('log')\n",
    "plt.ylabel('theta cut / deg')\n",
    "plt.grid(True, which='both')\n",
    "plt.show()"
   ]
  },
  {
   "cell_type": "code",
   "execution_count": null,
   "id": "62d8350f-b730-434f-a6d9-5b2751b9d01c",
   "metadata": {},
   "outputs": [],
   "source": [
    "sensitivity_bins = add_overflow_bins(create_bins_per_decade(MIN_ENERGY, MAX_ENERGY, bins_per_decade=N_BIN_PER_DECADE))\n",
    "sensitivity_bins"
   ]
  },
  {
   "cell_type": "code",
   "execution_count": null,
   "id": "b8fdba18-a270-4cbe-90b8-29f56d3c8402",
   "metadata": {},
   "outputs": [],
   "source": [
    "# Optimizing G/H separation cut for best sensitivity\n",
    "gh_cut_efficiencies = np.arange(\n",
    "    GH_CUT_EFFICIENCY_STEP,\n",
    "    MAX_GH_CUT_EFFICIENCY + GH_CUT_EFFICIENCY_STEP / 2,\n",
    "    GH_CUT_EFFICIENCY_STEP,\n",
    ")\n",
    "\n",
    "sensitivity_step_2, gh_cuts = optimize_gh_cut(\n",
    "        gammas,\n",
    "        background,\n",
    "        reco_energy_bins=sensitivity_bins,\n",
    "        gh_cut_efficiencies=gh_cut_efficiencies,\n",
    "        op=operator.ge,\n",
    "        theta_cuts=theta_cuts,\n",
    "        alpha=ALPHA,\n",
    "        background_radius=MAX_BG_RADIUS,\n",
    ")"
   ]
  },
  {
   "cell_type": "code",
   "execution_count": null,
   "id": "2573b633-7594-45fd-9d89-482c76a0a4de",
   "metadata": {},
   "outputs": [],
   "source": [
    "sensitivity_step_2"
   ]
  },
  {
   "cell_type": "code",
   "execution_count": null,
   "id": "6f388e95-7f9f-437d-9fb7-3688dc982d33",
   "metadata": {},
   "outputs": [],
   "source": [
    "fig, axes = plt.subplots(1, 2, figsize=(15, 5))\n",
    "\n",
    "ax = axes[0]\n",
    "\n",
    "_,_,_,im = ax.hist2d(gammas['reco_energy'].to_value(u.TeV), gammas['gh_score'],\n",
    "           bins=(np.logspace(-2, 1, 100), np.linspace(0, 1, 100)),\n",
    "           norm=LogNorm()\n",
    "          );\n",
    "plt.colorbar(im, ax=ax)\n",
    "\n",
    "ax.plot(gh_cuts['center'].to_value(u.TeV), gh_cuts['cut'], color='red', ls='--')\n",
    "ax.fill_between(gh_cuts['center'].to_value(u.TeV), 0, gh_cuts['cut'], color='none', alpha=0.8, hatch=\"x\", edgecolor='red', label='removed')\n",
    "ax.set_title('Gammas events selection based on GH score')\n",
    "\n",
    "\n",
    "### Exercise: do the same with the background\n",
    "\n",
    "ax = axes[1]\n",
    "ax.set_title('Background events selection based on GH score')\n",
    "\n",
    "\n",
    "for ax in axes:\n",
    "    ax.set_xscale('log')\n",
    "    ax.set_xlabel('Energy/TeV')\n",
    "    ax.set_ylabel('gh score')\n",
    "    ax.legend()\n",
    "\n",
    "plt.show()"
   ]
  },
  {
   "cell_type": "code",
   "execution_count": null,
   "id": "6730b1c1-4727-43e5-8b8f-9d9d857a39b2",
   "metadata": {},
   "outputs": [],
   "source": [
    "# now that we have the optimized gh cuts, we recalculate the theta\n",
    "# cut as 68 percent containment on the events surviving these cuts.\n",
    "\n",
    "for tab in (gammas, background):\n",
    "    tab[\"selected_gh\"] = evaluate_binned_cut(\n",
    "        tab[\"gh_score\"], tab[\"reco_energy\"], gh_cuts, operator.ge\n",
    "    )\n",
    "    \n",
    "theta_cuts_opt = calculate_percentile_cut(\n",
    "        gammas[gammas[\"selected_gh\"]][\"theta\"],\n",
    "        gammas[gammas[\"selected_gh\"]][\"reco_energy\"],\n",
    "        theta_energy_bins,\n",
    "        percentile=68,\n",
    "        fill_value=MAX_THETA_CUT,\n",
    "        max_value=MAX_THETA_CUT,\n",
    "        min_value=MIN_THETA_CUT,\n",
    ")\n",
    "\n",
    "gammas[\"selected_theta\"] = evaluate_binned_cut(\n",
    "        gammas[\"theta\"], gammas[\"reco_energy\"], theta_cuts_opt, operator.le\n",
    "    )\n",
    "\n",
    "theta_cuts_opt"
   ]
  },
  {
   "cell_type": "code",
   "execution_count": null,
   "id": "936d892f-ae88-455a-8f98-9a26469b513f",
   "metadata": {},
   "outputs": [],
   "source": [
    "fig, axes = plt.subplots(1, 2, figsize=(10, 3))\n",
    "\n",
    "ax = axes[0]\n",
    "\n",
    "_,_,_,im = ax.hist2d(gammas['reco_energy'].to_value(u.TeV), gammas['theta'].to_value(u.deg),\n",
    "           bins=(np.logspace(-2, 1, 100), np.linspace(0, 2, 100)),\n",
    "           norm=LogNorm()\n",
    "          );\n",
    "plt.colorbar(im, ax=ax)\n",
    "\n",
    "ax.plot(theta_cuts['center'].to_value(u.TeV), theta_cuts['cut'].to_value(u.deg), color='red', ls='--')\n",
    "ax.fill_between(theta_cuts['center'].to_value(u.TeV), theta_cuts['cut'].to_value(u.deg), 4, color='none', alpha=0.8, hatch=\"x\", edgecolor='red', label='removed')\n",
    "ax.set_title('Gammas selection based on theta cut')\n",
    "\n",
    "\n",
    "### Exercise: do the same with the background\n",
    "\n",
    "ax = axes[1]\n",
    "\n",
    "ax.set_title('Background events selection based on theta cut')\n",
    "\n",
    "\n",
    "for ax in axes:\n",
    "    ax.set_xscale('log')\n",
    "    ax.set_xlabel('Energy/TeV')\n",
    "    ax.set_ylabel('theta (deg)')\n",
    "    ax.legend()\n",
    "\n",
    "plt.show()"
   ]
  },
  {
   "cell_type": "code",
   "execution_count": null,
   "id": "86373eee-372c-4a9c-a980-6a47c348338c",
   "metadata": {},
   "outputs": [],
   "source": [
    "gammas[\"selected\"] = gammas[\"selected_theta\"] & gammas[\"selected_gh\"]\n",
    "\n",
    "print(\n",
    "    f\"Total number of gammas: {len(gammas)}\\n\",\n",
    "    f\"After GH score selection: {100*np.count_nonzero(gammas['selected_gh'])/len(gammas):.2f}%\\n\",\n",
    "    f\"After theta selection: {100*np.count_nonzero(gammas['selected_theta'])/len(gammas):.2f}%\\n\",\n",
    "    f\"After both selection: {100*np.count_nonzero(gammas['selected'])/len(gammas):.2f}%\\n\",\n",
    ")"
   ]
  },
  {
   "cell_type": "code",
   "execution_count": null,
   "id": "4c32036f-22e7-496e-9af1-ecefa4892122",
   "metadata": {},
   "outputs": [],
   "source": [
    "# calculate sensitivity\n",
    "signal_hist = create_histogram_table(\n",
    "    gammas[gammas[\"selected\"]], bins=sensitivity_bins\n",
    ")\n",
    "background_hist = estimate_background(\n",
    "    background[background[\"selected_gh\"]],\n",
    "    reco_energy_bins=sensitivity_bins,\n",
    "    theta_cuts=theta_cuts_opt,\n",
    "    alpha=ALPHA,\n",
    "    background_radius=MAX_BG_RADIUS,\n",
    ")\n",
    "sensitivity = calculate_sensitivity(signal_hist, background_hist, alpha=ALPHA)\n",
    "\n",
    "# scale relative sensitivity by Crab flux to get the flux sensitivity\n",
    "spectrum = particles[\"gamma\"][\"target_spectrum\"]\n",
    "for s in (sensitivity_step_2, sensitivity):\n",
    "    s[\"flux_sensitivity\"] = s[\"relative_sensitivity\"] * spectrum(s[\"reco_energy_center\"])\n",
    "    s[\"flux_sensitivity\"] = s[\"flux_sensitivity\"].to(1/(u.TeV * u.cm**2 * u.s))\n",
    "\n",
    "\n",
    "sensitivity"
   ]
  },
  {
   "cell_type": "markdown",
   "id": "2f144773-34d7-4871-bd63-2e0ccc145d10",
   "metadata": {},
   "source": [
    "## Calculating IRFs"
   ]
  },
  {
   "cell_type": "code",
   "execution_count": null,
   "id": "84cd0b5d-dd08-4082-b6ff-2fc892bc7efa",
   "metadata": {},
   "outputs": [],
   "source": [
    "\n",
    "hdus = [\n",
    "    fits.PrimaryHDU(),\n",
    "    fits.BinTableHDU(sensitivity, name=\"SENSITIVITY\"),\n",
    "    fits.BinTableHDU(sensitivity_step_2, name=\"SENSITIVITY_STEP_2\"),\n",
    "    fits.BinTableHDU(theta_cuts, name=\"THETA_CUTS\"),\n",
    "    fits.BinTableHDU(theta_cuts_opt, name=\"THETA_CUTS_OPT\"),\n",
    "    fits.BinTableHDU(gh_cuts, name=\"GH_CUTS\"),\n",
    "]\n",
    "\n",
    "masks = {\n",
    "    \"\": gammas[\"selected\"],\n",
    "    \"_NO_CUTS\": slice(None),\n",
    "    \"_ONLY_GH\": gammas[\"selected_gh\"],\n",
    "    \"_ONLY_THETA\": gammas[\"selected_theta\"],\n",
    "}\n",
    "\n",
    "# binnings for the irfs\n",
    "true_energy_bins = add_overflow_bins(\n",
    "    create_bins_per_decade(MIN_ENERGY, MAX_ENERGY, N_BIN_PER_DECADE)\n",
    ")\n",
    "reco_energy_bins = add_overflow_bins(\n",
    "    create_bins_per_decade(MIN_ENERGY, MAX_ENERGY, N_BIN_PER_DECADE)\n",
    ")\n",
    "\n",
    "fov_offset_bins = [0, 0.6] * u.deg\n",
    "source_offset_bins = np.arange(0, 1 + 1e-4, 1e-3) * u.deg\n",
    "energy_migration_bins = np.geomspace(0.2, 5, 200)\n",
    "\n",
    "for label, mask in masks.items():\n",
    "    effective_area = effective_area_per_energy(\n",
    "        gammas[mask],\n",
    "        particles[\"gamma\"][\"simulation_info\"],\n",
    "        true_energy_bins=true_energy_bins,\n",
    "    )\n",
    "    hdus.append(\n",
    "        create_aeff2d_hdu(\n",
    "            effective_area[..., np.newaxis],  # add one dimension for FOV offset\n",
    "            true_energy_bins,\n",
    "            fov_offset_bins,\n",
    "            extname=\"EFFECTIVE_AREA\" + label,\n",
    "        )\n",
    "    )\n",
    "    edisp = energy_dispersion(\n",
    "        gammas[mask],\n",
    "        true_energy_bins=true_energy_bins,\n",
    "        fov_offset_bins=fov_offset_bins,\n",
    "        migration_bins=energy_migration_bins,\n",
    "    )\n",
    "    hdus.append(\n",
    "        create_energy_dispersion_hdu(\n",
    "            edisp,\n",
    "            true_energy_bins=true_energy_bins,\n",
    "            migration_bins=energy_migration_bins,\n",
    "            fov_offset_bins=fov_offset_bins,\n",
    "            extname=\"ENERGY_DISPERSION\" + label,\n",
    "        )\n",
    "    )\n",
    "\n",
    "bias_resolution = energy_bias_resolution(\n",
    "    gammas[gammas[\"selected\"]],\n",
    "    true_energy_bins,\n",
    "    resolution_function=energy_resolution_absolute_68,\n",
    ")\n",
    "ang_res = angular_resolution(gammas[gammas[\"selected_gh\"]], true_energy_bins)\n",
    "psf = psf_table(\n",
    "    gammas[gammas[\"selected_gh\"]],\n",
    "    true_energy_bins,\n",
    "    fov_offset_bins=fov_offset_bins,\n",
    "    source_offset_bins=source_offset_bins,\n",
    ")\n",
    "\n",
    "background_rate = background_2d(\n",
    "    background[background[\"selected_gh\"]],\n",
    "    reco_energy_bins,\n",
    "    fov_offset_bins=np.arange(0, 11) * u.deg,\n",
    "    t_obs=T_OBS,\n",
    ")\n",
    "\n",
    "hdus.append(\n",
    "    create_background_2d_hdu(\n",
    "        background_rate, reco_energy_bins, fov_offset_bins=np.arange(0, 11) * u.deg\n",
    "    )\n",
    ")\n",
    "hdus.append(\n",
    "    create_psf_table_hdu(psf, true_energy_bins, source_offset_bins, fov_offset_bins)\n",
    ")\n",
    "hdus.append(\n",
    "    create_rad_max_hdu(\n",
    "        theta_cuts_opt[\"cut\"][:, np.newaxis], theta_energy_bins, fov_offset_bins\n",
    "    )\n",
    ")\n",
    "hdus.append(fits.BinTableHDU(ang_res, name=\"ANGULAR_RESOLUTION\"))\n",
    "hdus.append(fits.BinTableHDU(bias_resolution, name=\"ENERGY_BIAS_RESOLUTION\"))\n"
   ]
  },
  {
   "cell_type": "code",
   "execution_count": null,
   "id": "1e0f3097-bd1f-4e9c-a82c-11bda9f295c6",
   "metadata": {},
   "outputs": [],
   "source": [
    "## Writing output file\n",
    "outfile = \"irf_sensitivity.fits.gz\"\n",
    "Path(outfile).parent.mkdir(exist_ok=True)\n",
    "fits.HDUList(hdus).writeto(outfile, overwrite=True)"
   ]
  },
  {
   "cell_type": "code",
   "execution_count": null,
   "id": "ec0bed6d-1ce3-4b0a-a6cc-e0b9958c3b73",
   "metadata": {},
   "outputs": [],
   "source": []
  },
  {
   "cell_type": "code",
   "execution_count": null,
   "id": "964e2c63-b576-431f-aeac-38d9f861a3d8",
   "metadata": {},
   "outputs": [],
   "source": [
    "from lstmcpipe.plots import plot_irfs"
   ]
  },
  {
   "cell_type": "code",
   "execution_count": null,
   "id": "f836a86e-6dd8-4784-a74d-67b12bdb4b66",
   "metadata": {},
   "outputs": [],
   "source": [
    "plot_irfs.plot_effective_area_from_file(outfile, label='LST-1 MC')\n",
    "ctaplot.plot_effective_area_cta_performance('north')\n",
    "plt.show()"
   ]
  },
  {
   "cell_type": "code",
   "execution_count": null,
   "id": "9d8f3751-dd89-47ae-bb85-f96e537bd8df",
   "metadata": {},
   "outputs": [],
   "source": [
    "plot_irfs.plot_angular_resolution_from_file(outfile, label='LST-1 MC')\n",
    "ctaplot.plot_angular_resolution_cta_performance('north')\n",
    "plt.show()"
   ]
  },
  {
   "cell_type": "code",
   "execution_count": null,
   "id": "79048924-4130-4ab7-ba24-ee0ca6069fb0",
   "metadata": {},
   "outputs": [],
   "source": [
    "plot_irfs.plot_energy_resolution_from_file(outfile, label='LST-1 MC')\n",
    "ctaplot.plot_angular_resolution_cta_performance('north')\n",
    "plt.show()"
   ]
  },
  {
   "cell_type": "code",
   "execution_count": null,
   "id": "6721b8e5-5684-42dd-a36a-7663fd85e80d",
   "metadata": {},
   "outputs": [],
   "source": [
    "plot_irfs.plot_background_rate_from_file(outfile, label='LST-1 MC')\n",
    "ctaplot.plot_background_rate_magic()\n",
    "plt.show()"
   ]
  },
  {
   "cell_type": "code",
   "execution_count": null,
   "id": "d658cdf6-3522-4928-824e-5e94ac69c797",
   "metadata": {},
   "outputs": [],
   "source": [
    "plot_irfs.plot_sensitivity_from_file(outfile, label='LST-1 MC')\n",
    "ctaplot.plot_sensitivity_cta_performance('north')\n",
    "ctaplot.plot_sensitivity_magic_performance()\n",
    "plt.show()"
   ]
  },
  {
   "cell_type": "code",
   "execution_count": null,
   "id": "be112890-f6c1-4c40-b3d7-9b744862f7a1",
   "metadata": {},
   "outputs": [],
   "source": []
  }
 ],
 "metadata": {
  "kernelspec": {
   "display_name": "lstchain-official-v0.8.2",
   "language": "python",
   "name": "lstchain-official-v0.8.2"
  },
  "language_info": {
   "codemirror_mode": {
    "name": "ipython",
    "version": 3
   },
   "file_extension": ".py",
   "mimetype": "text/x-python",
   "name": "python",
   "nbconvert_exporter": "python",
   "pygments_lexer": "ipython3",
   "version": "3.8.12"
  }
 },
 "nbformat": 4,
 "nbformat_minor": 5
}
