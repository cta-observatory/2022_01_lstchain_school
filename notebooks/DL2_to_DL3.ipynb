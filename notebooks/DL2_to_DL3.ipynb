{
 "cells": [
  {
   "cell_type": "markdown",
   "id": "35d072ef",
   "metadata": {},
   "source": [
    "# This notebook does the following:\n",
    "## 1. Read DL2 file\n",
    "## 2. Use the config file to generate the event list HDUs\n",
    "## 3. Add the IRF to create a DL3\n",
    "## 4. Index the DL3 files in the given folder"
   ]
  },
  {
   "cell_type": "code",
   "execution_count": 1,
   "id": "c41975ca",
   "metadata": {},
   "outputs": [],
   "source": [
    "import numpy as np\n",
    "from pathlib import Path\n",
    "\n",
    "from traitlets.config.loader import Config\n",
    "\n",
    "from astropy.io import fits\n",
    "from astropy.coordinates import SkyCoord\n",
    "import astropy.units as u"
   ]
  },
  {
   "cell_type": "code",
   "execution_count": 2,
   "id": "c989fde3",
   "metadata": {},
   "outputs": [],
   "source": [
    "from lstchain.io.io import read_data_dl2_to_QTable\n",
    "from lstchain.reco.utils import get_effective_time\n",
    "from lstchain.paths import run_info_from_filename, dl2_to_dl3_filename\n",
    "# Post merger of PR #752\n",
    "from lstchain.irf.hdu_table import (\n",
    "    create_event_list, add_icrs_position_params,\n",
    "    create_hdu_index_hdu, create_obs_index_hdu\n",
    ")\n",
    "from lstchain.io.event_selection import EventSelector, DL3FixedCuts\n",
    "from lstchain.io.config import read_configuration_file"
   ]
  },
  {
   "cell_type": "markdown",
   "id": "cae4306d",
   "metadata": {},
   "source": [
    "# 1. Input parameters to convert DL2 file to DL3"
   ]
  },
  {
   "cell_type": "code",
   "execution_count": 22,
   "id": "1c2564f1",
   "metadata": {},
   "outputs": [],
   "source": [
    "base_dir = \"/fefs/aswg/data/real/DL2/\"\n",
    "# Directory path with observation date, data production and tailcut cleaning\n",
    "dl2_dir = \"20201120/v0.7.5_test_new_calibration_tree/tailcut84_dynamic_cleaning/\"\n",
    "\n",
    "input_dl2_path = base_dir + dl2_dir + \"dl2_LST-1.Run02976.h5\"\n",
    "output_dl3_path = \"./DL3/\"\n",
    "Path(output_dl3_path).mkdir(exist_ok=True)\n",
    "\n",
    "config_file = output_dl3_path + \"irf_tool_config.json\"\n",
    "irf_file = output_dl3_path + \"pnt_irf_pnt_gamma.fits.gz\"\n",
    "\n",
    "source_name = \"Crab\"\n",
    "source_ra = \"83.63308333deg\"\n",
    "source_dec = \"22.0145deg\"\n",
    "\n",
    "overwrite = True"
   ]
  },
  {
   "cell_type": "raw",
   "id": "b1a15bc0",
   "metadata": {},
   "source": [
    "Same usage in the command line as,\n",
    "\n",
    "lstchain_create_dl3_file \n",
    "--input-dl2 $input_dl2_path\n",
    "--input-irf-path $irf_file\n",
    "--source-name $source_name\n",
    "--source-ra=$source_ra\n",
    "--source-dec=$source_dec\n",
    "--config $config_file\n",
    "--overwrite"
   ]
  },
  {
   "cell_type": "raw",
   "id": "ec95d46d",
   "metadata": {},
   "source": [
    "lstchain_create_dl3_index_files\n",
    "--input-dl3-dir $output_dl3_path\n",
    "--file-pattern dl3*gz\n",
    "--overwrite"
   ]
  },
  {
   "cell_type": "code",
   "execution_count": 23,
   "id": "e80dc771",
   "metadata": {},
   "outputs": [
    {
     "name": "stdout",
     "output_type": "stream",
     "text": [
      "The name of the DL3 file will be, dl3_LST-1.Run02976.fits.gz\n",
      "Using the source RA and DEC values to get the source position, <SkyCoord (ICRS): (ra, dec) in deg\n",
      "    (83.63308333, 22.0145)>\n"
     ]
    }
   ],
   "source": [
    "dl3_filename = dl2_to_dl3_filename(input_dl2_path)\n",
    "source_pos = SkyCoord(ra=source_ra, dec=source_dec)\n",
    "print(\"The name of the DL3 file will be,\", dl3_filename)\n",
    "print(\"Using the source RA and DEC values to get the source position,\", source_pos)"
   ]
  },
  {
   "cell_type": "markdown",
   "id": "1e5d0365",
   "metadata": {},
   "source": [
    "# 2. Get the information of the data DL2 file"
   ]
  },
  {
   "cell_type": "code",
   "execution_count": 24,
   "id": "c7405055",
   "metadata": {},
   "outputs": [
    {
     "name": "stdout",
     "output_type": "stream",
     "text": [
      "CPU times: user 8.49 s, sys: 8.75 s, total: 17.2 s\n",
      "Wall time: 19.2 s\n"
     ]
    }
   ],
   "source": [
    "%%time\n",
    "data = read_data_dl2_to_QTable(input_dl2_path)"
   ]
  },
  {
   "cell_type": "code",
   "execution_count": 25,
   "id": "76ed5813",
   "metadata": {},
   "outputs": [
    {
     "name": "stdout",
     "output_type": "stream",
     "text": [
      "The effective time of the run is, 1109.6082797617908 s and the total elapsed time of the run is, 1159.4717936515808 s\n",
      "The run number used from the DL2 file is, 2976\n",
      "CPU times: user 54.2 ms, sys: 11.1 ms, total: 65.3 ms\n",
      "Wall time: 61 ms\n"
     ]
    }
   ],
   "source": [
    "%%time\n",
    "effective_time, elapsed_time = get_effective_time(data)\n",
    "run_number = run_info_from_filename(input_dl2_path)[1]\n",
    "print(\"The effective time of the run is,\",effective_time, \"and the total elapsed time of the run is,\", elapsed_time)\n",
    "print(\"The run number used from the DL2 file is,\", run_number)"
   ]
  },
  {
   "cell_type": "markdown",
   "id": "741b2a7c",
   "metadata": {},
   "source": [
    "# 3. Apply selection cuts and bin the events as per the config file"
   ]
  },
  {
   "cell_type": "code",
   "execution_count": 26,
   "id": "4b3379fa",
   "metadata": {},
   "outputs": [
    {
     "data": {
      "text/plain": [
       "{'EventSelector': {'filters': {'intensity': [0, inf],\n",
       "   'width': [0, inf],\n",
       "   'length': [0, inf],\n",
       "   'r': [0, 1],\n",
       "   'wl': [0.1, 1],\n",
       "   'leakage_intensity_width_2': [0, 1],\n",
       "   'event_type': [32, 33]}},\n",
       " 'DL3FixedCuts': {'fixed_gh_cut': 0.7,\n",
       "  'fixed_gh_max_efficiency': 0.9,\n",
       "  'fixed_theta_cut': 0.2,\n",
       "  'allowed_tels': [1]},\n",
       " 'DataBinning': {'true_energy_min': 0.01,\n",
       "  'true_energy_max': 100,\n",
       "  'true_energy_n_bins_per_decade': 5.5,\n",
       "  'reco_energy_min': 0.01,\n",
       "  'reco_energy_max': 100,\n",
       "  'reco_energy_n_bins_per_decade': 5.5,\n",
       "  'energy_migration_min': 0.2,\n",
       "  'energy_migration_max': 5,\n",
       "  'energy_migration_n_bins': 31,\n",
       "  'fov_offset_min': 0.1,\n",
       "  'fov_offset_max': 1.1,\n",
       "  'fov_offset_n_edges': 9,\n",
       "  'bkg_fov_offset_min': 0,\n",
       "  'bkg_fov_offset_max': 10,\n",
       "  'bkg_fov_offset_n_edges': 21,\n",
       "  'source_offset_min': 0.0001,\n",
       "  'source_offset_max': 1.0001,\n",
       "  'source_offset_n_edges': 1000}}"
      ]
     },
     "execution_count": 26,
     "metadata": {},
     "output_type": "execute_result"
    }
   ],
   "source": [
    "config = Config(read_configuration_file(config_file))\n",
    "config"
   ]
  },
  {
   "cell_type": "code",
   "execution_count": 27,
   "id": "d9415237",
   "metadata": {},
   "outputs": [],
   "source": [
    "# Using the Components for the event selection and for applying some cuts\n",
    "event_sel = EventSelector(config=Config(config))\n",
    "fixed_cuts = DL3FixedCuts(config=Config(config))"
   ]
  },
  {
   "cell_type": "code",
   "execution_count": 28,
   "id": "4eabe9e1",
   "metadata": {},
   "outputs": [
    {
     "name": "stdout",
     "output_type": "stream",
     "text": [
      "Size of the table before the filter - 4032878\n",
      "Size of the table after the filter - 3863530\n",
      "CPU times: user 1.7 s, sys: 1.59 s, total: 3.28 s\n",
      "Wall time: 3.14 s\n"
     ]
    }
   ],
   "source": [
    "%%time\n",
    "# Applying event filters to the Hillas parameters\n",
    "print(\"Size of the table before the filter -\",len(data))\n",
    "data = event_sel.filter_cut(data)\n",
    "print(\"Size of the table after the filter -\",len(data))"
   ]
  },
  {
   "cell_type": "code",
   "execution_count": 29,
   "id": "3767ae56",
   "metadata": {},
   "outputs": [
    {
     "name": "stdout",
     "output_type": "stream",
     "text": [
      "Size of the table before the cut - 3863530\n",
      "Size of the table after the cut - 44143\n",
      "CPU times: user 207 ms, sys: 167 ms, total: 375 ms\n",
      "Wall time: 371 ms\n"
     ]
    }
   ],
   "source": [
    "%%time\n",
    "# Applying the gammaness cut\n",
    "print(\"Size of the table before the cut -\",len(data))\n",
    "data = fixed_cuts.gh_cut(data)\n",
    "print(\"Size of the table after the cut -\",len(data))"
   ]
  },
  {
   "cell_type": "markdown",
   "id": "790668f3",
   "metadata": {},
   "source": [
    "# 4. Convert the position parameters of the events in ICRS frame and add to the table"
   ]
  },
  {
   "cell_type": "code",
   "execution_count": 30,
   "id": "baba409b",
   "metadata": {},
   "outputs": [
    {
     "name": "stdout",
     "output_type": "stream",
     "text": [
      "CPU times: user 172 ms, sys: 7.3 ms, total: 179 ms\n",
      "Wall time: 176 ms\n"
     ]
    }
   ],
   "source": [
    "%%time\n",
    "data = add_icrs_position_params(data, source_pos)"
   ]
  },
  {
   "cell_type": "markdown",
   "id": "d0198a13",
   "metadata": {},
   "source": [
    "# 5. Create the HDUs for the DL3 file"
   ]
  },
  {
   "cell_type": "code",
   "execution_count": 31,
   "id": "b570d0f7",
   "metadata": {},
   "outputs": [
    {
     "name": "stdout",
     "output_type": "stream",
     "text": [
      "CPU times: user 114 ms, sys: 2.49 ms, total: 116 ms\n",
      "Wall time: 113 ms\n"
     ]
    }
   ],
   "source": [
    "%%time\n",
    "events, gti, pointing, data_params = create_event_list(\n",
    "    data, run_number, source_name, source_pos, effective_time.value, elapsed_time.value\n",
    ")"
   ]
  },
  {
   "cell_type": "code",
   "execution_count": 32,
   "id": "9028593f",
   "metadata": {},
   "outputs": [
    {
     "data": {
      "text/plain": [
       "{'ZEN_PNT': <Quantity 15.9 deg>,\n",
       " 'AZ_PNT': <Quantity 247.6 deg>,\n",
       " 'B_DELTA': <Quantity 61.1 deg>}"
      ]
     },
     "execution_count": 32,
     "metadata": {},
     "output_type": "execute_result"
    }
   ],
   "source": [
    "# Parameters that can be used for IRF interpolation target values\n",
    "data_params"
   ]
  },
  {
   "cell_type": "markdown",
   "id": "803482cc",
   "metadata": {},
   "source": [
    "# 6. Add the HDUs to the final HDUList"
   ]
  },
  {
   "cell_type": "code",
   "execution_count": 33,
   "id": "af9ee4ea",
   "metadata": {},
   "outputs": [],
   "source": [
    "hdulist = fits.HDUList([fits.PrimaryHDU(), events, gti, pointing])"
   ]
  },
  {
   "cell_type": "code",
   "execution_count": 34,
   "id": "53141f02",
   "metadata": {},
   "outputs": [],
   "source": [
    "irf_hdus = fits.open(irf_file)"
   ]
  },
  {
   "cell_type": "code",
   "execution_count": 35,
   "id": "b286f8ff",
   "metadata": {},
   "outputs": [],
   "source": [
    "for irf in irf_hdus[1:]:\n",
    "    hdulist.append(irf)"
   ]
  },
  {
   "cell_type": "markdown",
   "id": "bcc42110",
   "metadata": {},
   "source": [
    "# 7. Write the HDUList to the final DL3 file"
   ]
  },
  {
   "cell_type": "code",
   "execution_count": 36,
   "id": "80bbb24d",
   "metadata": {},
   "outputs": [],
   "source": [
    "hdulist.writeto(output_dl3_path + dl3_filename, overwrite=overwrite)"
   ]
  },
  {
   "cell_type": "markdown",
   "id": "f8854e99",
   "metadata": {},
   "source": [
    "# 8. Check the DL3 fits info"
   ]
  },
  {
   "cell_type": "code",
   "execution_count": 37,
   "id": "18e06dc2",
   "metadata": {},
   "outputs": [
    {
     "name": "stdout",
     "output_type": "stream",
     "text": [
      "Filename: ./DL3/dl3_LST-1.Run02976.fits.gz\n",
      "No.    Name      Ver    Type      Cards   Dimensions   Format\n",
      "  0  PRIMARY       1 PrimaryHDU       4   ()      \n",
      "  1  EVENTS        1 BinTableHDU     76   44143R x 11C   [K, D, D, D, D, D, K, D, D, D, D]   \n",
      "  2  GTI           1 BinTableHDU     29   1R x 2C   [D, D]   \n",
      "  3  POINTING      1 BinTableHDU     44   1R x 5C   [D, D, D, D, D]   \n",
      "  4  EFFECTIVE AREA    1 BinTableHDU     50   1R x 5C   [21D, 21D, D, D, 21D]   \n",
      "  5  ENERGY DISPERSION    1 BinTableHDU     56   1R x 7C   [21D, 21D, 30D, 30D, D, D, 630D]   \n",
      "  6  BACKGROUND    1 BinTableHDU     50   1R x 5C   [21D, 21D, 20D, 20D, 420D]   \n"
     ]
    }
   ],
   "source": [
    "f = fits.open(output_dl3_path + dl3_filename)\n",
    "f.info()"
   ]
  },
  {
   "cell_type": "markdown",
   "id": "00f93eaa",
   "metadata": {},
   "source": [
    "# 9. Index the DL3 files in the folder"
   ]
  },
  {
   "cell_type": "code",
   "execution_count": 38,
   "id": "9ac7d036",
   "metadata": {},
   "outputs": [
    {
     "name": "stdout",
     "output_type": "stream",
     "text": [
      "['dl3_LST-1.Run02976.fits.gz', 'dl3_LST-1.Run02977.fits.gz']\n",
      "CPU times: user 483 µs, sys: 1.38 ms, total: 1.86 ms\n",
      "Wall time: 1.14 ms\n"
     ]
    }
   ],
   "source": [
    "%%time\n",
    "# Get the list of all DL3 files in the given output destination\n",
    "list_dl3_files = sorted(Path(output_dl3_path).glob(\"dl3*gz\"))\n",
    "file_list = []\n",
    "for d in list_dl3_files:\n",
    "    file_list.append(d.name)\n",
    "print(file_list)"
   ]
  },
  {
   "cell_type": "code",
   "execution_count": 39,
   "id": "ffc94043",
   "metadata": {},
   "outputs": [
    {
     "name": "stderr",
     "output_type": "stream",
     "text": [
      "Run 2976 does not contain HDU PSF\n",
      "Run 2976 does not contain HDU GH CUTS\n",
      "Run 2976 does not contain HDU RAD_MAX\n",
      "Run 2977 does not contain HDU PSF\n",
      "Run 2977 does not contain HDU GH CUTS\n",
      "Run 2977 does not contain HDU RAD_MAX\n"
     ]
    },
    {
     "name": "stdout",
     "output_type": "stream",
     "text": [
      "CPU times: user 89 ms, sys: 8.66 ms, total: 97.6 ms\n",
      "Wall time: 95.1 ms\n"
     ]
    }
   ],
   "source": [
    "%%time\n",
    "create_hdu_index_hdu(\n",
    "    file_list, \n",
    "    Path(output_dl3_path), \n",
    "    Path(output_dl3_path)/\"hdu-index.fits.gz\", \n",
    "    overwrite\n",
    ")"
   ]
  },
  {
   "cell_type": "code",
   "execution_count": 40,
   "id": "f2dc5ecf",
   "metadata": {},
   "outputs": [
    {
     "name": "stdout",
     "output_type": "stream",
     "text": [
      "CPU times: user 101 ms, sys: 2.12 ms, total: 103 ms\n",
      "Wall time: 101 ms\n"
     ]
    }
   ],
   "source": [
    "%%time\n",
    "create_obs_index_hdu(\n",
    "    file_list, \n",
    "    Path(output_dl3_path), \n",
    "    Path(output_dl3_path)/\"obs-index.fits.gz\", \n",
    "    overwrite\n",
    ")"
   ]
  },
  {
   "cell_type": "code",
   "execution_count": null,
   "id": "63b5c966",
   "metadata": {},
   "outputs": [],
   "source": []
  }
 ],
 "metadata": {
  "kernelspec": {
   "display_name": "lst-dev",
   "language": "python",
   "name": "lst-dev"
  },
  "language_info": {
   "codemirror_mode": {
    "name": "ipython",
    "version": 3
   },
   "file_extension": ".py",
   "mimetype": "text/x-python",
   "name": "python",
   "nbconvert_exporter": "python",
   "pygments_lexer": "ipython3",
   "version": "3.8.12"
  }
 },
 "nbformat": 4,
 "nbformat_minor": 5
}
