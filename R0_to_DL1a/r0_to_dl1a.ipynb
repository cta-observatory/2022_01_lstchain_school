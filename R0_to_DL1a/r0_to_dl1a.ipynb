{
 "cells": [
  {
   "cell_type": "markdown",
   "id": "3bdcf0ee",
   "metadata": {},
   "source": [
    "# Low-Level Corrections, Calibration and Image Extraction: R0 to DL1a"
   ]
  },
  {
   "cell_type": "markdown",
   "id": "1311582b",
   "metadata": {},
   "source": [
    "<h1 id=\"tocheading\">Table of Contents</h1>\n",
    "<div id=\"toc\"></div>"
   ]
  },
  {
   "cell_type": "code",
   "execution_count": null,
   "id": "c7c24825",
   "metadata": {},
   "outputs": [],
   "source": [
    "%%javascript\n",
    "$.getScript('https://kmahelona.github.io/ipython_notebook_goodies/ipython_notebook_toc.js')"
   ]
  },
  {
   "cell_type": "code",
   "execution_count": null,
   "id": "93726e18",
   "metadata": {},
   "outputs": [],
   "source": [
    "import matplotlib.pyplot as plt\n",
    "import numpy as np\n",
    "import astropy.units as u\n",
    "from ipywidgets import interact\n",
    "from tqdm.auto import tqdm\n",
    "\n",
    "from IPython.core.display import display, HTML\n",
    "display(HTML(\"<style>.container { width:95% !important; }</style>\"))"
   ]
  },
  {
   "cell_type": "code",
   "execution_count": null,
   "id": "002b8ada",
   "metadata": {},
   "outputs": [],
   "source": [
    "%matplotlib widget"
   ]
  },
  {
   "cell_type": "code",
   "execution_count": null,
   "id": "c7d9d7e3",
   "metadata": {},
   "outputs": [],
   "source": [
    "plt.rcParams['figure.constrained_layout.use'] = True\n",
    "plt.rcParams['figure.dpi'] = 120"
   ]
  },
  {
   "cell_type": "markdown",
   "id": "c4ce60d9",
   "metadata": {},
   "source": [
    "## Relevant Data Levels\n",
    "\n",
    "\n",
    "### R0\n",
    "\n",
    "The raw data currently written to disk by LST is \n",
    "* consisting of two gain channels for each pixel\n",
    "* requires treatment of LST specific issues\n",
    "* not in units of a single photo electron but some arbitrary scaling different for the two gains\n",
    "* only roughly pre-calibrated for the DRS4 baseline offsets\n",
    "\n",
    "This is in CTA's definition called **R0** and will in the future not be written to disk.\n",
    "\n",
    "### R1\n",
    "\n",
    "R1 is the first data level, that will transmitted from the telescopes to the central data processing of the array.\n",
    "\n",
    "* A single time series for each pixel (Gain selection)\n",
    "* All telescope specific calibration steps already applied\n",
    "* In units of photo electrons, at least roughly so later calibration steps are only a small adjustment\n",
    "\n",
    "But: \n",
    "\n",
    "* R1 still has values for all pixels of the camera.\n",
    "* This is too much data for long-term storage\n",
    "\n",
    "### DL0\n",
    "\n",
    "DL0 is the same as R1, but with pixels likely containing no Cherenkov signal removed, aka Data Volume reduction.\n",
    "\n",
    "This is the first data level intended for long-term archiving in CTA.\n",
    "\n",
    "### DL1\n",
    "\n",
    "DL1 is split in two sub-levels\n",
    "\n",
    "* DL1a is the \"Image Level\":  From the R1 or DL0 waveforms, we obtain   the number of photons and some kind of \"arrival time\".\n",
    "* DL1b are parametrizations of the DL1a images, which can be used to estimate event properties, e.g. using random forests"
   ]
  },
  {
   "cell_type": "markdown",
   "id": "58d38953",
   "metadata": {},
   "source": [
    "## Reading LST data using the LSTEventSource\n",
    "\n",
    "There is no common R0, R1 or DL0 format defined for CTA yet.\n",
    "\n",
    "LST R0 is stored in a custom file format called `zfits`.\n",
    "\n",
    "It combines the outer shell of a FITS file with custom binary table extensions that store \n",
    "data using [Google Protocol Buffers](https://developers.google.com/protocol-buffers).\n",
    "\n",
    "The low-level C++ reader/writer and python reader source code can be found in the [CTA Gitlab](https://gitlab.cta-observatory.org/cta-computing/common/acada-array-elements/adh-apis).\n",
    "The corresponding python package is `protozfits` and available from PyPI and `conda-forge`.\n",
    "\n",
    "This package is used in `ctapipe_io_lst` to implement the `LSTEventSource`, to read LST data into `ctapipe` data structures.\n",
    "\n",
    "Because the data rate of LST is too high for a single network connection and disk, LST events are actually written into 4 files in parallel.\n",
    "\n",
    "The `LSTEventSource` will open all four when given the first and the others are available at the same location.\n",
    "\n",
    "\n",
    "### Accessing R0"
   ]
  },
  {
   "cell_type": "code",
   "execution_count": null,
   "id": "d8b990df",
   "metadata": {},
   "outputs": [],
   "source": [
    "from ctapipe_io_lst import LSTEventSource"
   ]
  },
  {
   "cell_type": "code",
   "execution_count": null,
   "id": "ad7e4fa5",
   "metadata": {},
   "outputs": [],
   "source": [
    "# by default, the LSTEventSource wants to apply all needed corrections\n",
    "# and have all needed information to provide R1. \n",
    "# If we are only interested in R0, we switch those options off.\n",
    "source = LSTEventSource(\n",
    "    input_url='../data/real/R0/20201120/LST-1.1.Run02965.0000_first400.fits.fz',\n",
    "    apply_drs4_corrections=False,\n",
    "    pointing_information=False,\n",
    "    trigger_information=False,\n",
    ")\n",
    "\n",
    "source"
   ]
  },
  {
   "cell_type": "markdown",
   "id": "fbf9b679",
   "metadata": {},
   "source": [
    "We can also rely on the ctapipe `EventSource` machinery identifying a compatible source for our input file.\n",
    "\n",
    "This enables writing progams that can e.g. handle both simtel array files and LST files:"
   ]
  },
  {
   "cell_type": "code",
   "execution_count": null,
   "id": "1fdf245e",
   "metadata": {},
   "outputs": [],
   "source": [
    "from ctapipe.io import EventSource\n",
    "\n",
    "type(EventSource('../data/real/R0/20201120/LST-1.1.Run02965.0000_first400.fits.fz'))"
   ]
  },
  {
   "cell_type": "code",
   "execution_count": null,
   "id": "9e08b851",
   "metadata": {},
   "outputs": [],
   "source": [
    "type(EventSource('dataset://gamma_test_large.simtel.gz'))"
   ]
  },
  {
   "cell_type": "code",
   "execution_count": null,
   "id": "7a4b133f",
   "metadata": {},
   "outputs": [],
   "source": [
    "# take a look at the 31 event (it has a nice little shower) and 268 is the brightes pixel\n",
    "EVENT = 31\n",
    "PIXEL = 268\n",
    "\n",
    "for event in source:\n",
    "    if event.index.event_id == EVENT:\n",
    "        break\n",
    "        \n",
    "event.index.event_id"
   ]
  },
  {
   "cell_type": "code",
   "execution_count": null,
   "id": "877f2e37",
   "metadata": {},
   "outputs": [],
   "source": [
    "event.r0.tel[1].waveform.shape"
   ]
  },
  {
   "cell_type": "code",
   "execution_count": null,
   "id": "e92b8361",
   "metadata": {},
   "outputs": [],
   "source": [
    "event.r0.tel[1].waveform"
   ]
  },
  {
   "cell_type": "code",
   "execution_count": null,
   "id": "7d8f0d35",
   "metadata": {},
   "outputs": [],
   "source": [
    "from ctapipe_io_lst.constants import HIGH_GAIN, LOW_GAIN, N_PIXELS\n",
    "\n",
    "fig, ax = plt.subplots()\n",
    "plot = ax.stairs(event.r0.tel[1].waveform[0, 0], baseline=400)\n",
    "ax.axhline(400, ls=':', color='gray')\n",
    "ax.set_xlabel('Sample')\n",
    "ax.set_ylabel('R0 value')\n",
    "\n",
    "\n",
    "def plot_waveform(gain, pixel=PIXEL):\n",
    "    waveform = event.r0.tel[1].waveform[gain, pixel]\n",
    "    plot.set_data(waveform)\n",
    "    ax.set_title(f'Run {event.index.obs_id}, Event: {event.index.event_id}, Gain: {gain}, Pixel {pixel}')\n",
    "    ax.margins()\n",
    "    ax.set_ylim(0.9 * waveform.min(), 1.1 * waveform.max())\n",
    "\n",
    "\n",
    "interact(plot_waveform, gain=(HIGH_GAIN, LOW_GAIN), pixel=(0, N_PIXELS - 1))"
   ]
  },
  {
   "cell_type": "markdown",
   "id": "1d963439",
   "metadata": {},
   "source": [
    "### Applying low-level DRS4 corrections\n",
    "\n",
    "There are three types of DRS4 corrections\n",
    "\n",
    "* baseline correction: each capacitor of each DRS4 chip has its own offset from the desired baseline of 400\n",
    "* spikes: at certain positions in the waveform, the values are raised for 3 consecutive samples\n",
    "* timelapse: depending on the time since the last readout, the values are higher\n",
    "\n",
    "The timelapse correction is currently applied using a hard coded power law, it does not need a calibration file.\n",
    "\n",
    "Baseline correction requires the mean baseline value for each capacitor, which is stored in the calibration tree at  \n",
    "`<base>/monitoring/PixelCalibration/LevelA/drs4_baseline/<date>/<version>/drs4_pedestal.Run<pedestal_run>.h5`\n",
    "\n",
    "Spike correction is done by subtracting the mean spike height at the calculable spike positions.\n",
    "These are stored in the same file.\n",
    "\n",
    "All steps are performed by the `LSTR0Calibrator` which is The corrected values are converted to floats and stored in the `event.r1` container."
   ]
  },
  {
   "cell_type": "code",
   "execution_count": null,
   "id": "2a287914",
   "metadata": {},
   "outputs": [],
   "source": [
    "# to set configuration options of sub-components, we need to use a `Config` object\n",
    "from traitlets.config import Config\n",
    "\n",
    "config = Config({\n",
    "    'LSTEventSource': {\n",
    "        'input_url': '../data/real/R0/20201120/LST-1.1.Run02965.0000_first400.fits.fz',\n",
    "        'pointing_information': False,\n",
    "        'trigger_information': False,\n",
    "        ### new ###\n",
    "        'LSTR0Corrections': {\n",
    "            'drs4_pedestal_path': '../data/real/monitoring/PixelCalibration/LevelA/drs4_baseline/20201120/v0.8.3/drs4_pedestal.Run02963.0000.h5',\n",
    "        }\n",
    "    }\n",
    "})\n",
    "\n",
    "# look at the same event again\n",
    "source = LSTEventSource(config=config, max_events=EVENT)\n",
    "for event in source:\n",
    "    pass"
   ]
  },
  {
   "cell_type": "code",
   "execution_count": null,
   "id": "bb747543",
   "metadata": {},
   "outputs": [],
   "source": [
    "fix, ax = plt.subplots()\n",
    "ax.stairs(event.r1.tel[1].waveform[0, PIXEL])\n",
    "ax.set_ylabel('R1 value / adc counts')\n",
    "ax.axhline(0, ls=':', color='gray')\n",
    "None"
   ]
  },
  {
   "cell_type": "markdown",
   "id": "d9481608",
   "metadata": {},
   "source": [
    "### Obtaining correct trigger times and event types\n",
    "\n",
    "Unfortunately, during commissioning, including information from UCTS, the main source for the trigger time and event type has not always worked reliably.\n",
    "\n",
    "Because sometimes, information for a specific event is missed, there are *jumps* in the information that need to be detected and corrected.\n",
    "\n",
    "For this, we are using high-precision counters in the dragon modules.\n",
    "\n",
    "These counters however are only relative to the run start and need an absolute reference to obtain a valid timestamp.\n",
    "\n",
    "Reference values can be calculated from the first event of the first subrun.\n",
    "\n",
    "These reference values are stored in the run summaries for each night and can be used by the `EventTimeCalculator`, which also detects and corrects these *UCTS jumps*.\n",
    "\n",
    "Currently, flat field events are also not tagged before writing the R0 files.\n",
    "To identify flat field events, there is a heuristic implemented in the `LSTEventSource`."
   ]
  },
  {
   "cell_type": "code",
   "execution_count": null,
   "id": "aa837596",
   "metadata": {},
   "outputs": [],
   "source": [
    "from astropy.table import Table\n",
    "\n",
    "Table.read('../data/real/monitoring/RunSummary/RunSummary_20200218.ecsv')"
   ]
  },
  {
   "cell_type": "markdown",
   "id": "02551d2e",
   "metadata": {},
   "source": [
    "### Pointing Information\n",
    "\n",
    "Pointing information also needs to be read from another input file, using `PointingSource`.\n",
    "\n",
    "Now including both `EventTimeCalculator` and `PointingSource` configuration looks like this:"
   ]
  },
  {
   "cell_type": "code",
   "execution_count": null,
   "id": "697016d5",
   "metadata": {},
   "outputs": [],
   "source": [
    "from traitlets.config import Config\n",
    "\n",
    "# to set configuration options of sub-components, we need to use a `Config` object\n",
    "config = Config({\n",
    "    'LSTEventSource': {\n",
    "        'input_url': '../data/real/R0/20201120/LST-1.1.Run02965.0000_first400.fits.fz',\n",
    "        'LSTR0Corrections': {\n",
    "            'drs4_pedestal_path': '../data/real/monitoring/PixelCalibration/LevelA/drs4_baseline/20201120/v0.8.3/drs4_pedestal.Run02963.0000.h5',\n",
    "        },\n",
    "        ### new ###\n",
    "        'EventTimeCalculator': {\n",
    "            'run_summary_path': '../data/real/monitoring/RunSummary/RunSummary_20201120.ecsv',\n",
    "        },\n",
    "        'PointingSource': {\n",
    "            'drive_report_path': '../data/real/monitoring/DrivePositioning/drive_log_20201120.txt'\n",
    "        },\n",
    "    }\n",
    "})\n",
    "\n",
    "source = LSTEventSource(config=config, max_events=200)\n",
    "\n",
    "event = next(iter(source))\n",
    "\n",
    "event.pointing.tel[1].altitude, event.pointing.tel[1].azimuth, event.trigger.time"
   ]
  },
  {
   "cell_type": "code",
   "execution_count": null,
   "id": "67881a1f",
   "metadata": {
    "scrolled": true
   },
   "outputs": [],
   "source": [
    "from collections import Counter\n",
    "\n",
    "source = LSTEventSource(config=config, max_events=200)\n",
    "Counter(e.trigger.event_type.name for e in source)"
   ]
  },
  {
   "cell_type": "markdown",
   "id": "166ab95a",
   "metadata": {},
   "source": [
    "### Gain Selection and Pixel Calibration\n",
    "\n",
    "The last step is to apply the pixel calibration, including the conversion to photo electrons and calculating time correction coefficients.\n",
    "\n",
    "There are two parts to the time correction:\n",
    "* Differences between the pixels, e.g. due to different signal delays in the hardware\n",
    "* Differences due to non-uniform sampling of the DRS4 chip\n",
    "\n",
    "The source needs to select the appropriate gain channel, convert to photo electrons and fill in the time correction for \n",
    "later treatment at the DL1 step.\n",
    "\n",
    "Low-gain and high-gain also need to be scaled by a calibration factor to harmonize their values and to correct for \n",
    "the different pulse shapes of the calibration laser pulses and Cherenkov photon pulses.\n",
    "\n",
    "Calibration coefficients are read from the calibration file, which is in the tree at:  \n",
    "`<base>/monitoring/PixelCalibration/LevelA/calibration/<date>/<version>/calibration_filters_52.<calibration run>.h5`\n",
    "\n",
    "For the DRS4 based time shifts, there is another calibration file needed, located at:  \n",
    "`../data/real/monitoring/PixelCalibration/LevelA/drs4_time_sampling_from_FF/<date>/<version>/time_calibration.<run>.h5`\n",
    "\n",
    "Note that DRS4 baseline and calibration file are created nightly, as these coefficients vary with several conditions.\n",
    "\n",
    "DRS4 time calibration is only redone if hardware in the camera is changed. So take the latest file before the data you are analyzing.\n"
   ]
  },
  {
   "cell_type": "code",
   "execution_count": null,
   "id": "bb0841a0",
   "metadata": {},
   "outputs": [],
   "source": [
    "from traitlets.config import Config\n",
    "from copy import deepcopy\n",
    "\n",
    "config = Config({\n",
    "    'LSTEventSource': {\n",
    "        'input_url': '../data/real/R0/20201120/LST-1.1.Run02965.0000_first400.fits.fz',\n",
    "        'EventTimeCalculator': {\n",
    "            'run_summary_path': '../data/real/monitoring/RunSummary/RunSummary_20201120.ecsv',\n",
    "        },\n",
    "        'PointingSource': {\n",
    "            'drive_report_path': '../data/real/monitoring/DrivePositioning/drive_log_20201120.txt'\n",
    "        },\n",
    "        'LSTR0Corrections': {\n",
    "            'drs4_pedestal_path': '../data/real/monitoring/PixelCalibration/LevelA/drs4_baseline/20201120/v0.8.3/drs4_pedestal.Run02963.0000.h5',\n",
    "            'drs4_time_calibration_path': '../data/real/monitoring/PixelCalibration/LevelA/drs4_time_sampling_from_FF/20191124/v0.8.3/time_calibration.Run01625.0000.h5',\n",
    "            ### new ###\n",
    "            'calibration_path': '../data/real/monitoring/PixelCalibration/LevelA/calibration/20201120/v0.8.3/calibration_filters_52.Run02964.0000.h5',\n",
    "            'calib_scale_high_gain': 1.088,\n",
    "            'calib_scale_low_gain': 1.004,\n",
    "        },\n",
    "    }\n",
    "})\n",
    "\n",
    "# look at the same event again\n",
    "source = LSTEventSource(config=config, max_events=EVENT)\n",
    "for event in source:\n",
    "    pass"
   ]
  },
  {
   "cell_type": "code",
   "execution_count": null,
   "id": "faf95467",
   "metadata": {},
   "outputs": [],
   "source": [
    "fix, ax = plt.subplots()\n",
    "\n",
    "# observe that the first index is now gone, gain selected!\n",
    "ax.stairs(event.r1.tel[1].waveform[PIXEL])\n",
    "\n",
    "ax.set_ylabel('R1 value / adc counts')\n",
    "None"
   ]
  },
  {
   "cell_type": "markdown",
   "id": "744f32f2",
   "metadata": {},
   "source": [
    "## Going to DL1a\n",
    "\n",
    "DL1a requires integrating the waveforms around the peak and somehow determining a \"peak time\".\n",
    "\n",
    "In the easiest case, just the full waveform is summed and the peak time is the weighted average of the sample position with the sample value.\n",
    "\n",
    "To reduce noise, we only sum in a smaller window around the highest value, using `LocalPeakWindowSum` from ctapipe.\n",
    "\n",
    "We also disable the \"Integration Correction\"."
   ]
  },
  {
   "cell_type": "code",
   "execution_count": null,
   "id": "637b386b",
   "metadata": {},
   "outputs": [],
   "source": [
    "from ctapipe.calib import CameraCalibrator\n",
    "\n",
    "config = Config({\n",
    "    'CameraCalibrator': {\n",
    "        'image_extractor_type': 'LocalPeakWindowSum',\n",
    "        'LocalPeakWindowSum': {\n",
    "              'window_shift': 4,\n",
    "              'window_width': 8,\n",
    "              'apply_integration_correction': False,\n",
    "        }\n",
    "    }\n",
    "})\n",
    "\n",
    "\n",
    "calibrator = CameraCalibrator(source.subarray, config=config)\n",
    "calibrator(event)\n",
    "\n",
    "\n",
    "event.dl1.tel[1].image, event.dl1.tel[1].peak_time"
   ]
  },
  {
   "cell_type": "code",
   "execution_count": null,
   "id": "20036f56",
   "metadata": {},
   "outputs": [],
   "source": [
    "from ctapipe.visualization import CameraDisplay\n",
    "\n",
    "fig, (ax_image, ax_peaktime)  = plt.subplots(1, 2)\n",
    "\n",
    "cam = source.subarray.tel[1].camera.geometry\n",
    "\n",
    "display_image = CameraDisplay(cam, ax=ax_image, cmap='inferno')\n",
    "display_peaktime = CameraDisplay(cam, ax=ax_peaktime, cmap='RdBu_r')\n",
    "\n",
    "display_image.add_colorbar()\n",
    "display_peaktime.add_colorbar()\n",
    "\n",
    "display_image.image = event.dl1.tel[1].image\n",
    "display_peaktime.image = event.dl1.tel[1].peak_time\n",
    "\n",
    "for ax in (ax_image, ax_peaktime):\n",
    "    ax.set_title('')\n",
    "    \n",
    "fig.suptitle(f'Run {event.index.obs_id}, Event: {event.index.event_id}, Type: {event.trigger.event_type}')"
   ]
  },
  {
   "cell_type": "markdown",
   "id": "c4f25120",
   "metadata": {},
   "source": [
    "## Using the command line tools \n",
    "\n",
    "### Using the `lstchain_{data,mc}_r0_to_dl1` program\n",
    "\n",
    "For regular analysis, there are two command line program running all these steps and storing DL1 data in an HDF5 file.\n",
    "\n",
    "One for observed (`data`) and one for simulated (`mc`) data.\n",
    "\n",
    "Note that this also runs the cleaning and parametrization (DL1b) and muon analysis."
   ]
  },
  {
   "cell_type": "code",
   "execution_count": null,
   "id": "590632f3",
   "metadata": {},
   "outputs": [],
   "source": [
    "!lstchain_data_r0_to_dl1 --help"
   ]
  },
  {
   "cell_type": "code",
   "execution_count": null,
   "id": "f07be0e0",
   "metadata": {},
   "outputs": [],
   "source": [
    "!rm -rf /tmp/$USER/lstchain-demo \n",
    "!mkdir -p /tmp/$USER/lstchain-demo\n",
    "!lstchain_data_r0_to_dl1 \\\n",
    "  --input-file ../data/real/R0/20201120/LST-1.1.Run02965.0000_first400.fits.fz \\\n",
    "  --output-dir /tmp/$USER/lstchain-demo \\\n",
    "  --pedestal-file ../data/real/monitoring/PixelCalibration/LevelA/drs4_baseline/20201120/v0.8.3/drs4_pedestal.Run02963.0000.h5 \\\n",
    "  --time-calibration-file ../data/real/monitoring/PixelCalibration/LevelA/drs4_time_sampling_from_FF/20191124/v0.8.3/time_calibration.Run01625.0000.h5 \\\n",
    "  --calibration-file ../data/real/monitoring/PixelCalibration/LevelA/calibration/20201120/v0.8.3/calibration_filters_52.Run02964.0000.h5 \\\n",
    "  --run-summary-path ../data/real/monitoring/RunSummary/RunSummary_20201120.ecsv \\\n",
    "  --pointing-file ../data/real/monitoring/DrivePositioning/drive_log_20201120.txt"
   ]
  },
  {
   "cell_type": "code",
   "execution_count": null,
   "id": "da0112ee",
   "metadata": {},
   "outputs": [],
   "source": [
    "!ls /tmp/$USER/lstchain-demo/"
   ]
  },
  {
   "cell_type": "code",
   "execution_count": null,
   "id": "740cb484",
   "metadata": {},
   "outputs": [],
   "source": [
    "from ctapipe.io import read_table\n",
    "import os\n",
    "\n",
    "lstchain_r0_to_dl1 = read_table(\n",
    "    f'/tmp/{os.getenv(\"USER\")}/lstchain-demo/dl1_LST-1.Run02965.0000.h5',\n",
    "    '/dl1/event/telescope/image/LST_LSTCam'\n",
    ")\n",
    "lstchain_r0_to_dl1[:5]"
   ]
  },
  {
   "cell_type": "markdown",
   "id": "e075e527",
   "metadata": {},
   "source": [
    "### Using ctapipe-stage1 (renamed to ctapipe-process in 0.12)\n",
    "\n",
    "At the R0 to DL1a stage, there is nothing lst-specific, that is not handled by the `LSTEventSource`. \n",
    "\n",
    "You can use `ctapipe-stage1` with the correct config, to obtain identical images as from `lstchain_data_r0_to_dl1`,\n",
    "with the advantange of using the standard ctapipe DL1 format instead of the custom, similar but different lstchain format.\n",
    "\n",
    "We can either give the options to the `LSTEventSource` on the command line or write a json config file.\n",
    "\n",
    "See https://github.com/cta-observatory/ctapipe_io_lst/blob/master/example_stage1_config.json"
   ]
  },
  {
   "cell_type": "code",
   "execution_count": null,
   "id": "f1f77ca2",
   "metadata": {},
   "outputs": [],
   "source": [
    "!ctapipe-stage1 \\\n",
    "  --input ../data/real/R0/20201120/LST-1.1.Run02965.0000_first400.fits.fz \\\n",
    "  --output /tmp/$USER/lstchain-demo/LST-1.Run02965.0000_first400.dl1.h5\\\n",
    "  --overwrite \\\n",
    "  --progress \\\n",
    "  --write-images \\\n",
    "  --log-level=INFO \\\n",
    "  --LSTEventSource.LSTR0Corrections.drs4_pedestal_path ../data/real/monitoring/PixelCalibration/LevelA/drs4_baseline/20201120/v0.8.3/drs4_pedestal.Run02963.0000.h5 \\\n",
    "  --LSTEventSource.LSTR0Corrections.drs4_time_calibration_path ../data/real/monitoring/PixelCalibration/LevelA/drs4_time_sampling_from_FF/20191124/v0.8.3/time_calibration.Run01625.0000.h5 \\\n",
    "  --LSTEventSource.LSTR0Corrections.calibration_path ../data/real/monitoring/PixelCalibration/LevelA/calibration/20201120/v0.8.3/calibration_filters_52.Run02964.0000.h5 \\\n",
    "  --LSTEventSource.LSTR0Corrections.calib_scale_high_gain=1.088 \\\n",
    "  --LSTEventSource.LSTR0Corrections.calib_scale_low_gain=1.004 \\\n",
    "  --LSTEventSource.EventTimeCalculator.run_summary_path ../data/real/monitoring/RunSummary/RunSummary_20201120.ecsv \\\n",
    "  --LSTEventSource.PointingSource.drive_report_path ../data/real/monitoring/DrivePositioning/drive_log_20201120.txt \\\n",
    "  --CameraCalibrator.image_extractor_type LocalPeakWindowSum \\\n",
    "  --CameraCalibrator.LocalPeakWindowSum.window_shift=4 \\\n",
    "  --CameraCalibrator.LocalPeakWindowSum.window_width=8 \\\n",
    "  --CameraCalibrator.LocalPeakWindowSum.apply_integration_correction=False \\"
   ]
  },
  {
   "cell_type": "code",
   "execution_count": null,
   "id": "ed6cb9db",
   "metadata": {},
   "outputs": [],
   "source": [
    "ctapipe_stage_1 = read_table(\n",
    "    f'/tmp/{os.getenv(\"USER\")}/lstchain-demo/LST-1.Run02965.0000_first400.dl1.h5',\n",
    "    '/dl1/event/telescope/images/tel_001'\n",
    ")\n",
    "ctapipe_stage_1[:5]"
   ]
  },
  {
   "cell_type": "markdown",
   "id": "201a94b9",
   "metadata": {},
   "source": [
    "### Comparison of lstchain and ctapipe output"
   ]
  },
  {
   "cell_type": "code",
   "execution_count": null,
   "id": "662f89ff",
   "metadata": {},
   "outputs": [],
   "source": [
    "from matplotlib.colors import LogNorm\n",
    "\n",
    "\n",
    "fig, ax = plt.subplots()\n",
    "\n",
    "bins = np.geomspace(1, 2e3, 101)\n",
    "\n",
    "cmap = plt.get_cmap('inferno').with_extremes(bad='gray')\n",
    "\n",
    "ax.hist2d(\n",
    "    lstchain_r0_to_dl1['image'].ravel(),\n",
    "    ctapipe_stage_1['image'].ravel(),\n",
    "    bins=[bins, bins],\n",
    "    cmap=cmap,\n",
    "    norm=LogNorm(),\n",
    ")\n",
    "ax.set_xscale('log')\n",
    "ax.set_yscale('log')\n",
    "ax.set_aspect(1)\n",
    "ax.set_facecolor('gray')"
   ]
  },
  {
   "cell_type": "code",
   "execution_count": null,
   "id": "4c992f9c",
   "metadata": {},
   "outputs": [],
   "source": [
    "np.all(lstchain_r0_to_dl1['image'].ravel() == ctapipe_stage_1['image'].ravel())"
   ]
  },
  {
   "cell_type": "code",
   "execution_count": null,
   "id": "59869890",
   "metadata": {},
   "outputs": [],
   "source": []
  }
 ],
 "metadata": {
  "kernelspec": {
   "display_name": "Python 3 (ipykernel)",
   "language": "python",
   "name": "python3"
  },
  "language_info": {
   "codemirror_mode": {
    "name": "ipython",
    "version": 3
   },
   "file_extension": ".py",
   "mimetype": "text/x-python",
   "name": "python",
   "nbconvert_exporter": "python",
   "pygments_lexer": "ipython3",
   "version": "3.8.12"
  }
 },
 "nbformat": 4,
 "nbformat_minor": 5
}
