{
 "cells": [
  {
   "cell_type": "markdown",
   "id": "339934a1",
   "metadata": {},
   "source": [
    "Command line call:\n",
    "\n",
    "```\n",
    "$ ctapipe-stage1 --config stage1.json --progress --overwrite\n",
    "```"
   ]
  },
  {
   "cell_type": "code",
   "execution_count": null,
   "id": "70c053da",
   "metadata": {},
   "outputs": [],
   "source": [
    "import matplotlib.pyplot as plt\n",
    "import numpy as np\n",
    "\n",
    "%matplotlib widget"
   ]
  },
  {
   "cell_type": "code",
   "execution_count": null,
   "id": "e3ae210d",
   "metadata": {},
   "outputs": [],
   "source": [
    "plt.rcParams['figure.constrained_layout.use'] = True\n",
    "plt.rcParams['figure.dpi'] = 150"
   ]
  },
  {
   "cell_type": "code",
   "execution_count": null,
   "id": "54fd3485",
   "metadata": {},
   "outputs": [],
   "source": [
    "from ctapipe.io import read_table\n",
    "\n",
    "\n",
    "images = read_table('./LST-1.Run02965.0000_first400.dl1.h5', '/dl1/event/telescope/images/tel_001')\n",
    "images[:5]"
   ]
  },
  {
   "cell_type": "code",
   "execution_count": null,
   "id": "106c3efb",
   "metadata": {},
   "outputs": [],
   "source": [
    "trigger = read_table('./LST-1.Run02965.0000_first400.dl1.h5', '/dl1/event/subarray/trigger')\n",
    "trigger[:5]"
   ]
  },
  {
   "cell_type": "code",
   "execution_count": null,
   "id": "1aa09ef5",
   "metadata": {},
   "outputs": [],
   "source": [
    "from astropy.table import join\n",
    "\n",
    "# combine the trigger info and images into one tables\n",
    "images = join(images, trigger, keys=('obs_id', 'event_id'))\n",
    "images[:5]"
   ]
  },
  {
   "cell_type": "code",
   "execution_count": null,
   "id": "e7db2de8",
   "metadata": {},
   "outputs": [],
   "source": [
    "from ctapipe.containers import EventType\n",
    "\n",
    "is_flatfield = images['event_type'] == EventType.FLATFIELD.value\n",
    "images[is_flatfield]"
   ]
  },
  {
   "cell_type": "code",
   "execution_count": null,
   "id": "63f7871b",
   "metadata": {},
   "outputs": [],
   "source": [
    "plt.figure()\n",
    "plt.hist(images[is_flatfield]['image'].ravel(), bins=100)\n",
    "\n",
    "None"
   ]
  },
  {
   "cell_type": "code",
   "execution_count": null,
   "id": "af189ca2",
   "metadata": {},
   "outputs": [],
   "source": [
    "mean_flatfield_image = images[is_flatfield]['image'].mean(axis=0)\n",
    "mean_flatfield_image"
   ]
  },
  {
   "cell_type": "code",
   "execution_count": null,
   "id": "6107f2df",
   "metadata": {},
   "outputs": [],
   "source": [
    "too_low, = np.nonzero(mean_flatfield_image < 30)\n",
    "too_low"
   ]
  },
  {
   "cell_type": "code",
   "execution_count": null,
   "id": "bea81932",
   "metadata": {},
   "outputs": [],
   "source": [
    "from ctapipe.visualization import CameraDisplay\n",
    "from ctapipe.instrument import SubarrayDescription\n",
    "\n",
    "subarray = SubarrayDescription.from_hdf('./LST-1.Run02965.0000_first400.dl1.h5')\n",
    "\n",
    "camera = subarray.tel[1].camera.geometry\n",
    "\n",
    "fig, ax = plt.subplots(constrained_layout=True)\n",
    "disp = CameraDisplay(camera, image=mean_flatfield_image, ax=ax, cmap='inferno')\n",
    "disp.add_colorbar()\n",
    "disp.highlight_pixels(too_low, color='g', linewidth=2)"
   ]
  }
 ],
 "metadata": {
  "kernelspec": {
   "display_name": "Python 3 (ipykernel)",
   "language": "python",
   "name": "python3"
  },
  "language_info": {
   "codemirror_mode": {
    "name": "ipython",
    "version": 3
   },
   "file_extension": ".py",
   "mimetype": "text/x-python",
   "name": "python",
   "nbconvert_exporter": "python",
   "pygments_lexer": "ipython3",
   "version": "3.8.12"
  }
 },
 "nbformat": 4,
 "nbformat_minor": 5
}
