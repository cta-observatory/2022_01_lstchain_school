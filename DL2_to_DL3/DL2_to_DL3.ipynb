{
 "cells": [
  {
   "cell_type": "markdown",
   "id": "35d072ef",
   "metadata": {},
   "source": [
    "# This example notebook on the usage of the lstchain_create_dl3_file Tool, does the following:\n",
    "## 1. Read observed DL2 file\n",
    "## 2. Use the config file to generate the event list HDUs\n",
    "## 3. Add the IRFs to the event list HDUs to create the DL3 file\n",
    "## 4. Index the DL3 files in the given folder"
   ]
  },
  {
   "cell_type": "markdown",
   "id": "25613774",
   "metadata": {},
   "source": [
    "To check the simple usage of the Tool, one can do the following in a terminal - \n",
    "$ lstchain_create_dl3_file --help\n",
    "\n",
    "or for more detailed help, \n",
    "$ lstchain_create_dl3_file --help-all\n",
    "\n",
    "Currently the Tool requires the information of the main observed source, name and RA/Dec position in degrees, to be passed as arguments, to enter source provenance information, in the final event list HDUs.\n",
    "\n",
    "One should use the same config file for event selection on the observed data, as used on the MC DL2 files for generating the IRFs, which are to be included in the final DL3 file.\n",
    "\n",
    "For sample DL2 file, one can use the file produced in the earlier session or the sample file stored at `/fefs/aswg/workspace/analysis-school-2022/src_indep/` or if the IRFs are produced using standard MC files of a particular data production, one should use the standard observed data DL2 files of the same data production\n",
    "\n",
    "For example, if one used the point gamma MC DL2 file `/fefs/aswg/data/mc/DL2/20200629_prod5_trans_80/gamma/zenith_20deg/south_pointing/20210923_v0.7.5_prod5_trans_80_dynamic_cleaning/off0.4deg/dl2_gamma_20deg_180deg_off0.4deg_20210923_v0.7.5_prod5_trans_80_dynamic_cleaning_testing.h5`,\n",
    "then one should use observed data DL2 file from `/fefs/aswg/data/real/DL2/20201120/v0.7.5_test_new_calibration_tree/tailcut84_dynamic_cleaning/`\n",
    "\n",
    "To get more explanation on the data format, check https://gamma-astro-data-formats.readthedocs.io/en/latest/index.html"
   ]
  },
  {
   "cell_type": "code",
   "execution_count": null,
   "id": "c41975ca",
   "metadata": {},
   "outputs": [],
   "source": [
    "import numpy as np\n",
    "from pathlib import Path\n",
    "\n",
    "from traitlets.config.loader import Config\n",
    "\n",
    "from astropy.io import fits\n",
    "from astropy.coordinates import SkyCoord\n",
    "from astropy.table import Table\n",
    "import astropy.units as u"
   ]
  },
  {
   "cell_type": "code",
   "execution_count": null,
   "id": "c989fde3",
   "metadata": {},
   "outputs": [],
   "source": [
    "from lstchain.io.io import read_data_dl2_to_QTable\n",
    "from lstchain.reco.utils import get_effective_time\n",
    "from lstchain.paths import run_info_from_filename, dl2_to_dl3_filename\n",
    "\n",
    "from lstchain.irf.hdu_table import (\n",
    "    create_event_list, add_icrs_position_params,\n",
    "    create_hdu_index_hdu, create_obs_index_hdu\n",
    ")\n",
    "from lstchain.io.event_selection import EventSelector, DL3FixedCuts\n",
    "from lstchain.io.config import read_configuration_file"
   ]
  },
  {
   "cell_type": "markdown",
   "id": "cae4306d",
   "metadata": {},
   "source": [
    "# 1. Input parameters to convert DL2 file to DL3"
   ]
  },
  {
   "cell_type": "code",
   "execution_count": null,
   "id": "1c2564f1",
   "metadata": {},
   "outputs": [],
   "source": [
    "# Modify the paths as applicable.\n",
    "base_dir = \"/fefs/aswg/workspace/analysis-school-2022/\"\n",
    "\n",
    "dl2_dir = \"src_indep/\"\n",
    "\n",
    "input_dl2_path = base_dir + dl2_dir + \"dl2_LST-1.Run2968_first10.h5\"\n",
    "\n",
    "output_dl3_path = \"./DL3_src_indep/\"\n",
    "Path(output_dl3_path).mkdir(exist_ok=True)\n",
    "\n",
    "config_file = base_dir + dl2_dir + \"irf_tool_config.json\"\n",
    "\n",
    "irf_file = base_dir + dl2_dir + \"pnt_irf_pnt_gamma.fits.gz\"\n",
    "\n",
    "source_name = \"Crab\"\n",
    "source_ra = \"83.63308333deg\"\n",
    "source_dec = \"22.0145deg\"\n",
    "\n",
    "overwrite = True"
   ]
  },
  {
   "cell_type": "raw",
   "id": "b1a15bc0",
   "metadata": {},
   "source": [
    "Same usage in the command line as,\n",
    "\n",
    "lstchain_create_dl3_file \n",
    "--input-dl2 $input_dl2_path\n",
    "--input-irf-path $irf_file\n",
    "--source-name $source_name\n",
    "--source-ra=$source_ra\n",
    "--source-dec=$source_dec\n",
    "--config $config_file\n",
    "--overwrite"
   ]
  },
  {
   "cell_type": "raw",
   "id": "ec95d46d",
   "metadata": {},
   "source": [
    "lstchain_create_dl3_index_files\n",
    "--input-dl3-dir $output_dl3_path\n",
    "--file-pattern dl3*gz\n",
    "--overwrite"
   ]
  },
  {
   "cell_type": "code",
   "execution_count": null,
   "id": "e80dc771",
   "metadata": {},
   "outputs": [],
   "source": [
    "dl3_filename = dl2_to_dl3_filename(input_dl2_path)\n",
    "source_pos = SkyCoord(ra=source_ra, dec=source_dec)\n",
    "print(\"The name of the DL3 file will be,\", dl3_filename)\n",
    "print(\"Using the source RA and DEC values to get the source position,\", source_pos)"
   ]
  },
  {
   "cell_type": "markdown",
   "id": "1e5d0365",
   "metadata": {},
   "source": [
    "# 2. Get the information of the data DL2 file"
   ]
  },
  {
   "cell_type": "code",
   "execution_count": null,
   "id": "c7405055",
   "metadata": {},
   "outputs": [],
   "source": [
    "%%time\n",
    "data = read_data_dl2_to_QTable(input_dl2_path)"
   ]
  },
  {
   "cell_type": "code",
   "execution_count": null,
   "id": "76ed5813",
   "metadata": {},
   "outputs": [],
   "source": [
    "%%time\n",
    "effective_time, elapsed_time = get_effective_time(data)\n",
    "run_number = run_info_from_filename(input_dl2_path)[1]\n",
    "print(\"The effective time of the run is,\",effective_time, \"and the total elapsed time of the run is,\", elapsed_time)\n",
    "print(\"The run number used from the DL2 file is,\", run_number)"
   ]
  },
  {
   "cell_type": "markdown",
   "id": "741b2a7c",
   "metadata": {},
   "source": [
    "# 3. Apply selection cuts and bin the events as per the config file"
   ]
  },
  {
   "cell_type": "code",
   "execution_count": null,
   "id": "4b3379fa",
   "metadata": {},
   "outputs": [],
   "source": [
    "config = Config(read_configuration_file(config_file))\n",
    "config"
   ]
  },
  {
   "cell_type": "code",
   "execution_count": null,
   "id": "d9415237",
   "metadata": {},
   "outputs": [],
   "source": [
    "# Using the Components for the event selection and for applying some cuts\n",
    "event_sel = EventSelector(config=Config(config))\n",
    "fixed_cuts = DL3FixedCuts(config=Config(config))"
   ]
  },
  {
   "cell_type": "code",
   "execution_count": null,
   "id": "4eabe9e1",
   "metadata": {},
   "outputs": [],
   "source": [
    "%%time\n",
    "# Applying event filters to the Hillas parameters\n",
    "data_size_0 = len(data)\n",
    "print(\"Size of the table before the filter -\", len(data))\n",
    "data = event_sel.filter_cut(data)\n",
    "print(\"Size of the table after the filter -\", len(data))"
   ]
  },
  {
   "cell_type": "code",
   "execution_count": null,
   "id": "a9e5992a",
   "metadata": {},
   "outputs": [],
   "source": [
    "%%time\n",
    "# Applying the gammaness cut\n",
    "print(\"Size of the table before the cut -\", len(data))\n",
    "data = fixed_cuts.gh_cut(data)\n",
    "print(\"Size of the table after the cut -\", len(data))"
   ]
  },
  {
   "cell_type": "markdown",
   "id": "790668f3",
   "metadata": {},
   "source": [
    "# 4. Convert the position parameters of the events in ICRS frame and add to the table"
   ]
  },
  {
   "cell_type": "code",
   "execution_count": null,
   "id": "baba409b",
   "metadata": {},
   "outputs": [],
   "source": [
    "%%time\n",
    "data = add_icrs_position_params(data, source_pos)"
   ]
  },
  {
   "cell_type": "markdown",
   "id": "d0198a13",
   "metadata": {},
   "source": [
    "# 5. Create the HDUs for the DL3 file"
   ]
  },
  {
   "cell_type": "code",
   "execution_count": null,
   "id": "b570d0f7",
   "metadata": {},
   "outputs": [],
   "source": [
    "%%time\n",
    "events, gti, pointing = create_event_list(\n",
    "    data, run_number, source_name, source_pos, effective_time.value, elapsed_time.value\n",
    ")"
   ]
  },
  {
   "cell_type": "markdown",
   "id": "803482cc",
   "metadata": {},
   "source": [
    "# 6. Add the HDUs to the final HDUList"
   ]
  },
  {
   "cell_type": "code",
   "execution_count": null,
   "id": "af9ee4ea",
   "metadata": {},
   "outputs": [],
   "source": [
    "hdulist = fits.HDUList([fits.PrimaryHDU(), events, gti, pointing])"
   ]
  },
  {
   "cell_type": "code",
   "execution_count": null,
   "id": "53141f02",
   "metadata": {},
   "outputs": [],
   "source": [
    "irf_hdus = fits.open(irf_file)"
   ]
  },
  {
   "cell_type": "code",
   "execution_count": null,
   "id": "b286f8ff",
   "metadata": {},
   "outputs": [],
   "source": [
    "for irf in irf_hdus[1:]:\n",
    "    hdulist.append(irf)"
   ]
  },
  {
   "cell_type": "markdown",
   "id": "bcc42110",
   "metadata": {},
   "source": [
    "# 7. Write the HDUList to the final DL3 file"
   ]
  },
  {
   "cell_type": "code",
   "execution_count": null,
   "id": "80bbb24d",
   "metadata": {},
   "outputs": [],
   "source": [
    "hdulist.writeto(output_dl3_path + dl3_filename, overwrite=overwrite)"
   ]
  },
  {
   "cell_type": "markdown",
   "id": "f8854e99",
   "metadata": {},
   "source": [
    "# 8. Check the DL3 fits info"
   ]
  },
  {
   "cell_type": "code",
   "execution_count": null,
   "id": "18e06dc2",
   "metadata": {},
   "outputs": [],
   "source": [
    "f = fits.open(output_dl3_path + dl3_filename)\n",
    "f.info()"
   ]
  },
  {
   "cell_type": "markdown",
   "id": "00f93eaa",
   "metadata": {},
   "source": [
    "# 9. Index the DL3 files in the folder"
   ]
  },
  {
   "cell_type": "code",
   "execution_count": null,
   "id": "9ac7d036",
   "metadata": {},
   "outputs": [],
   "source": [
    "%%time\n",
    "# Get the list of all DL3 files in the given output destination\n",
    "list_dl3_files = sorted(Path(output_dl3_path).glob(\"dl3*gz\"))\n",
    "\n",
    "file_list = []\n",
    "for d in list_dl3_files:\n",
    "    file_list.append(d.name)\n",
    "print(file_list)"
   ]
  },
  {
   "cell_type": "code",
   "execution_count": null,
   "id": "ffc94043",
   "metadata": {},
   "outputs": [],
   "source": [
    "%%time\n",
    "create_hdu_index_hdu(\n",
    "    file_list, \n",
    "    Path(output_dl3_path), \n",
    "    Path(output_dl3_path)/\"hdu-index.fits.gz\", \n",
    "    overwrite\n",
    ")"
   ]
  },
  {
   "cell_type": "code",
   "execution_count": null,
   "id": "f2dc5ecf",
   "metadata": {},
   "outputs": [],
   "source": [
    "%%time\n",
    "create_obs_index_hdu(\n",
    "    file_list, \n",
    "    Path(output_dl3_path), \n",
    "    Path(output_dl3_path)/\"obs-index.fits.gz\", \n",
    "    overwrite\n",
    ")"
   ]
  },
  {
   "cell_type": "markdown",
   "id": "9554cb12",
   "metadata": {},
   "source": [
    "# 10. Check the DL3 Index files"
   ]
  },
  {
   "cell_type": "code",
   "execution_count": null,
   "id": "89a42bc1",
   "metadata": {},
   "outputs": [],
   "source": [
    "Table.read(output_dl3_path+\"hdu-index.fits.gz\")"
   ]
  },
  {
   "cell_type": "code",
   "execution_count": null,
   "id": "ef2cdb24",
   "metadata": {},
   "outputs": [],
   "source": [
    "Table.read(output_dl3_path+\"hdu-index.fits.gz\").meta"
   ]
  },
  {
   "cell_type": "code",
   "execution_count": null,
   "id": "8d72865e",
   "metadata": {},
   "outputs": [],
   "source": [
    "Table.read(output_dl3_path+\"obs-index.fits.gz\")"
   ]
  },
  {
   "cell_type": "code",
   "execution_count": null,
   "id": "aa28c0fd",
   "metadata": {},
   "outputs": [],
   "source": [
    "Table.read(output_dl3_path+\"obs-index.fits.gz\").meta"
   ]
  }
 ],
 "metadata": {
  "kernelspec": {
   "display_name": "lst-dev",
   "language": "python",
   "name": "lst-dev"
  },
  "language_info": {
   "codemirror_mode": {
    "name": "ipython",
    "version": 3
   },
   "file_extension": ".py",
   "mimetype": "text/x-python",
   "name": "python",
   "nbconvert_exporter": "python",
   "pygments_lexer": "ipython3",
   "version": "3.8.12"
  }
 },
 "nbformat": 4,
 "nbformat_minor": 5
}
