{
 "cells": [
  {
   "cell_type": "markdown",
   "id": "f350f5e3-bdad-46f2-bdbb-401d04dfd2ad",
   "metadata": {},
   "source": [
    "# MC DL2 performance analysis and IRF generation\n",
    "LST data analysis school, 19-01-2022, Thomas Vuillaume    \n",
    "https://indico.cta-observatory.org/event/3687    \n",
    "https://github.com/cta-observatory/2022_01_lstchain_school    "
   ]
  },
  {
   "cell_type": "code",
   "execution_count": null,
   "id": "790dd179-ec24-425e-a4ef-18284ba0fdeb",
   "metadata": {},
   "outputs": [],
   "source": []
  },
  {
   "cell_type": "code",
   "execution_count": null,
   "id": "1e40c61f-ddfd-47e8-83dc-5779b4514d8e",
   "metadata": {},
   "outputs": [],
   "source": [
    "import os\n",
    "import pandas as pd\n",
    "from tqdm.auto import tqdm\n",
    "import matplotlib.pyplot as plt\n",
    "import numpy as np\n",
    "\n",
    "\n",
    "import lstchain\n",
    "print(f\"lstchain version {lstchain.__version__}\")\n",
    "from lstchain.io.io import dl2_params_lstcam_key\n",
    "from lstchain.visualization import plot_dl2\n",
    "from lstchain.io.io import read_mc_dl2_to_QTable\n",
    "\n",
    "import ctaplot\n",
    "ctaplot.set_style('notebook')\n"
   ]
  },
  {
   "cell_type": "code",
   "execution_count": null,
   "id": "35f02e22-bd1d-4547-bb0b-358c399eaad7",
   "metadata": {},
   "outputs": [],
   "source": []
  },
  {
   "cell_type": "markdown",
   "id": "22030b71-8a86-4a39-abce-eb5e1c577b6c",
   "metadata": {},
   "source": [
    "# DL2 analysis\n",
    "\n",
    "You should have produced DL2 files from test Monte-Carlo data.\n",
    "Replace the following paths with your own."
   ]
  },
  {
   "cell_type": "code",
   "execution_count": null,
   "id": "557131ac-6d8e-41b5-a9c1-4b3e80dac036",
   "metadata": {},
   "outputs": [],
   "source": [
    "gamma_file = '/home/enrique.garcia/TEST_SCHOOL/data/mc/DL2/gamma/dl2_gamma_testing.h5'\n",
    "proton_file = '/home/enrique.garcia/TEST_SCHOOL/data/mc/DL2/proton/dl2_proton_testing.h5'\n",
    "electron_file = '/home/enrique.garcia/TEST_SCHOOL/data/mc/DL2/electron/dl2_electron_testing.h5'"
   ]
  },
  {
   "cell_type": "code",
   "execution_count": null,
   "id": "3351cfb0-ce9e-4066-a1e6-cc245afce2b2",
   "metadata": {},
   "outputs": [],
   "source": [
    "# gamma_file = '/fefs/aswg/data/mc/DL2/20200629_prod5_trans_80/gamma/zenith_20deg/south_pointing/20210923_v0.7.5_prod5_trans_80_dynamic_cleaning/off0.4deg/dl2_gamma_20deg_180deg_off0.4deg_20210923_v0.7.5_prod5_trans_80_dynamic_cleaning_testing.h5'\n",
    "# proton_file = '/fefs/aswg/data/mc/DL2/20200629_prod5_trans_80/proton/zenith_20deg/south_pointing/20210923_v0.7.5_prod5_trans_80_dynamic_cleaning/dl2_proton_20deg_180deg_20210923_v0.7.5_prod5_trans_80_dynamic_cleaning_testing.h5'\n",
    "# electron_file = '/fefs/aswg/data/mc/DL2/20200629_prod5_trans_80/electron/zenith_20deg/south_pointing/20210923_v0.7.5_prod5_trans_80_dynamic_cleaning/dl2_electron_20deg_180deg_20210923_v0.7.5_prod5_trans_80_dynamic_cleaning_testing.h5'\n"
   ]
  },
  {
   "cell_type": "code",
   "execution_count": null,
   "id": "5891d682-4ffe-4f42-967f-874d8489075b",
   "metadata": {},
   "outputs": [],
   "source": [
    "particles = {\n",
    "    \"gamma\": {\"file\": gamma_file},\n",
    "    \"proton\": {\"file\": proton_file},\n",
    "    \"electron\": {\"file\": electron_file},\n",
    "}"
   ]
  },
  {
   "cell_type": "code",
   "execution_count": null,
   "id": "ee14bfac-d512-4f30-844a-edae0da64a4f",
   "metadata": {},
   "outputs": [],
   "source": []
  },
  {
   "cell_type": "markdown",
   "id": "2a8f0505-b58a-4959-8058-49cfa2291989",
   "metadata": {},
   "source": [
    "## Data loading as pandas dataframes"
   ]
  },
  {
   "cell_type": "code",
   "execution_count": null,
   "id": "68347702-be0b-4c65-8f8a-ec46cdb6085e",
   "metadata": {},
   "outputs": [],
   "source": [
    "for part_name, part_dict in particles.items():\n",
    "    print(f\"reading {part_name}\")\n",
    "    part_dict['dataframe'] = pd.read_hdf(part_dict['file'], key=dl2_params_lstcam_key)"
   ]
  },
  {
   "cell_type": "code",
   "execution_count": null,
   "id": "6ab848c2-78bf-46a7-9c24-b28c4c62ef75",
   "metadata": {},
   "outputs": [],
   "source": [
    "gammas_df = particles['gamma']['dataframe']\n",
    "protons_df = particles['proton']['dataframe']\n",
    "electrons_df = particles['electron']['dataframe']"
   ]
  },
  {
   "cell_type": "markdown",
   "id": "1e507165-a7bb-440b-8465-4cd9358fbea7",
   "metadata": {
    "tags": []
   },
   "source": [
    "## Quick look at the parameters plot"
   ]
  },
  {
   "cell_type": "code",
   "execution_count": null,
   "id": "f1e22e05-30e8-4292-a9a0-11f9fa9c46d5",
   "metadata": {},
   "outputs": [],
   "source": [
    "gammas_df"
   ]
  },
  {
   "cell_type": "markdown",
   "id": "dfdc041f-b08c-4484-a3af-4f2136311070",
   "metadata": {},
   "source": [
    "**Note:** For convenience, as LST-1 data is mono, all the DL1 parameters (width, length, intensity...) are included in the DL2 table. This is not possible in stereo and is not the case in ctapipe data model.\n"
   ]
  },
  {
   "cell_type": "code",
   "execution_count": null,
   "id": "4380db46-d390-47db-908d-08ebc60a0bcf",
   "metadata": {},
   "outputs": [],
   "source": []
  },
  {
   "cell_type": "code",
   "execution_count": null,
   "id": "2ab88598-1a64-4c51-ab7e-85e6451edd45",
   "metadata": {},
   "outputs": [],
   "source": [
    "gammas_df.describe()"
   ]
  },
  {
   "cell_type": "code",
   "execution_count": null,
   "id": "f1248912-eb0b-42d0-912c-3e5477b845d6",
   "metadata": {},
   "outputs": [],
   "source": [
    "gammas_df.hist(bins=100, figsize=(20,20));\n",
    "plt.tight_layout()\n",
    "plt.show()"
   ]
  },
  {
   "cell_type": "markdown",
   "id": "bef4d320-b5d8-4aed-a335-1f6bdf6e1f48",
   "metadata": {},
   "source": [
    "## Reconstructed parameters"
   ]
  },
  {
   "cell_type": "code",
   "execution_count": null,
   "id": "609a1f01-383e-4196-964c-6dd41be7251a",
   "metadata": {},
   "outputs": [],
   "source": [
    "gammas_df[['mc_alt', 'mc_az', 'reco_alt', 'reco_az', 'log_mc_energy', 'log_reco_energy', 'gammaness']]"
   ]
  },
  {
   "cell_type": "code",
   "execution_count": null,
   "id": "6a8a4ddd-4a7a-4957-a5a7-d823e580a60e",
   "metadata": {},
   "outputs": [],
   "source": [
    "hist_opt = dict(bins=np.logspace(-2,2,50), histtype='step', lw=2)\n",
    "ax = gammas_df['mc_energy'].hist(**hist_opt, label='simu energy')\n",
    "ax = gammas_df['reco_energy'].hist(**hist_opt, label='reco energy')\n",
    "\n",
    "ax.set_xlabel('Energy / TeV')\n",
    "ax.set_xscale('log')\n",
    "ax.legend()\n",
    "plt.show()"
   ]
  },
  {
   "cell_type": "code",
   "execution_count": null,
   "id": "c3dfd0ae-9e30-4ed0-be20-f1d14c428140",
   "metadata": {},
   "outputs": [],
   "source": [
    "gammas_df[['reco_alt', 'reco_az', 'log_reco_energy', 'gammaness']].hist(bins=100, figsize=(14,10));\n",
    "plt.tight_layout()\n",
    "plt.show()"
   ]
  },
  {
   "cell_type": "markdown",
   "id": "dd88f5e4-4fed-4b22-b5b6-70b0cce1e0bc",
   "metadata": {},
   "source": [
    "## Direction recontruction"
   ]
  },
  {
   "cell_type": "code",
   "execution_count": null,
   "id": "40826a89-4c2b-488f-bc99-38e5a51480ba",
   "metadata": {},
   "outputs": [],
   "source": [
    "gammas_df[['mc_alt', 'mc_az', 'reco_alt', 'reco_az']]"
   ]
  },
  {
   "cell_type": "code",
   "execution_count": null,
   "id": "bc83763e-76bc-46d2-943e-a43359aafeae",
   "metadata": {},
   "outputs": [],
   "source": [
    "plot_dl2.direction_results(gammas_df)\n",
    "plt.show()"
   ]
  },
  {
   "cell_type": "markdown",
   "id": "eb971243-9049-46fd-b6ed-90f7945a9019",
   "metadata": {},
   "source": [
    "## Energy reconstruction"
   ]
  },
  {
   "cell_type": "code",
   "execution_count": null,
   "id": "ada7605c-ccce-4c38-9d3d-4bf51ae1cce3",
   "metadata": {},
   "outputs": [],
   "source": [
    "hist_opt = dict(bins=np.logspace(-2,2,50), histtype='step', lw=2)\n",
    "ax = gammas_df['mc_energy'].hist(**hist_opt, label='gammas simu energy', color='steelblue')\n",
    "ax = gammas_df['reco_energy'].hist(**hist_opt, label='gammas reco energy', color='steelblue', ls='--')\n",
    "ax = protons_df['mc_energy'].hist(**hist_opt, label='protons simu energy', color='tomato')\n",
    "ax = protons_df['reco_energy'].hist(**hist_opt, label='protons reco energy', color='tomato', ls='--')\n",
    "\n",
    "\n",
    "ax.set_xlabel('Energy / TeV')\n",
    "ax.set_xscale('log')\n",
    "ax.set_yscale('log')\n",
    "ax.legend()\n",
    "plt.show()"
   ]
  },
  {
   "cell_type": "code",
   "execution_count": null,
   "id": "c2e37a4a-75a1-4711-b417-0f69a17a24f1",
   "metadata": {},
   "outputs": [],
   "source": [
    "plot_dl2.energy_results(gammas_df)\n",
    "plt.show()"
   ]
  },
  {
   "cell_type": "markdown",
   "id": "0ad0980d-57fe-4d42-8757-8128d42d5605",
   "metadata": {},
   "source": [
    "## Classification results"
   ]
  },
  {
   "cell_type": "code",
   "execution_count": null,
   "id": "08757a59-a08c-42dd-b00b-f248d04ffacd",
   "metadata": {},
   "outputs": [],
   "source": [
    "hist_opt = dict(bins=100, histtype='step', lw=2, density=True)\n",
    "\n",
    "ax = gammas_df['gammaness'].hist(**hist_opt, label='gammas')\n",
    "ax = protons_df['gammaness'].hist(**hist_opt, label='protons')\n",
    "\n",
    "ax.set_xlabel('gammaness')\n",
    "ax.legend()\n",
    "plt.show()"
   ]
  },
  {
   "cell_type": "code",
   "execution_count": null,
   "id": "3da4604c-4ac8-4f2e-afcc-bf9d60a5744b",
   "metadata": {},
   "outputs": [],
   "source": [
    "plot_dl2.plot_roc_gamma(pd.concat([gammas_df, protons_df]));\n",
    "plt.show()"
   ]
  },
  {
   "cell_type": "code",
   "execution_count": null,
   "id": "f9235cd8-bcdb-4b82-93ce-affaaf37d897",
   "metadata": {},
   "outputs": [],
   "source": []
  },
  {
   "cell_type": "markdown",
   "id": "44762983-c950-47fe-bd4a-d08385330ee7",
   "metadata": {},
   "source": [
    "# Exercise: Improve the results by selecting events\n",
    "\n",
    "play with the event filters to see if you can improve the direction and energy results"
   ]
  },
  {
   "cell_type": "code",
   "execution_count": null,
   "id": "d5b2ce6f-c393-4246-8ebd-b0595c566f90",
   "metadata": {},
   "outputs": [],
   "source": [
    "from lstchain.reco.utils import filter_events"
   ]
  },
  {
   "cell_type": "code",
   "execution_count": null,
   "id": "134b1221-efc0-4a43-bfec-deb196b1dd9c",
   "metadata": {},
   "outputs": [],
   "source": [
    "filters = {\n",
    "    'intensity': [CHOOSE_A_VALUE, np.inf],\n",
    "    # 'wl': [0, 1],\n",
    "}\n",
    "\n",
    "filtered_gammas_df = filter_events(gammas_df, filters=filters)"
   ]
  },
  {
   "cell_type": "code",
   "execution_count": null,
   "id": "4585f32d-99a9-41f8-9ee0-a2116256ed60",
   "metadata": {},
   "outputs": [],
   "source": [
    "plot_dl2.plot_angular_resolution(gammas_df, label='no cuts');\n",
    "plot_dl2.plot_angular_resolution(filtered_gammas_df, label='filtered');\n",
    "\n",
    "plt.legend()\n",
    "plt.grid(True, which='both')\n",
    "plt.show()"
   ]
  },
  {
   "cell_type": "code",
   "execution_count": null,
   "id": "df843143-8cd6-4e4e-a1c9-793139fbdae9",
   "metadata": {},
   "outputs": [],
   "source": [
    "plot_dl2.energy_results(filtered_gammas_df);\n",
    "\n",
    "plt.show()"
   ]
  },
  {
   "cell_type": "code",
   "execution_count": null,
   "id": "9c37932e-9922-4a46-b23d-519574d521f2",
   "metadata": {},
   "outputs": [],
   "source": [
    "plot_dl2.plot_energy_resolution(gammas_df, label='no cut');\n",
    "plot_dl2.plot_energy_resolution(filtered_gammas_df, label='filtered');\n",
    "\n",
    "plt.legend()\n",
    "plt.grid(True, which='both')\n",
    "plt.show()"
   ]
  },
  {
   "cell_type": "markdown",
   "id": "64980a97-e6ea-461f-b25a-e9070b77d3f8",
   "metadata": {},
   "source": [
    "# pyIRF\n",
    "\n",
    "Code adapted from the pyIRF example to LST-1 data"
   ]
  },
  {
   "cell_type": "code",
   "execution_count": null,
   "id": "451f3c7b-fb06-4739-8c5c-ae8c836b7ae2",
   "metadata": {},
   "outputs": [],
   "source": [
    "import pyirf\n",
    "print(f\"pyirf version {pyirf.__version__}\")"
   ]
  },
  {
   "cell_type": "code",
   "execution_count": null,
   "id": "265621ef-ded5-4b91-82c7-c609299231df",
   "metadata": {},
   "outputs": [],
   "source": [
    "import tables\n",
    "import numpy as np\n",
    "import astropy.units as u\n",
    "from astropy.table import QTable\n",
    "import matplotlib.pyplot as plt\n",
    "from matplotlib.colors import LogNorm\n",
    "import ctaplot\n",
    "ctaplot.set_style('notebook')"
   ]
  },
  {
   "cell_type": "code",
   "execution_count": null,
   "id": "f5ebff11-bc79-4a4a-b9a2-a4753d08dce4",
   "metadata": {},
   "outputs": [],
   "source": [
    "import operator\n",
    "from pathlib import Path\n",
    "import numpy as np\n",
    "from astropy import table\n",
    "import astropy.units as u\n",
    "from astropy.io import fits\n",
    "\n",
    "from pyirf.binning import (\n",
    "    create_bins_per_decade,\n",
    "    add_overflow_bins,\n",
    "    create_histogram_table,\n",
    ")\n",
    "from pyirf.cuts import calculate_percentile_cut, evaluate_binned_cut\n",
    "from pyirf.sensitivity import calculate_sensitivity, estimate_background\n",
    "from pyirf.utils import calculate_theta, calculate_source_fov_offset\n",
    "from pyirf.benchmarks import energy_bias_resolution, angular_resolution\n",
    "from pyirf.benchmarks.energy_bias_resolution import energy_resolution_absolute_68\n",
    "\n",
    "from pyirf.spectral import (\n",
    "    calculate_event_weights,\n",
    "    PowerLaw,\n",
    "    CRAB_HEGRA,\n",
    "    IRFDOC_PROTON_SPECTRUM,\n",
    "    IRFDOC_ELECTRON_SPECTRUM,\n",
    ")\n",
    "from pyirf.cut_optimization import optimize_gh_cut\n",
    "\n",
    "from pyirf.irf import (\n",
    "    effective_area_per_energy,\n",
    "    energy_dispersion,\n",
    "    psf_table,\n",
    "    background_2d,\n",
    ")\n",
    "\n",
    "from pyirf.io import (\n",
    "    create_aeff2d_hdu,\n",
    "    create_psf_table_hdu,\n",
    "    create_energy_dispersion_hdu,\n",
    "    create_rad_max_hdu,\n",
    "    create_background_2d_hdu,\n",
    ")\n",
    "\n",
    "from lstchain.io.io import read_mc_dl2_to_QTable\n",
    "\n",
    "from lstchain.reco.utils import filter_events"
   ]
  },
  {
   "cell_type": "code",
   "execution_count": null,
   "id": "db11f2e8-17b7-4c08-b027-f1195994facc",
   "metadata": {},
   "outputs": [],
   "source": []
  },
  {
   "cell_type": "code",
   "execution_count": null,
   "id": "05f91355-ca75-48a3-aae8-6df58be9b427",
   "metadata": {},
   "outputs": [],
   "source": [
    "T_OBS = 50 * u.hour\n",
    "\n",
    "# scaling between on and off region.\n",
    "# Make off region 10 times larger than on region for better\n",
    "# background statistics\n",
    "ALPHA = 0.1\n",
    "\n",
    "# Radius to use for calculating background rate\n",
    "MAX_BG_RADIUS = 1 * u.deg\n",
    "MAX_GH_CUT_EFFICIENCY = 0.9\n",
    "GH_CUT_EFFICIENCY_STEP = 0.01\n",
    "\n",
    "# gh cut used for first calculation of the binned theta cuts = initial proportion of gammas to keep\n",
    "INITIAL_GH_CUT_EFFICENCY = 0.4\n",
    "\n",
    "MIN_THETA_CUT = 0.1 * u.deg\n",
    "MAX_THETA_CUT = 0.5 * u.deg\n",
    "\n",
    "MIN_ENERGY = 20.0 * u.GeV\n",
    "MAX_ENERGY = 20.05 * u.TeV\n",
    "\n",
    "# same number of bins per decade than official CTA IRFs\n",
    "N_BIN_PER_DECADE = 5\n",
    "\n"
   ]
  },
  {
   "cell_type": "code",
   "execution_count": null,
   "id": "b8646c01-686f-4ba0-8211-929244ea1c7e",
   "metadata": {},
   "outputs": [],
   "source": [
    "# ls /fefs/aswg/data/mc/DL2/20200629_prod5_trans_80/gamma/zenith_20deg/south_pointing/20210923_v0.7.5_prod5_trans_80_dynamic_cleaning/off0.4deg/"
   ]
  },
  {
   "cell_type": "code",
   "execution_count": null,
   "id": "7f9d8e40-fe2a-4255-81eb-b282a7299a40",
   "metadata": {},
   "outputs": [],
   "source": [
    "particles = {\n",
    "    \"gamma\": {\"file\": gamma_file, \"target_spectrum\": CRAB_HEGRA},\n",
    "    \"proton\": {\"file\": proton_file, \"target_spectrum\": IRFDOC_PROTON_SPECTRUM},\n",
    "    \"electron\": {\n",
    "        \"file\": electron_file,\n",
    "        \"target_spectrum\": IRFDOC_ELECTRON_SPECTRUM,\n",
    "    },\n",
    "}"
   ]
  },
  {
   "cell_type": "code",
   "execution_count": null,
   "id": "32a65568-9ae3-41ba-b108-787e97bc6dcf",
   "metadata": {},
   "outputs": [],
   "source": [
    "filters = {\n",
    "    'intensity': [10, np.inf],\n",
    "}"
   ]
  },
  {
   "cell_type": "markdown",
   "id": "27010af3-876b-4e27-89c9-2e3464e073ca",
   "metadata": {},
   "source": [
    "## Data Loading"
   ]
  },
  {
   "cell_type": "code",
   "execution_count": null,
   "id": "f0b0534a-eba6-470b-a168-fda7ee998b6f",
   "metadata": {},
   "outputs": [],
   "source": [
    "for particle_type, p in particles.items():\n",
    "    p[\"events\"], p[\"simulation_info\"] = read_mc_dl2_to_QTable(p[\"file\"])\n",
    "    p['events'] = filter_events(p['events'], filters)\n",
    "    p[\"simulated_spectrum\"] = PowerLaw.from_simulation(p[\"simulation_info\"], T_OBS)\n",
    "    p[\"events\"][\"weight\"] = calculate_event_weights(\n",
    "            p[\"events\"][\"true_energy\"], p[\"target_spectrum\"], p[\"simulated_spectrum\"]\n",
    "        )\n",
    "    \n",
    "    for prefix in (\"true\", \"reco\"):\n",
    "            k = f\"{prefix}_source_fov_offset\"\n",
    "            p[\"events\"][k] = calculate_source_fov_offset(p[\"events\"], prefix=prefix)\n",
    "\n",
    "    \n",
    "    \n",
    "gammas = particles[\"gamma\"][\"events\"]\n",
    "# background table composed of both electrons and protons\n",
    "background = table.vstack(\n",
    "    [particles[\"proton\"][\"events\"], particles[\"electron\"][\"events\"]]\n",
    ")\n",
    "\n",
    "source_alt, source_az = gammas['true_alt'][0], gammas['true_az'][0]\n",
    "for particle_type, p in particles.items():\n",
    "    # calculate theta / distance between reco and assumed source position\n",
    "    # we handle only ON observations here, so the assumed source pos is the pointing position\n",
    "    p[\"events\"][\"theta\"] = calculate_theta(p[\"events\"], assumed_source_az=source_az, assumed_source_alt=source_alt)\n"
   ]
  },
  {
   "cell_type": "code",
   "execution_count": null,
   "id": "e5e1c5fe-ad67-46c6-96ee-9e44e8398fd8",
   "metadata": {},
   "outputs": [],
   "source": [
    "print(particles['gamma']['simulation_info'])\n",
    "\n",
    "gammas[:5]"
   ]
  },
  {
   "cell_type": "markdown",
   "id": "156665d8-6652-483c-a48b-9f02b3b5e927",
   "metadata": {},
   "source": [
    "## First round"
   ]
  },
  {
   "cell_type": "code",
   "execution_count": null,
   "id": "f0d0eb5a-76a3-4bec-8c02-2097c5c9d671",
   "metadata": {},
   "outputs": [],
   "source": [
    "hist_opt = dict(density=False, alpha=0.8, bins=40, log=True)\n",
    "fig, ax = plt.subplots()\n",
    "ax.hist(gammas[\"gh_score\"], cumulative=True, **hist_opt, label='cumul')\n",
    "ax.hist(gammas[\"gh_score\"], cumulative=False, **hist_opt, color=plt.rcParams['axes.prop_cycle'].by_key()['color'][2])\n",
    "ax.set_xlabel('GH score')\n",
    "ax.legend()\n",
    "plt.show()"
   ]
  },
  {
   "cell_type": "code",
   "execution_count": null,
   "id": "778be9f6-6af8-42dd-81f2-e9dce4866b85",
   "metadata": {},
   "outputs": [],
   "source": [
    "INITIAL_GH_CUT = np.quantile(gammas[\"gh_score\"], (1 - INITIAL_GH_CUT_EFFICENCY))\n",
    "theta_energy_bins = add_overflow_bins(create_bins_per_decade(MIN_ENERGY, MAX_ENERGY, N_BIN_PER_DECADE))\n",
    "\n",
    "\n",
    "print(f\"theta energy bins: {theta_energy_bins}\")\n",
    "\n",
    "# theta cut is 68 percent containment of the gammas\n",
    "# for now with a fixed global, unoptimized score cut\n",
    "\n",
    "mask_theta_cuts = gammas[\"gh_score\"] >= INITIAL_GH_CUT\n",
    "theta_cuts = calculate_percentile_cut(\n",
    "    gammas[\"theta\"][mask_theta_cuts],\n",
    "    gammas[\"reco_energy\"][mask_theta_cuts],\n",
    "    bins=theta_energy_bins,\n",
    "    min_value=MIN_THETA_CUT,\n",
    "    fill_value=MAX_THETA_CUT,\n",
    "    max_value=MAX_THETA_CUT,\n",
    "    percentile=68,\n",
    ")\n",
    "\n",
    "theta_cuts"
   ]
  },
  {
   "cell_type": "code",
   "execution_count": null,
   "id": "4839ae9d-9758-4c70-b40f-82634c7c7efe",
   "metadata": {},
   "outputs": [],
   "source": [
    "from astropy.visualization import quantity_support\n",
    "from matplotlib.ticker import FormatStrFormatter"
   ]
  },
  {
   "cell_type": "code",
   "execution_count": null,
   "id": "9be5b34c-bfd1-427a-bf5c-c98cecfb53ab",
   "metadata": {},
   "outputs": [],
   "source": [
    "fig, ax = plt.subplots(figsize=(7,4))\n",
    "with quantity_support():\n",
    "    plt.errorbar(theta_cuts['center'].to(u.TeV), theta_cuts['cut'].to(u.deg), \n",
    "                 xerr=((theta_cuts['center']-theta_cuts['low']).to(u.TeV), (theta_cuts['high']-theta_cuts['center']).to(u.TeV)),\n",
    "                 ls='--')\n",
    "ax.set_xscale('log')\n",
    "ax.set_ylabel('theta cut / deg')\n",
    "ax.set_xlabel(f'Energy / TeV')\n",
    "ax.grid(True, which='both')\n",
    "ax.yaxis.set_major_formatter(FormatStrFormatter('%.2f'))\n",
    "plt.show()"
   ]
  },
  {
   "cell_type": "code",
   "execution_count": null,
   "id": "b8fdba18-a270-4cbe-90b8-29f56d3c8402",
   "metadata": {},
   "outputs": [],
   "source": [
    "sensitivity_bins = add_overflow_bins(create_bins_per_decade(MIN_ENERGY, MAX_ENERGY, bins_per_decade=N_BIN_PER_DECADE))\n",
    "\n",
    "# Optimizing G/H separation cut for best sensitivity\n",
    "gh_cut_efficiencies = np.arange(\n",
    "    GH_CUT_EFFICIENCY_STEP,\n",
    "    MAX_GH_CUT_EFFICIENCY + GH_CUT_EFFICIENCY_STEP / 2,\n",
    "    GH_CUT_EFFICIENCY_STEP,\n",
    ")\n",
    "\n",
    "sensitivity_step_2, gh_cuts = optimize_gh_cut(\n",
    "        gammas,\n",
    "        background,\n",
    "        reco_energy_bins=sensitivity_bins,\n",
    "        gh_cut_efficiencies=gh_cut_efficiencies,\n",
    "        op=operator.ge,\n",
    "        theta_cuts=theta_cuts,\n",
    "        alpha=ALPHA,\n",
    "        background_radius=MAX_BG_RADIUS,\n",
    ")"
   ]
  },
  {
   "cell_type": "code",
   "execution_count": null,
   "id": "2573b633-7594-45fd-9d89-482c76a0a4de",
   "metadata": {},
   "outputs": [],
   "source": [
    "sensitivity_step_2"
   ]
  },
  {
   "cell_type": "code",
   "execution_count": null,
   "id": "6f388e95-7f9f-437d-9fb7-3688dc982d33",
   "metadata": {},
   "outputs": [],
   "source": [
    "fig, axes = plt.subplots(1, 2, figsize=(15, 5))\n",
    "\n",
    "ax = axes[0]\n",
    "\n",
    "_,_,_,im = ax.hist2d(gammas['reco_energy'].to_value(u.TeV), gammas['gh_score'],\n",
    "           bins=(np.logspace(-2, 1, 100), np.linspace(0, 1, 100)),\n",
    "           norm=LogNorm()\n",
    "          );\n",
    "plt.colorbar(im, ax=ax)\n",
    "\n",
    "ax.plot(gh_cuts['center'].to_value(u.TeV), gh_cuts['cut'], color='red', ls='--')\n",
    "ax.fill_between(gh_cuts['center'].to_value(u.TeV), 0, gh_cuts['cut'], color='none', alpha=0.8, hatch=\"x\", edgecolor='red', label='removed')\n",
    "ax.set_title('Gammas events selection based on GH score')\n",
    "\n",
    "\n",
    "### Exercise: do the same with the background\n",
    "\n",
    "ax = axes[1]\n",
    "ax.set_title('Background events selection based on GH score')\n",
    "\n",
    "\n",
    "for ax in axes:\n",
    "    ax.set_xscale('log')\n",
    "    ax.set_xlabel('Energy/TeV')\n",
    "    ax.set_ylabel('gh score')\n",
    "    ax.legend()\n",
    "\n",
    "plt.show()"
   ]
  },
  {
   "cell_type": "code",
   "execution_count": null,
   "id": "6730b1c1-4727-43e5-8b8f-9d9d857a39b2",
   "metadata": {},
   "outputs": [],
   "source": [
    "# now that we have the optimized gh cuts, we recalculate the theta\n",
    "# cut as 68 percent containment on the events surviving these cuts.\n",
    "\n",
    "for tab in (gammas, background):\n",
    "    tab[\"selected_gh\"] = evaluate_binned_cut(\n",
    "        tab[\"gh_score\"], tab[\"reco_energy\"], gh_cuts, operator.ge\n",
    "    )\n",
    "    \n",
    "theta_cuts_opt = calculate_percentile_cut(\n",
    "        gammas[gammas[\"selected_gh\"]][\"theta\"],\n",
    "        gammas[gammas[\"selected_gh\"]][\"reco_energy\"],\n",
    "        theta_energy_bins,\n",
    "        percentile=68,\n",
    "        fill_value=MAX_THETA_CUT,\n",
    "        max_value=MAX_THETA_CUT,\n",
    "        min_value=MIN_THETA_CUT,\n",
    ")\n",
    "\n",
    "gammas[\"selected_theta\"] = evaluate_binned_cut(\n",
    "        gammas[\"theta\"], gammas[\"reco_energy\"], theta_cuts_opt, operator.le\n",
    "    )\n",
    "\n",
    "theta_cuts_opt"
   ]
  },
  {
   "cell_type": "code",
   "execution_count": null,
   "id": "936d892f-ae88-455a-8f98-9a26469b513f",
   "metadata": {},
   "outputs": [],
   "source": [
    "fig, axes = plt.subplots(1, 2, figsize=(10, 3))\n",
    "\n",
    "ax = axes[0]\n",
    "\n",
    "_,_,_,im = ax.hist2d(gammas['reco_energy'].to_value(u.TeV), gammas['theta'].to_value(u.deg),\n",
    "           bins=(np.logspace(-2, 1, 100), np.linspace(0, 2, 100)),\n",
    "           norm=LogNorm()\n",
    "          );\n",
    "plt.colorbar(im, ax=ax)\n",
    "\n",
    "ax.plot(theta_cuts['center'].to_value(u.TeV), theta_cuts['cut'].to_value(u.deg), color='red', ls='--')\n",
    "ax.fill_between(theta_cuts['center'].to_value(u.TeV), theta_cuts['cut'].to_value(u.deg), 4, color='none', alpha=0.8, hatch=\"x\", edgecolor='red', label='removed')\n",
    "ax.set_title('Gammas selection based on theta cut')\n",
    "\n",
    "\n",
    "### Exercise: do the same with the background\n",
    "\n",
    "ax = axes[1]\n",
    "\n",
    "ax.set_title('Background events selection based on theta cut')\n",
    "\n",
    "\n",
    "for ax in axes:\n",
    "    ax.set_xscale('log')\n",
    "    ax.set_xlabel('Energy/TeV')\n",
    "    ax.set_ylabel('theta (deg)')\n",
    "    ax.legend()\n",
    "\n",
    "plt.show()"
   ]
  },
  {
   "cell_type": "code",
   "execution_count": null,
   "id": "86373eee-372c-4a9c-a980-6a47c348338c",
   "metadata": {},
   "outputs": [],
   "source": [
    "gammas[\"selected\"] = gammas[\"selected_theta\"] & gammas[\"selected_gh\"]\n",
    "\n",
    "print(\n",
    "    f\"Total number of gammas: {len(gammas)}\\n\",\n",
    "    f\"After GH score selection: {100*np.count_nonzero(gammas['selected_gh'])/len(gammas):.2f}%\\n\",\n",
    "    f\"After theta selection: {100*np.count_nonzero(gammas['selected_theta'])/len(gammas):.2f}%\\n\",\n",
    "    f\"After both selection: {100*np.count_nonzero(gammas['selected'])/len(gammas):.2f}%\\n\",\n",
    ")"
   ]
  },
  {
   "cell_type": "code",
   "execution_count": null,
   "id": "4c32036f-22e7-496e-9af1-ecefa4892122",
   "metadata": {},
   "outputs": [],
   "source": [
    "# calculate sensitivity\n",
    "signal_hist = create_histogram_table(\n",
    "    gammas[gammas[\"selected\"]], bins=sensitivity_bins\n",
    ")\n",
    "background_hist = estimate_background(\n",
    "    background[background[\"selected_gh\"]],\n",
    "    reco_energy_bins=sensitivity_bins,\n",
    "    theta_cuts=theta_cuts_opt,\n",
    "    alpha=ALPHA,\n",
    "    background_radius=MAX_BG_RADIUS,\n",
    ")\n",
    "sensitivity = calculate_sensitivity(signal_hist, background_hist, alpha=ALPHA)\n",
    "\n",
    "# scale relative sensitivity by Crab flux to get the flux sensitivity\n",
    "spectrum = particles[\"gamma\"][\"target_spectrum\"]\n",
    "for s in (sensitivity_step_2, sensitivity):\n",
    "    s[\"flux_sensitivity\"] = s[\"relative_sensitivity\"] * spectrum(s[\"reco_energy_center\"])\n",
    "    s[\"flux_sensitivity\"] = s[\"flux_sensitivity\"].to(1/(u.TeV * u.cm**2 * u.s))\n",
    "\n",
    "\n",
    "sensitivity"
   ]
  },
  {
   "cell_type": "markdown",
   "id": "2f144773-34d7-4871-bd63-2e0ccc145d10",
   "metadata": {},
   "source": [
    "## Calculating IRFs"
   ]
  },
  {
   "cell_type": "code",
   "execution_count": null,
   "id": "84cd0b5d-dd08-4082-b6ff-2fc892bc7efa",
   "metadata": {},
   "outputs": [],
   "source": [
    "\n",
    "hdus = [\n",
    "    fits.PrimaryHDU(),\n",
    "    fits.BinTableHDU(sensitivity, name=\"SENSITIVITY\"),\n",
    "    fits.BinTableHDU(sensitivity_step_2, name=\"SENSITIVITY_STEP_2\"),\n",
    "    fits.BinTableHDU(theta_cuts, name=\"THETA_CUTS\"),\n",
    "    fits.BinTableHDU(theta_cuts_opt, name=\"THETA_CUTS_OPT\"),\n",
    "    fits.BinTableHDU(gh_cuts, name=\"GH_CUTS\"),\n",
    "]\n",
    "\n",
    "masks = {\n",
    "    \"\": gammas[\"selected\"],\n",
    "    \"_NO_CUTS\": slice(None),\n",
    "    \"_ONLY_GH\": gammas[\"selected_gh\"],\n",
    "    \"_ONLY_THETA\": gammas[\"selected_theta\"],\n",
    "}\n",
    "\n",
    "# binnings for the irfs\n",
    "# true_energy_bins = add_overflow_bins(\n",
    "#     create_bins_per_decade(MIN_ENERGY, MAX_ENERGY, N_BIN_PER_DECADE)\n",
    "# )\n",
    "# reco_energy_bins = add_overflow_bins(\n",
    "#     create_bins_per_decade(MIN_ENERGY, MAX_ENERGY, N_BIN_PER_DECADE)\n",
    "# )\n",
    "\n",
    "\n",
    "true_energy_bins = create_bins_per_decade(MIN_ENERGY, MAX_ENERGY, N_BIN_PER_DECADE)\n",
    "reco_energy_bins = create_bins_per_decade(MIN_ENERGY, MAX_ENERGY, N_BIN_PER_DECADE)\n",
    "\n",
    "\n",
    "\n",
    "fov_offset_bins = [0, 0.6] * u.deg\n",
    "source_offset_bins = np.arange(0, 1 + 1e-4, 1e-3) * u.deg\n",
    "energy_migration_bins = np.geomspace(0.2, 5, 200)\n",
    "\n",
    "for label, mask in masks.items():\n",
    "    effective_area = effective_area_per_energy(\n",
    "        gammas[mask],\n",
    "        particles[\"gamma\"][\"simulation_info\"],\n",
    "        true_energy_bins=true_energy_bins,\n",
    "    )\n",
    "    hdus.append(\n",
    "        create_aeff2d_hdu(\n",
    "            effective_area[..., np.newaxis],  # add one dimension for FOV offset\n",
    "            true_energy_bins,\n",
    "            fov_offset_bins,\n",
    "            extname=\"EFFECTIVE_AREA\" + label,\n",
    "        )\n",
    "    )\n",
    "    edisp = energy_dispersion(\n",
    "        gammas[mask],\n",
    "        true_energy_bins=true_energy_bins,\n",
    "        fov_offset_bins=fov_offset_bins,\n",
    "        migration_bins=energy_migration_bins,\n",
    "    )\n",
    "    hdus.append(\n",
    "        create_energy_dispersion_hdu(\n",
    "            edisp,\n",
    "            true_energy_bins=true_energy_bins,\n",
    "            migration_bins=energy_migration_bins,\n",
    "            fov_offset_bins=fov_offset_bins,\n",
    "            extname=\"ENERGY_DISPERSION\" + label,\n",
    "        )\n",
    "    )\n",
    "\n",
    "    \n",
    "bias_resolution = energy_bias_resolution(\n",
    "    gammas[gammas[\"selected\"]],\n",
    "    true_energy_bins,\n",
    "    resolution_function=energy_resolution_absolute_68,\n",
    ")\n",
    "ang_res = angular_resolution(gammas[gammas[\"selected_gh\"]], true_energy_bins)\n",
    "psf = psf_table(\n",
    "    gammas[gammas[\"selected_gh\"]],\n",
    "    true_energy_bins,\n",
    "    fov_offset_bins=fov_offset_bins,\n",
    "    source_offset_bins=source_offset_bins,\n",
    ")\n",
    "\n",
    "background_rate = background_2d(\n",
    "    background[background[\"selected_gh\"]],\n",
    "    reco_energy_bins,\n",
    "    fov_offset_bins=np.arange(0, 11) * u.deg,\n",
    "    t_obs=T_OBS,\n",
    ")\n",
    "\n",
    "hdus.append(\n",
    "    create_background_2d_hdu(\n",
    "        background_rate, reco_energy_bins, fov_offset_bins=np.arange(0, 11) * u.deg\n",
    "    )\n",
    ")\n",
    "hdus.append(\n",
    "    create_psf_table_hdu(psf, true_energy_bins, source_offset_bins, fov_offset_bins)\n",
    ")\n",
    "hdus.append(\n",
    "    create_rad_max_hdu(\n",
    "        theta_cuts_opt[\"cut\"][:, np.newaxis], theta_energy_bins, fov_offset_bins\n",
    "    )\n",
    ")\n",
    "\n",
    "hdus.append(fits.BinTableHDU(ang_res, name=\"ANGULAR_RESOLUTION\"))\n",
    "hdus.append(fits.BinTableHDU(bias_resolution, name=\"ENERGY_BIAS_RESOLUTION\"))\n"
   ]
  },
  {
   "cell_type": "code",
   "execution_count": null,
   "id": "1e0f3097-bd1f-4e9c-a82c-11bda9f295c6",
   "metadata": {},
   "outputs": [],
   "source": [
    "## Writing output file\n",
    "outfile = \"irf_sensitivity.fits.gz\"\n",
    "Path(outfile).parent.mkdir(exist_ok=True)\n",
    "fits.HDUList(hdus).writeto(outfile, overwrite=True)"
   ]
  },
  {
   "cell_type": "code",
   "execution_count": null,
   "id": "b71dcee4-2870-48a2-801f-4ff6c07fbb64",
   "metadata": {},
   "outputs": [],
   "source": []
  },
  {
   "cell_type": "code",
   "execution_count": null,
   "id": "0c8c5db2-0380-4213-b1f2-cc7460359cbd",
   "metadata": {},
   "outputs": [],
   "source": []
  },
  {
   "cell_type": "code",
   "execution_count": null,
   "id": "964e2c63-b576-431f-aeac-38d9f861a3d8",
   "metadata": {},
   "outputs": [],
   "source": [
    "import lstmcpipe\n",
    "print(f\"lstmcpipe version {lstmcpipe.__version__}\")\n",
    "from lstmcpipe.plots import plot_irfs"
   ]
  },
  {
   "cell_type": "code",
   "execution_count": null,
   "id": "f836a86e-6dd8-4784-a74d-67b12bdb4b66",
   "metadata": {},
   "outputs": [],
   "source": [
    "plot_irfs.plot_effective_area_from_file(outfile, label='LST-1 MC')\n",
    "ctaplot.plot_effective_area_cta_performance('north')\n",
    "plt.show()"
   ]
  },
  {
   "cell_type": "code",
   "execution_count": null,
   "id": "9d8f3751-dd89-47ae-bb85-f96e537bd8df",
   "metadata": {},
   "outputs": [],
   "source": [
    "plot_irfs.plot_angular_resolution_from_file(outfile, label='LST-1 MC')\n",
    "ctaplot.plot_angular_resolution_cta_performance('north')\n",
    "plt.show()"
   ]
  },
  {
   "cell_type": "code",
   "execution_count": null,
   "id": "79048924-4130-4ab7-ba24-ee0ca6069fb0",
   "metadata": {},
   "outputs": [],
   "source": [
    "plot_irfs.plot_energy_resolution_from_file(outfile, label='LST-1 MC')\n",
    "ctaplot.plot_energy_resolution_cta_performance('north')\n",
    "plt.show()"
   ]
  },
  {
   "cell_type": "code",
   "execution_count": null,
   "id": "6721b8e5-5684-42dd-a36a-7663fd85e80d",
   "metadata": {},
   "outputs": [],
   "source": [
    "plot_irfs.plot_background_rate_from_file(outfile, label='LST-1 MC')\n",
    "# ctaplot.plot_background_rate_magic()\n",
    "plt.show()"
   ]
  },
  {
   "cell_type": "code",
   "execution_count": null,
   "id": "d658cdf6-3522-4928-824e-5e94ac69c797",
   "metadata": {},
   "outputs": [],
   "source": [
    "plot_irfs.plot_sensitivity_from_file(outfile, label='LST-1 MC')\n",
    "ctaplot.plot_sensitivity_cta_performance('north')\n",
    "plt.show()"
   ]
  },
  {
   "cell_type": "markdown",
   "id": "897f650b-edfe-49ab-a780-188a7bbc65d4",
   "metadata": {},
   "source": [
    "# Final word\n",
    "\n",
    "**These performances probably don't reflect reality as you are running this notebook with very low statistics**\n",
    "\n",
    "**--> how are statistically significant IRFs produced ?**"
   ]
  },
  {
   "cell_type": "code",
   "execution_count": null,
   "id": "172cd5d7-5912-40e7-baab-75400e389148",
   "metadata": {},
   "outputs": [],
   "source": []
  }
 ],
 "metadata": {
  "kernelspec": {
   "display_name": "lstchain-v0.8.4",
   "language": "python",
   "name": "lstchain-v0.8.4"
  },
  "language_info": {
   "codemirror_mode": {
    "name": "ipython",
    "version": 3
   },
   "file_extension": ".py",
   "mimetype": "text/x-python",
   "name": "python",
   "nbconvert_exporter": "python",
   "pygments_lexer": "ipython3",
   "version": "3.8.12"
  }
 },
 "nbformat": 4,
 "nbformat_minor": 5
}
