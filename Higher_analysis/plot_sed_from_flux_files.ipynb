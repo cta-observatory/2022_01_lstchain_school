{
 "cells": [
  {
   "cell_type": "markdown",
   "id": "606d1206",
   "metadata": {},
   "source": [
    "# This short example notebook, lets one plot different SEDs, from the saved files of Flux Points Datasets and their Models"
   ]
  },
  {
   "cell_type": "code",
   "execution_count": null,
   "id": "2c16bae6",
   "metadata": {},
   "outputs": [],
   "source": [
    "%matplotlib inline\n",
    "import matplotlib.pyplot as plt\n",
    "\n",
    "import pickle\n",
    "\n",
    "import astropy.units as u\n",
    "import numpy as np\n",
    "\n",
    "from gammapy.modeling.models import create_crab_spectral_model\n",
    "from gammapy.estimators import FluxPoints\n",
    "from gammapy.datasets import FluxPointsDataset\n",
    "from gammapy.modeling.models import SkyModel"
   ]
  },
  {
   "cell_type": "markdown",
   "id": "58a706dd",
   "metadata": {},
   "source": [
    "# Get the directories of the relevant files"
   ]
  },
  {
   "cell_type": "code",
   "execution_count": null,
   "id": "9c1e63a7",
   "metadata": {},
   "outputs": [],
   "source": [
    "base_dir_1 = \"/fefs/aswg/workspace/analysis-school-2022/DL3/Crab_src_indep/\"\n",
    "base_dir_2 = \"/fefs/aswg/workspace/analysis-school-2022/DL3/BLLac_src_dep/\"\n",
    "\n",
    "flux_file_1 = base_dir_1 + 'DL3_src_indep_final/Crab_dataset_2967_to_2977_flux_pts.fits'\n",
    "flux_model_file_1 = base_dir_1 + 'DL3_src_indep_final/Crab_dataset_2967_to_2977_flux_model_dict.dat'\n",
    "\n",
    "flux_file_2 = base_dir_2 + 'src_dep_alvaro/BL_Lac_dataset_5552_to_5559_flux_pts.fits'\n",
    "flux_model_file_2 = base_dir_2 + 'src_dep_alvaro/BL_Lac_dataset_5552_to_5559_flux_model_dict.dat'"
   ]
  },
  {
   "cell_type": "markdown",
   "id": "cd4533a2",
   "metadata": {},
   "source": [
    "# Read and recreate the Flux files"
   ]
  },
  {
   "cell_type": "code",
   "execution_count": null,
   "id": "06755523",
   "metadata": {},
   "outputs": [],
   "source": [
    "# Read the FLux Points file into a FluxPoints Object\n",
    "flux_1 = FluxPoints.read(flux_file_1)\n",
    "flux_2 = FluxPoints.read(flux_file_2)"
   ]
  },
  {
   "cell_type": "code",
   "execution_count": null,
   "id": "dfd557ca",
   "metadata": {},
   "outputs": [],
   "source": [
    "# Open and read the model data\n",
    "flux_model_1 = open(flux_model_file_1, 'rb')\n",
    "flux_model_2 = open(flux_model_file_2, 'rb')\n",
    "\n",
    "model_dict_1 = pickle.load(flux_model_1)\n",
    "model_dict_2 = pickle.load(flux_model_2)\n",
    "\n",
    "flux_model_1.close()\n",
    "flux_model_2.close()"
   ]
  },
  {
   "cell_type": "code",
   "execution_count": null,
   "id": "48f7d25d",
   "metadata": {},
   "outputs": [],
   "source": [
    "# Create the Flux Points Dataset\n",
    "flux_dataset_1 = FluxPointsDataset(\n",
    "    data=flux_1, models=SkyModel.from_dict(model_dict_1)\n",
    ")\n",
    "flux_dataset_2 = FluxPointsDataset(\n",
    "    data=flux_2, models=SkyModel.from_dict(model_dict_2)\n",
    ")"
   ]
  },
  {
   "cell_type": "markdown",
   "id": "df5fd91f",
   "metadata": {
    "scrolled": true
   },
   "source": [
    "# Plot the SED"
   ]
  },
  {
   "cell_type": "code",
   "execution_count": null,
   "id": "955c36a9",
   "metadata": {
    "scrolled": false
   },
   "outputs": [],
   "source": [
    "plt.figure(figsize=(8,5))\n",
    "\n",
    "flux_dataset_1.plot_spectrum(label=\"Crab\")\n",
    "flux_dataset_2.plot_spectrum(label=\"BL Lac\")\n",
    "\n",
    "create_crab_spectral_model(\"magic_lp\").plot(\n",
    "    energy_range = [0.01, 20] * u.TeV,\n",
    "    energy_power = 2,\n",
    "    flux_unit = \"erg-1 cm-2 s-1\",\n",
    "    label = \"Crab MAGIC LP (JHEAp 2015)\"\n",
    ")\n",
    "\n",
    "plt.legend()\n",
    "\n",
    "plt.xlim(0.01, 20)\n",
    "plt.ylim(2e-12, 2e-9)\n",
    "plt.grid(which='both')\n",
    "plt.title('SED')\n"
   ]
  },
  {
   "cell_type": "code",
   "execution_count": null,
   "id": "8cd2f108",
   "metadata": {},
   "outputs": [],
   "source": []
  }
 ],
 "metadata": {
  "kernelspec": {
   "display_name": "lst-dev",
   "language": "python",
   "name": "lst-dev"
  },
  "language_info": {
   "codemirror_mode": {
    "name": "ipython",
    "version": 3
   },
   "file_extension": ".py",
   "mimetype": "text/x-python",
   "name": "python",
   "nbconvert_exporter": "python",
   "pygments_lexer": "ipython3",
   "version": "3.8.12"
  }
 },
 "nbformat": 4,
 "nbformat_minor": 5
}
