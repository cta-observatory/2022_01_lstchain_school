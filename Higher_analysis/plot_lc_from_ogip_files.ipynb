{
 "cells": [
  {
   "cell_type": "markdown",
   "id": "ab3aa1ba",
   "metadata": {},
   "source": [
    "# This example notebook, uses the provided OGIP files, to plot the Light Curves\n"
   ]
  },
  {
   "cell_type": "markdown",
   "id": "ccf8bc97",
   "metadata": {},
   "source": [
    "One can follow the tutorial from gammapy here https://docs.gammapy.org/0.18.2/tutorials/light_curve.html"
   ]
  },
  {
   "cell_type": "code",
   "execution_count": null,
   "id": "eb96ec6a",
   "metadata": {},
   "outputs": [],
   "source": [
    "%matplotlib inline\n",
    "import matplotlib.pyplot as plt\n",
    "from matplotlib.gridspec import GridSpec\n",
    "\n",
    "from pathlib import Path\n",
    "\n",
    "import astropy.units as u\n",
    "from astropy.time import Time\n",
    "from astropy.io import fits\n",
    "from astropy.table import Table\n",
    "\n",
    "import numpy as np\n",
    "\n",
    "from gammapy.modeling import Fit\n",
    "from gammapy.modeling.models import (\n",
    "    PowerLawSpectralModel,\n",
    "    LogParabolaSpectralModel,\n",
    "    create_crab_spectral_model,\n",
    "    SkyModel,\n",
    ")\n",
    "from gammapy.datasets import Datasets, SpectrumDataset, SpectrumDatasetOnOff, FluxPointsDataset\n",
    "\n",
    "from gammapy.estimators import FluxPointsEstimator, FluxPoints, LightCurveEstimator"
   ]
  },
  {
   "cell_type": "markdown",
   "id": "c99ae67a",
   "metadata": {},
   "source": [
    "# 1. Get the OGIP files and make some selections if need be"
   ]
  },
  {
   "cell_type": "code",
   "execution_count": null,
   "id": "9dec3c7e",
   "metadata": {},
   "outputs": [],
   "source": [
    "base_dir=\"/fefs/aswg/workspace/analysis-school-2022/\"\n",
    "dir_path=\"DL3/Crab_src_indep/\" # DL3/BLLac_src_dep\n",
    "\n",
    "ogip_path=Path(base_dir+dir_path+\"OGIP/\")\n",
    "plot_path=Path(base_dir+dir_path+\"plots/\")\n",
    "\n",
    "ogip_path.mkdir(exist_ok=True)\n",
    "plot_path.mkdir(exist_ok=True)"
   ]
  },
  {
   "cell_type": "code",
   "execution_count": null,
   "id": "7d42a994",
   "metadata": {},
   "outputs": [],
   "source": [
    "# Using the full standard_dataset as provided\n",
    "use_standard_data = True"
   ]
  },
  {
   "cell_type": "code",
   "execution_count": null,
   "id": "9f092708",
   "metadata": {},
   "outputs": [],
   "source": [
    "# read all obs ids of the pha files in the given directory\n",
    "if use_standard_data:\n",
    "    obs_ids = [2967, 2968, 2969, 2970, 2971, 2972, 2973, 2974, 2975, 2976, 2977] # For Crab\n",
    "    # [5552, 5553, 5554, 5555, 5556, 5557, 5558, 5559] # for BL Lac\n",
    "else:\n",
    "    # Get all the OGIP files in the provided location\n",
    "    obs_ids = []\n",
    "    pha_files = list(ogip_path.glob(\"pha_obs*.fits\"))\n",
    "    \n",
    "    for p in pha_files:\n",
    "        run = int(p.name[7:-5])\n",
    "        obs_ids.append(run)\n",
    "    obs_ids = np.sort(np.array(obs_ids))"
   ]
  },
  {
   "cell_type": "code",
   "execution_count": null,
   "id": "6e33e77a",
   "metadata": {
    "scrolled": true
   },
   "outputs": [],
   "source": [
    "# Generate the Datasets object back from the OGIP files\n",
    "datasets = Datasets()\n",
    "for obs in obs_ids:\n",
    "    file = ogip_path / f\"pha_obs{obs}.fits\"\n",
    "    datasets.append(SpectrumDatasetOnOff.from_ogip_files(file))"
   ]
  },
  {
   "cell_type": "code",
   "execution_count": null,
   "id": "86b1ba26",
   "metadata": {},
   "outputs": [],
   "source": [
    "fits.open(ogip_path / f\"pha_obs{obs_ids[1]}.fits\").info()"
   ]
  },
  {
   "cell_type": "code",
   "execution_count": null,
   "id": "0346f90a",
   "metadata": {},
   "outputs": [],
   "source": [
    "Table.read(ogip_path / f\"pha_obs{obs_ids[1]}.fits\", hdu=\"SPECTRUM\").meta"
   ]
  },
  {
   "cell_type": "code",
   "execution_count": null,
   "id": "009cfb72",
   "metadata": {},
   "outputs": [],
   "source": [
    "Table.read(ogip_path / f\"pha_obs{obs_ids[1]}.fits\", hdu=\"REGION\").meta"
   ]
  },
  {
   "cell_type": "markdown",
   "id": "9d07c064",
   "metadata": {},
   "source": [
    "# 2. Get some parameters to use from the datasets"
   ]
  },
  {
   "cell_type": "code",
   "execution_count": null,
   "id": "46f07c6a",
   "metadata": {},
   "outputs": [],
   "source": [
    "t_start = []\n",
    "t_stop = []\n",
    "tot_time = []\n",
    "obj_name = []\n",
    "\n",
    "for obs in obs_ids:\n",
    "    file = ogip_path / f\"pha_obs{obs}.fits\"\n",
    "    t = Table.read(file, hdu=\"GTI\")\n",
    "    r = Table.read(file, hdu=\"REGION\").meta\n",
    "    \n",
    "    t_start.append(t[\"START\"][0])\n",
    "    t_stop.append(t[\"STOP\"][0])\n",
    "    tot_time.append(t[\"STOP\"][0] - t[\"START\"][0])\n",
    "    \n",
    "    obj_name.append(r[\"OBJECT\"])\n",
    "print(obs_ids)\n",
    "\n",
    "t_start = np.sort(np.array(t_start))\n",
    "t_stop = np.sort(np.array(t_stop))\n",
    "tot_time = np.array(tot_time)\n",
    "print(tot_time.sum()/3600)\n",
    "\n",
    "obj_name = np.unique(np.array(obj_name))[0]"
   ]
  },
  {
   "cell_type": "code",
   "execution_count": null,
   "id": "f97ccd79",
   "metadata": {},
   "outputs": [],
   "source": [
    "e_reco_edges = datasets[0].counts.geom.axes[\"energy\"].edges"
   ]
  },
  {
   "cell_type": "code",
   "execution_count": null,
   "id": "4ef84ba0",
   "metadata": {},
   "outputs": [],
   "source": [
    "# Energy range for estimating the Light Curve.\n",
    "# One can play with different energy bins to check the different LCs\n",
    "e_fit_min = 0.01 * u.TeV\n",
    "e_fit_max = 40 * u.TeV"
   ]
  },
  {
   "cell_type": "markdown",
   "id": "910069e1",
   "metadata": {},
   "source": [
    "# 3. Get Pivot energy to fix the reference energy and define the Spectrum Model"
   ]
  },
  {
   "cell_type": "code",
   "execution_count": null,
   "id": "b895404f",
   "metadata": {},
   "outputs": [],
   "source": [
    "# Find pivot (decorrelation) energy for a Power Law model to get the reference energy for Log Parabola model\n",
    "def get_pivot_energy(datasets, e_ref, e_edges, obj_name):\n",
    "    \"\"\"\n",
    "    Using Power Law spectral model with the given reference energy and\n",
    "    get the decorrelation energy of the fit, within the fit energy range, e_edges\n",
    "    \"\"\"\n",
    "    spectral_model = PowerLawSpectralModel(\n",
    "        index=2, amplitude=2e-11 * u.Unit(\"cm-2 s-1 TeV-1\"), reference=e_ref\n",
    "    )\n",
    "    model = SkyModel(spectral_model=spectral_model, name=obj_name)\n",
    "    dataset_check = datasets\n",
    "    model_check = model.copy()\n",
    "\n",
    "    # Stacked dataset method\n",
    "    model_final_stacked = model_check.copy()\n",
    "    stacked_dataset = Datasets(dataset_check).stack_reduce()\n",
    "    stacked_dataset.models = model_final_stacked\n",
    "\n",
    "    fit_stacked = Fit(stacked_dataset)\n",
    "    result_stacked = fit_stacked.run()\n",
    "    model_best_stacked = model_final_stacked.copy()\n",
    "\n",
    "    fpe_stacked = FluxPointsEstimator(energy_edges=e_edges)\n",
    "    flux_points_stacked = fpe_stacked.run(datasets=stacked_dataset)\n",
    "    \n",
    "    flux_points_dataset = FluxPointsDataset(\n",
    "        data=flux_points_stacked, models=model_best_stacked\n",
    "    )\n",
    "    return model_best_stacked.spectral_model.pivot_energy\n"
   ]
  },
  {
   "cell_type": "code",
   "execution_count": null,
   "id": "ce38a20b",
   "metadata": {},
   "outputs": [],
   "source": [
    "%%time\n",
    "ref = get_pivot_energy(datasets, 0.4 * u.TeV, e_reco_edges, obj_name)\n",
    "print(ref.to_value(u.GeV))"
   ]
  },
  {
   "cell_type": "code",
   "execution_count": null,
   "id": "28fc178f",
   "metadata": {},
   "outputs": [],
   "source": [
    "# Final spectral model of Log Parabola, to be used for estimating the LC.\n",
    "# One can try different Spectral Models as well.\n",
    "# Be careful in the choice of Spectral Model being used for the 2 examples presented here\n",
    "\n",
    "# Crab\n",
    "spectral_model_lp = LogParabolaSpectralModel(\n",
    "        amplitude = 5e-12 * u.Unit('cm-2 s-1 TeV-1'),\n",
    "        reference = ref,\n",
    "        alpha = 2 * u.Unit(''),\n",
    "        beta = 0.1 * u.Unit('')\n",
    ")\n",
    "model_lp = SkyModel(spectral_model=spectral_model_lp, name=obj_name)\n",
    "\n",
    "# BL Lac\n",
    "spectral_model_lp_bllac = LogParabolaSpectralModel(\n",
    "        amplitude = 3e-8 * u.Unit('cm-2 s-1 TeV-1'),\n",
    "        reference = 0.1 * u.TeV,\n",
    "        alpha = 2 * u.Unit(''),\n",
    "        beta = 0.2 * u.Unit('')\n",
    ")\n",
    "model_lp_bllac = SkyModel(spectral_model=spectral_model_lp_bllac, name=obj_name)"
   ]
  },
  {
   "cell_type": "code",
   "execution_count": null,
   "id": "3d670c61",
   "metadata": {},
   "outputs": [],
   "source": [
    "params=model_lp.to_dict()['spectral']['parameters']\n",
    "# params=model_lp_bllac.to_dict()['spectral']['parameters']\n",
    "params"
   ]
  },
  {
   "cell_type": "markdown",
   "id": "40bcb658",
   "metadata": {},
   "source": [
    "# 4. Estimate the LC"
   ]
  },
  {
   "cell_type": "code",
   "execution_count": null,
   "id": "fee3d1c5",
   "metadata": {},
   "outputs": [],
   "source": [
    "%%time\n",
    "lc_maker_1d = LightCurveEstimator(\n",
    "    energy_edges=[e_fit_min, e_fit_max], reoptimize=True, source=obj_name\n",
    ")"
   ]
  },
  {
   "cell_type": "code",
   "execution_count": null,
   "id": "771bea40",
   "metadata": {},
   "outputs": [],
   "source": [
    "# Need the time start and end\n",
    "t_start = Time(t_start, format='unix')\n",
    "t_stop = Time(t_stop, format='unix')\n",
    "\n",
    "t_day = np.unique(np.rint(t_start.mjd))\n",
    "\n",
    "# To make the range night-wise, keep the MJD range in half integral values\n",
    "t_range = [Time([t-0.5, t+0.5], format=\"mjd\", scale=\"utc\") for t in t_day]\n",
    "\n",
    "lc_maker_night_wise = LightCurveEstimator(\n",
    "    energy_edges=[e_fit_min, e_fit_max], \n",
    "    time_intervals=t_range,\n",
    "    reoptimize=True, source=obj_name\n",
    ")"
   ]
  },
  {
   "cell_type": "code",
   "execution_count": null,
   "id": "592152d1",
   "metadata": {},
   "outputs": [],
   "source": [
    "dataset_lc = datasets\n",
    "model_lc = model_lp\n",
    "\n",
    "for data in dataset_lc:\n",
    "    data.models = model_lc\n",
    "\n",
    "lc_1d = lc_maker_1d.run(dataset_lc)\n",
    "lc_night = lc_maker_night_wise.run(dataset_lc)"
   ]
  },
  {
   "cell_type": "code",
   "execution_count": null,
   "id": "db1aad85",
   "metadata": {},
   "outputs": [],
   "source": [
    "# Check the various column data of the Light Curve object\n",
    "lc_1d.table"
   ]
  },
  {
   "cell_type": "code",
   "execution_count": null,
   "id": "da1cd90e",
   "metadata": {},
   "outputs": [],
   "source": [
    "# If there are more than 1 night of data, one can see the integrated light curve for each night\n",
    "lc_night.table"
   ]
  },
  {
   "cell_type": "markdown",
   "id": "78c40f9e",
   "metadata": {},
   "source": [
    "# 5. Plot the Light Curve"
   ]
  },
  {
   "cell_type": "code",
   "execution_count": null,
   "id": "6c010bef",
   "metadata": {},
   "outputs": [],
   "source": [
    "# Calculate & plot Crab reference flux\n",
    "crab = create_crab_spectral_model(\"magic_lp\")\n",
    "crab.amplitude.error, crab.alpha.error, crab.beta.error = 0.03e-11 * u.Unit(\"cm-2 s-1 TeV-1\"), 0.01, 0.01/np.log(10) # https://doi.org/10.1016/j.jheap.2015.01.002\n",
    "\n",
    "flux_crab, flux_crab_error = crab.integral_error(0.095 * u.TeV, 100 * u.TeV) # E_min to E_max\n",
    "print(flux_crab, flux_crab_error)"
   ]
  },
  {
   "cell_type": "code",
   "execution_count": null,
   "id": "a6297d89",
   "metadata": {},
   "outputs": [],
   "source": [
    "fig_lc = plt.figure(figsize=(8,10))\n",
    "\n",
    "gs2 = GridSpec(10, 4)\n",
    "\n",
    "gs2.update(hspace=0.1)\n",
    "args1 = [gs2[:5,:]]\n",
    "args2 = [gs2[5:,:]]\n",
    "\n",
    "fig_gs1 = fig_lc.add_subplot(*args1)\n",
    "fig_gs2 = fig_lc.add_subplot(*args2, sharey=fig_gs1)\n",
    "\n",
    "lc_1d.plot(\n",
    "    ax=fig_gs1,\n",
    "    time_format='mjd', marker=\"o\", label=\"LST-1\"\n",
    ")\n",
    "fig_gs1.axhline(\n",
    "    flux_crab.to_value(\"cm-2 s-1\"), c='red', ls='--', \n",
    "    label='Crab (MAGIC, JHEAp 2015)'\n",
    ")\n",
    "fig_gs1.axhspan(\n",
    "    (flux_crab - flux_crab_error).to_value(\"cm-2 s-1\"), \n",
    "    (flux_crab + flux_crab_error).to_value(\"cm-2 s-1\"), \n",
    "    alpha=0.2, color='tab:orange'\n",
    ")\n",
    "\n",
    "fig_gs1.grid(which='both')\n",
    "fig_gs1.set_title(\n",
    "    f'LC LST-1 {obj_name}: Run-wise {tot_time.sum()/3600:.2f} hrs, night-wise {len(t_day)} nights'\n",
    ")\n",
    "fig_gs1.legend()\n",
    "fig_gs1.get_yaxis().get_offset_text().set_position((-0.06,1))\n",
    "\n",
    "lc_night.plot(\n",
    "    ax=fig_gs2,\n",
    "    time_format='iso', marker=\"o\", label=\"LST-1\"\n",
    ")\n",
    "fig_gs2.grid(which='both')\n",
    "fig_gs2.get_yaxis().get_offset_text().set_position((-0.06,1))\n",
    "fig_gs2.legend()"
   ]
  },
  {
   "cell_type": "code",
   "execution_count": null,
   "id": "b9951807",
   "metadata": {},
   "outputs": [],
   "source": []
  }
 ],
 "metadata": {
  "kernelspec": {
   "display_name": "lst-dev",
   "language": "python",
   "name": "lst-dev"
  },
  "language_info": {
   "codemirror_mode": {
    "name": "ipython",
    "version": 3
   },
   "file_extension": ".py",
   "mimetype": "text/x-python",
   "name": "python",
   "nbconvert_exporter": "python",
   "pygments_lexer": "ipython3",
   "version": "3.8.12"
  }
 },
 "nbformat": 4,
 "nbformat_minor": 5
}
