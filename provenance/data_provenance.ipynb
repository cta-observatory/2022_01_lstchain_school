{
 "cells": [
  {
   "cell_type": "markdown",
   "id": "6643f742",
   "metadata": {},
   "source": [
    "# FITS files\n",
    "\n",
    "Let's now explore the data provenance attached to files, nad we will start with the classic FITS files used wide spread in Astrophysics"
   ]
  },
  {
   "cell_type": "code",
   "execution_count": 1,
   "id": "18fc9a6a",
   "metadata": {},
   "outputs": [],
   "source": [
    "from astropy.io import fits\n",
    "fits_filename = fits.util.get_testdata_filepath('history_header.fits')\n",
    "hdu = fits.open(fits_filename)"
   ]
  },
  {
   "cell_type": "code",
   "execution_count": 2,
   "id": "e5d8f9c2-2de8-46e8-8e06-d655a25b0bef",
   "metadata": {},
   "outputs": [
    {
     "name": "stdout",
     "output_type": "stream",
     "text": [
      "Filename: /opt/miniconda3/envs/lst-school-2022-01/lib/python3.8/site-packages/astropy/io/fits/tests/data/history_header.fits\n",
      "No.    Name      Ver    Type      Cards   Dimensions   Format\n",
      "  0  PRIMARY       1 PrimaryHDU       5   ()      \n"
     ]
    }
   ],
   "source": [
    "hdu.info()"
   ]
  },
  {
   "cell_type": "code",
   "execution_count": 3,
   "id": "2609cf7d-e9e0-48ed-9b32-916e1719bb20",
   "metadata": {},
   "outputs": [],
   "source": [
    "hdr = hdu[0].header"
   ]
  },
  {
   "cell_type": "code",
   "execution_count": 4,
   "id": "fe0e08a5-74e9-4170-b8f0-a3a83e1346aa",
   "metadata": {},
   "outputs": [
    {
     "data": {
      "text/plain": [
       "SIMPLE  =                    T / conforms to FITS standard                      \n",
       "BITPIX  =                    8 / array data type                                \n",
       "NAXIS   =                    0 / number of array dimensions                     \n",
       "HISTORY I updated this file on 02/03/2011                                       \n",
       "HISTORY I updated this file on 02/04/2011                                       "
      ]
     },
     "execution_count": 4,
     "metadata": {},
     "output_type": "execute_result"
    }
   ],
   "source": [
    "hdr"
   ]
  },
  {
   "cell_type": "markdown",
   "id": "701594b3-8b45-437f-9705-af8177fb9614",
   "metadata": {},
   "source": [
    "You can inspect other FITS files porvided by Astropy"
   ]
  },
  {
   "cell_type": "code",
   "execution_count": 5,
   "id": "f672036e-c068-4144-a3cd-7cefe68146ce",
   "metadata": {},
   "outputs": [
    {
     "data": {
      "text/plain": [
       "'/opt/miniconda3/envs/lst-school-2022-01/lib/python3.8/site-packages/astropy/io/fits/tests/data/history_header.fits'"
      ]
     },
     "execution_count": 5,
     "metadata": {},
     "output_type": "execute_result"
    }
   ],
   "source": [
    "fits_filename"
   ]
  },
  {
   "cell_type": "markdown",
   "id": "15bd2d1d-41e9-4501-97ee-7d8208d9758a",
   "metadata": {},
   "source": [
    "# lstchain HDF5 files\n",
    "### root attributes"
   ]
  },
  {
   "cell_type": "code",
   "execution_count": 6,
   "id": "9f5c91b2-3d2e-4b39-9210-63efa02cce52",
   "metadata": {},
   "outputs": [],
   "source": [
    "import tables\n",
    "hdf_file = \"../data/provenance/dl1_LST-1.Run02977.0122.h5\""
   ]
  },
  {
   "cell_type": "code",
   "execution_count": 7,
   "id": "e83ffc67-c07e-4e0e-8cd0-c9a2d3cd6cd2",
   "metadata": {},
   "outputs": [],
   "source": [
    "with tables.open_file(hdf_file) as file:\n",
    "    root_attributes = file.root._v_attrs"
   ]
  },
  {
   "cell_type": "code",
   "execution_count": 8,
   "id": "af850212-49c9-4172-932a-7757666743bc",
   "metadata": {},
   "outputs": [
    {
     "data": {
      "text/plain": [
       "/._v_attrs (AttributeSet), 9 attributes:\n",
       "   [CLASS := 'GROUP',\n",
       "    CONTACT := 'LST Consortium',\n",
       "    CTAPIPE_IO_LST_VERSION := '0.13.2',\n",
       "    CTAPIPE_VERSION := '0.11.0',\n",
       "    FILTERS := Filters(complevel=5, complib='blosc:zstd', shuffle=True, bitshuffle=False, fletcher32=True, least_significant_digit=None),\n",
       "    LSTCHAIN_VERSION := '0.8.2.post1',\n",
       "    PYTABLES_FORMAT_VERSION := '2.1',\n",
       "    TITLE := '',\n",
       "    VERSION := '1.0']"
      ]
     },
     "execution_count": 8,
     "metadata": {},
     "output_type": "execute_result"
    }
   ],
   "source": [
    "root_attributes"
   ]
  },
  {
   "cell_type": "markdown",
   "id": "2da75f25-4bd4-4380-b074-d195b12c9f6b",
   "metadata": {},
   "source": [
    "These metadata are those related to the moment when the file was created or modified.\n",
    "\n",
    "Let's keep the file open in order to browse the internal structure of the HDF5 file and fetch internal metadata linked to tables and arrays."
   ]
  },
  {
   "cell_type": "code",
   "execution_count": null,
   "id": "7e819739-d897-418a-904e-b43171a8caa4",
   "metadata": {},
   "outputs": [],
   "source": []
  },
  {
   "cell_type": "code",
   "execution_count": 9,
   "id": "b45ee3b3-27ca-42fb-875b-b810dd2f9257",
   "metadata": {},
   "outputs": [],
   "source": [
    "h5file = tables.open_file(hdf_file, mode=\"r\", title=\"DL1 file\")"
   ]
  },
  {
   "cell_type": "code",
   "execution_count": 10,
   "id": "2120c1fc-afaa-4dee-af8b-ddfe533a72e7",
   "metadata": {},
   "outputs": [
    {
     "data": {
      "text/plain": [
       "/._v_attrs (AttributeSet), 9 attributes:\n",
       "   [CLASS := 'GROUP',\n",
       "    CONTACT := 'LST Consortium',\n",
       "    CTAPIPE_IO_LST_VERSION := '0.13.2',\n",
       "    CTAPIPE_VERSION := '0.11.0',\n",
       "    FILTERS := Filters(complevel=5, complib='blosc:zstd', shuffle=True, bitshuffle=False, fletcher32=True, least_significant_digit=None),\n",
       "    LSTCHAIN_VERSION := '0.8.2.post1',\n",
       "    PYTABLES_FORMAT_VERSION := '2.1',\n",
       "    TITLE := '',\n",
       "    VERSION := '1.0']"
      ]
     },
     "execution_count": 10,
     "metadata": {},
     "output_type": "execute_result"
    }
   ],
   "source": [
    "h5file.root._v_attrs"
   ]
  },
  {
   "cell_type": "code",
   "execution_count": 11,
   "id": "5d3e0fec-271d-44c5-9ef6-48fdc9a6ab89",
   "metadata": {},
   "outputs": [
    {
     "data": {
      "text/plain": [
       "'0.8.2.post1'"
      ]
     },
     "execution_count": 11,
     "metadata": {},
     "output_type": "execute_result"
    }
   ],
   "source": [
    "h5file.root._v_attrs.LSTCHAIN_VERSION"
   ]
  },
  {
   "cell_type": "markdown",
   "id": "691468f6-b980-4f4c-9ede-58bcb802e0de",
   "metadata": {},
   "source": [
    "### source filenames\n",
    "\n",
    "The source filenames Array is present at the root level, and keeps track of the source files used to create the HDF5 file when merging or when the file has been produced with the `lstchain_dl1ab.py` script."
   ]
  },
  {
   "cell_type": "code",
   "execution_count": 12,
   "id": "7e9d0c43-a888-4d9d-afee-2669d2bdcb59",
   "metadata": {},
   "outputs": [],
   "source": [
    "files = h5file.root.source_filenames.filenames.read()"
   ]
  },
  {
   "cell_type": "code",
   "execution_count": 13,
   "id": "bd6c65af-a830-4122-98b3-6b52c52be0d3",
   "metadata": {},
   "outputs": [
    {
     "data": {
      "text/plain": [
       "[b'/fefs/aswg/data/real/running_analysis/20201120/v0.8.2.post1/dl1_LST-1.Run02977.0122.h5']"
      ]
     },
     "execution_count": 13,
     "metadata": {},
     "output_type": "execute_result"
    }
   ],
   "source": [
    "files"
   ]
  },
  {
   "cell_type": "markdown",
   "id": "922d7c21-45bf-40b0-8009-6a24a17f3a1e",
   "metadata": {},
   "source": [
    "### table attributes"
   ]
  },
  {
   "cell_type": "markdown",
   "id": "c714f827-69a4-4d88-bc75-da0f7e76d392",
   "metadata": {},
   "source": [
    "HDF5 files internal structure is composed of tables that we can browse at different leves. Some of these tables may have been inherited from other files that in our case may have been produced by scripts different to the ones producing our cherrish DL1 file. For example the pedestal table may have been produced by a version of `lstchain` different to the one whichh as produced the DL1 parameters of this file. Let's see if it is the case... "
   ]
  },
  {
   "cell_type": "code",
   "execution_count": 14,
   "id": "62144d28-ca97-40d9-a5ca-1771f0c8c5fb",
   "metadata": {},
   "outputs": [],
   "source": [
    "params = h5file.root.dl1.event.telescope.parameters.LST_LSTCam"
   ]
  },
  {
   "cell_type": "code",
   "execution_count": 15,
   "id": "3aecea70-6b70-40ac-80f5-b78cf23ab71d",
   "metadata": {},
   "outputs": [
    {
     "data": {
      "text/plain": [
       "'0.8.2.post1'"
      ]
     },
     "execution_count": 15,
     "metadata": {},
     "output_type": "execute_result"
    }
   ],
   "source": [
    "params.attrs.LSTCHAIN_VERSION"
   ]
  },
  {
   "cell_type": "code",
   "execution_count": 16,
   "id": "0241e891-1b9f-420a-8909-07639aee8ea0",
   "metadata": {},
   "outputs": [],
   "source": [
    "pedestal = h5file.root.dl1.event.telescope.monitoring.pedestal"
   ]
  },
  {
   "cell_type": "code",
   "execution_count": 17,
   "id": "92ec2aa8-1daa-4b0c-9121-f9e1ac8867bc",
   "metadata": {},
   "outputs": [
    {
     "data": {
      "text/plain": [
       "'0.8.2.post1'"
      ]
     },
     "execution_count": 17,
     "metadata": {},
     "output_type": "execute_result"
    }
   ],
   "source": [
    "pedestal.attrs.LSTCHAIN_VERSION"
   ]
  },
  {
   "cell_type": "markdown",
   "id": "c7672cf3-b468-4f1b-9501-362d506045ac",
   "metadata": {},
   "source": [
    "### table description"
   ]
  },
  {
   "cell_type": "code",
   "execution_count": 18,
   "id": "94ce2aa9-ec3d-40b6-9646-cdb21849ae60",
   "metadata": {},
   "outputs": [
    {
     "data": {
      "text/plain": [
       "/dl1/event/telescope/parameters/LST_LSTCam (Table(15219,), fletcher32, shuffle, blosc:zstd(5)) ''\n",
       "  description := {\n",
       "  \"obs_id\": Int64Col(shape=(), dflt=0, pos=0),\n",
       "  \"event_id\": Int64Col(shape=(), dflt=0, pos=1),\n",
       "  \"intensity\": Float64Col(shape=(), dflt=0.0, pos=2),\n",
       "  \"log_intensity\": Float64Col(shape=(), dflt=0.0, pos=3),\n",
       "  \"x\": Float64Col(shape=(), dflt=0.0, pos=4),\n",
       "  \"y\": Float64Col(shape=(), dflt=0.0, pos=5),\n",
       "  \"r\": Float64Col(shape=(), dflt=0.0, pos=6),\n",
       "  \"phi\": Float64Col(shape=(), dflt=0.0, pos=7),\n",
       "  \"length\": Float64Col(shape=(), dflt=0.0, pos=8),\n",
       "  \"length_uncertainty\": Float64Col(shape=(), dflt=0.0, pos=9),\n",
       "  \"width\": Float64Col(shape=(), dflt=0.0, pos=10),\n",
       "  \"width_uncertainty\": Float64Col(shape=(), dflt=0.0, pos=11),\n",
       "  \"psi\": Float64Col(shape=(), dflt=0.0, pos=12),\n",
       "  \"skewness\": Float64Col(shape=(), dflt=0.0, pos=13),\n",
       "  \"kurtosis\": Float64Col(shape=(), dflt=0.0, pos=14),\n",
       "  \"time_gradient\": Float64Col(shape=(), dflt=0.0, pos=15),\n",
       "  \"intercept\": Float64Col(shape=(), dflt=0.0, pos=16),\n",
       "  \"leakage_intensity_width_1\": Float32Col(shape=(), dflt=0.0, pos=17),\n",
       "  \"leakage_intensity_width_2\": Float32Col(shape=(), dflt=0.0, pos=18),\n",
       "  \"leakage_pixels_width_1\": Float64Col(shape=(), dflt=0.0, pos=19),\n",
       "  \"leakage_pixels_width_2\": Float64Col(shape=(), dflt=0.0, pos=20),\n",
       "  \"n_pixels\": Int64Col(shape=(), dflt=0, pos=21),\n",
       "  \"concentration_cog\": Float64Col(shape=(), dflt=0.0, pos=22),\n",
       "  \"concentration_core\": Float64Col(shape=(), dflt=0.0, pos=23),\n",
       "  \"concentration_pixel\": Float64Col(shape=(), dflt=0.0, pos=24),\n",
       "  \"n_islands\": Int64Col(shape=(), dflt=0, pos=25),\n",
       "  \"alt_tel\": Float64Col(shape=(), dflt=0.0, pos=26),\n",
       "  \"az_tel\": Float64Col(shape=(), dflt=0.0, pos=27),\n",
       "  \"calibration_id\": Int64Col(shape=(), dflt=0, pos=28),\n",
       "  \"dragon_time\": Float64Col(shape=(), dflt=0.0, pos=29),\n",
       "  \"ucts_time\": Int64Col(shape=(), dflt=0, pos=30),\n",
       "  \"tib_time\": Int64Col(shape=(), dflt=0, pos=31),\n",
       "  \"ucts_jump\": BoolCol(shape=(), dflt=False, pos=32),\n",
       "  \"mc_type\": Int64Col(shape=(), dflt=0, pos=33),\n",
       "  \"wl\": Float64Col(shape=(), dflt=0.0, pos=34),\n",
       "  \"tel_id\": Int64Col(shape=(), dflt=0, pos=35),\n",
       "  \"tel_pos_x\": Float64Col(shape=(), dflt=0.0, pos=36),\n",
       "  \"tel_pos_y\": Float64Col(shape=(), dflt=0.0, pos=37),\n",
       "  \"tel_pos_z\": Float64Col(shape=(), dflt=0.0, pos=38),\n",
       "  \"trigger_type\": Int64Col(shape=(), dflt=0, pos=39),\n",
       "  \"ucts_trigger_type\": UInt8Col(shape=(), dflt=0, pos=40),\n",
       "  \"trigger_time\": Float64Col(shape=(), dflt=0.0, pos=41),\n",
       "  \"event_type\": Int64Col(shape=(), dflt=0, pos=42)}\n",
       "  byteorder := 'little'\n",
       "  chunkshape := (203,)"
      ]
     },
     "execution_count": 18,
     "metadata": {},
     "output_type": "execute_result"
    }
   ],
   "source": [
    "params"
   ]
  },
  {
   "cell_type": "code",
   "execution_count": 19,
   "id": "e02b0338-227f-413d-a7f1-4e7f8dae645e",
   "metadata": {},
   "outputs": [],
   "source": [
    "params_data = params.read()"
   ]
  },
  {
   "cell_type": "code",
   "execution_count": 20,
   "id": "455a6e7a-e22c-409e-83e9-2639ce8650af",
   "metadata": {},
   "outputs": [
    {
     "data": {
      "text/plain": [
       "array([(2977, 6466001,  60.31676197, 1.78043802,  0.10901472,  0.04775726, 0.11901666,  0.41289786, 0.08207166, 0.00459046, 0.0338887 , 0.003373  , 0.63101662, 0.59749682, 1.75478402, -23.40253009, 13.10452854, 0.        , 0.        , 0.        , 0.        ,  4, 0.74451387, 0.16967903, 0.38926307,  1, 1.19351624, 4.49846596, 0, 1.60593227e+09, 0, 0, False, -9999, 0.41291574, 1, 50., 50., 16., -1, 1, 1.60593227e+09,  32),\n",
       "       (2977, 6466002, 205.97580671, 2.31381621, -0.48201157,  0.07405031, 0.48766649,  2.98915678, 0.1242276 , 0.00419919, 0.04992858, 0.00183111, 0.67520054, 0.14139906, 1.94139048,   0.79304689, 15.47986159, 0.        , 0.        , 0.        , 0.        , 11, 0.46645385, 0.12004961, 0.17343045,  1, 1.19351623, 4.49846597, 0, 1.60593227e+09, 0, 0, False, -9999, 0.40191162, 1, 50., 50., 16., -1, 1, 1.60593227e+09,  32),\n",
       "       (2977, 6466003, 117.32553911, 2.06939256,  0.55463066, -0.01790573, 0.55491962, -0.03227285, 0.06666947, 0.00405328, 0.04192697, 0.00271227, 0.23860491, 0.0808326 , 2.73465069,  -9.50802209, 15.16151169, 0.        , 0.        , 0.        , 0.        ,  6, 0.80000764, 0.36702876, 0.36702876,  1, 1.19351622, 4.49846598, 0, 1.60593227e+09, 0, 0, False, -9999, 0.62887796, 1, 50., 50., 16., -1, 1, 1.60593227e+09,  32),\n",
       "       ...,\n",
       "       (2977, 6481217,  91.21222734, 1.96005306, -0.51173993,  0.97802014, 1.1038121 ,  2.05286315, 0.07286481, 0.00498844, 0.03941174, 0.00147279, 1.52792939, 0.74805373, 2.71003771, -17.4631286 , 13.74345004, 0.66188556, 1.        , 0.00161725, 0.00269542,  5, 0.80617085, 0.22174453, 0.29289982,  1, 1.19332948, 4.49866517, 0, 1.60593227e+09, 0, 0, False, -9999, 0.54088829, 1, 50., 50., 16., -1, 1, 1.60593227e+09, 255),\n",
       "       (2977, 6481218, 101.42752838, 2.00615584, -0.03239917,  1.02213837, 1.02265173,  1.60248316, 0.09238602, 0.00644952, 0.04167663, 0.00146505, 0.67772574, 0.94879406, 2.97723053,  -3.02359915, 12.48870067, 0.29372036, 0.68643916, 0.00161725, 0.00269542,  6, 0.81050222, 0.1632016 , 0.31356086,  1, 1.19332945, 4.4986652 , 0, 1.60593227e+09, 0, 0, False, -9999, 0.45111375, 1, 50., 50., 16., -1, 1, 1.60593227e+09, 255),\n",
       "       (2977, 6481219,          nan,        nan,         nan,         nan,        nan,         nan,        nan,        nan,        nan,        nan,        nan,        nan,        nan,          nan,         nan,        nan,        nan,        nan,        nan, -1,        nan,        nan,        nan, -1, 1.19332945, 4.4986652 , 0, 1.60593227e+09, 0, 0, False, -9999,        nan, 1, 50., 50., 16., -1, 1, 1.60593227e+09, 255)],\n",
       "      dtype=[('obs_id', '<i8'), ('event_id', '<i8'), ('intensity', '<f8'), ('log_intensity', '<f8'), ('x', '<f8'), ('y', '<f8'), ('r', '<f8'), ('phi', '<f8'), ('length', '<f8'), ('length_uncertainty', '<f8'), ('width', '<f8'), ('width_uncertainty', '<f8'), ('psi', '<f8'), ('skewness', '<f8'), ('kurtosis', '<f8'), ('time_gradient', '<f8'), ('intercept', '<f8'), ('leakage_intensity_width_1', '<f4'), ('leakage_intensity_width_2', '<f4'), ('leakage_pixels_width_1', '<f8'), ('leakage_pixels_width_2', '<f8'), ('n_pixels', '<i8'), ('concentration_cog', '<f8'), ('concentration_core', '<f8'), ('concentration_pixel', '<f8'), ('n_islands', '<i8'), ('alt_tel', '<f8'), ('az_tel', '<f8'), ('calibration_id', '<i8'), ('dragon_time', '<f8'), ('ucts_time', '<i8'), ('tib_time', '<i8'), ('ucts_jump', '?'), ('mc_type', '<i8'), ('wl', '<f8'), ('tel_id', '<i8'), ('tel_pos_x', '<f8'), ('tel_pos_y', '<f8'), ('tel_pos_z', '<f8'), ('trigger_type', '<i8'), ('ucts_trigger_type', 'u1'), ('trigger_time', '<f8'), ('event_type', '<i8')])"
      ]
     },
     "execution_count": 20,
     "metadata": {},
     "output_type": "execute_result"
    }
   ],
   "source": [
    "params_data"
   ]
  },
  {
   "cell_type": "code",
   "execution_count": 21,
   "id": "bc48a9d5-f569-47f9-b227-10641034e793",
   "metadata": {},
   "outputs": [
    {
     "data": {
      "text/plain": [
       "numpy.ndarray"
      ]
     },
     "execution_count": 21,
     "metadata": {},
     "output_type": "execute_result"
    }
   ],
   "source": [
    "type(params_data)"
   ]
  },
  {
   "cell_type": "markdown",
   "id": "bad87ab4-e931-4b4b-ab2e-7d4ac1a6ba3b",
   "metadata": {},
   "source": [
    "### config used"
   ]
  },
  {
   "cell_type": "code",
   "execution_count": 22,
   "id": "5c074b92-2831-4ea9-98ac-0a73ec1d2b00",
   "metadata": {},
   "outputs": [],
   "source": [
    "import yaml"
   ]
  },
  {
   "cell_type": "code",
   "execution_count": 23,
   "id": "3d9499b9-f961-4835-8945-bf741b1cdbce",
   "metadata": {},
   "outputs": [],
   "source": [
    "attribute_config = h5file.root.dl1.event.telescope.parameters.LST_LSTCam.attrs.config"
   ]
  },
  {
   "cell_type": "code",
   "execution_count": 24,
   "id": "034471fa-b9a2-4bf1-b282-2f7015429436",
   "metadata": {},
   "outputs": [],
   "source": [
    "config = yaml.safe_load(attribute_config)"
   ]
  },
  {
   "cell_type": "code",
   "execution_count": 25,
   "id": "4e4003a3-5a99-40c3-aab0-08134c6ddf1f",
   "metadata": {},
   "outputs": [
    {
     "data": {
      "text/plain": [
       "{'source_config': {'EventSource': {'allowed_tels': [1, 2, 3, 4],\n",
       "   'max_events': 'None'},\n",
       "  'LSTEventSource': {'default_trigger_type': 'ucts',\n",
       "   'allowed_tels': [1],\n",
       "   'min_flatfield_adc': 3000,\n",
       "   'min_flatfield_pixel_fraction': 0.8,\n",
       "   'calibrate_flatfields_and_pedestals': False,\n",
       "   'EventTimeCalculator': {'dragon_reference_counter': 'None',\n",
       "    'dragon_reference_time': 'None'},\n",
       "   'PointingSource': {'drive_report_path': 'None'},\n",
       "   'LSTR0Corrections': {'calib_scale_high_gain': 1.088,\n",
       "    'calib_scale_low_gain': 1.004,\n",
       "    'drs4_pedestal_path': 'None',\n",
       "    'calibration_path': 'None',\n",
       "    'drs4_time_calibration_path': 'None'}}},\n",
       " 'events_filters': {'intensity': [0, 'inf'],\n",
       "  'width': [0, 'inf'],\n",
       "  'length': [0, 'inf'],\n",
       "  'wl': [0, 'inf'],\n",
       "  'r': [0, 'inf'],\n",
       "  'leakage_intensity_width_2': [0, 'inf']},\n",
       " 'tailcut': {'picture_thresh': 8,\n",
       "  'boundary_thresh': 4,\n",
       "  'keep_isolated_pixels': False,\n",
       "  'min_number_picture_neighbors': 2,\n",
       "  'use_only_main_island': False,\n",
       "  'delta_time': 2},\n",
       " 'tailcuts_clean_with_pedestal_threshold': {'picture_thresh': 8,\n",
       "  'boundary_thresh': 4,\n",
       "  'sigma': 2.5,\n",
       "  'keep_isolated_pixels': False,\n",
       "  'min_number_picture_neighbors': 2,\n",
       "  'use_only_main_island': False,\n",
       "  'delta_time': 2},\n",
       " 'dynamic_cleaning': {'apply': True,\n",
       "  'threshold': 267,\n",
       "  'fraction_cleaning_intensity': 0.03},\n",
       " 'random_forest_energy_regressor_args': {'max_depth': 50,\n",
       "  'min_samples_leaf': 2,\n",
       "  'n_jobs': 4,\n",
       "  'n_estimators': 150,\n",
       "  'bootstrap': True,\n",
       "  'criterion': 'mse',\n",
       "  'max_features': 'auto',\n",
       "  'max_leaf_nodes': 'None',\n",
       "  'min_impurity_decrease': 0.0,\n",
       "  'min_samples_split': 2,\n",
       "  'min_weight_fraction_leaf': 0.0,\n",
       "  'oob_score': False,\n",
       "  'random_state': 42,\n",
       "  'verbose': 0,\n",
       "  'warm_start': False},\n",
       " 'random_forest_disp_regressor_args': {'max_depth': 50,\n",
       "  'min_samples_leaf': 2,\n",
       "  'n_jobs': 4,\n",
       "  'n_estimators': 150,\n",
       "  'bootstrap': True,\n",
       "  'criterion': 'mse',\n",
       "  'max_features': 'auto',\n",
       "  'max_leaf_nodes': 'None',\n",
       "  'min_impurity_decrease': 0.0,\n",
       "  'min_samples_split': 2,\n",
       "  'min_weight_fraction_leaf': 0.0,\n",
       "  'oob_score': False,\n",
       "  'random_state': 42,\n",
       "  'verbose': 0,\n",
       "  'warm_start': False},\n",
       " 'random_forest_disp_classifier_args': {'max_depth': 100,\n",
       "  'min_samples_leaf': 2,\n",
       "  'n_jobs': 4,\n",
       "  'n_estimators': 100,\n",
       "  'criterion': 'gini',\n",
       "  'min_samples_split': 2,\n",
       "  'min_weight_fraction_leaf': 0.0,\n",
       "  'max_features': 'auto',\n",
       "  'max_leaf_nodes': 'None',\n",
       "  'min_impurity_decrease': 0.0,\n",
       "  'bootstrap': True,\n",
       "  'oob_score': False,\n",
       "  'random_state': 42,\n",
       "  'verbose': 0.0,\n",
       "  'warm_start': False,\n",
       "  'class_weight': 'None'},\n",
       " 'random_forest_particle_classifier_args': {'max_depth': 100,\n",
       "  'min_samples_leaf': 2,\n",
       "  'n_jobs': 4,\n",
       "  'n_estimators': 100,\n",
       "  'criterion': 'gini',\n",
       "  'min_samples_split': 2,\n",
       "  'min_weight_fraction_leaf': 0.0,\n",
       "  'max_features': 'auto',\n",
       "  'max_leaf_nodes': 'None',\n",
       "  'min_impurity_decrease': 0.0,\n",
       "  'bootstrap': True,\n",
       "  'oob_score': False,\n",
       "  'random_state': 42,\n",
       "  'verbose': 0.0,\n",
       "  'warm_start': False,\n",
       "  'class_weight': 'None'},\n",
       " 'energy_regression_features': ['log_intensity',\n",
       "  'width',\n",
       "  'length',\n",
       "  'x',\n",
       "  'y',\n",
       "  'wl',\n",
       "  'skewness',\n",
       "  'kurtosis',\n",
       "  'time_gradient',\n",
       "  'leakage_intensity_width_2'],\n",
       " 'disp_method': 'disp_norm_sign',\n",
       " 'disp_regression_features': ['log_intensity',\n",
       "  'width',\n",
       "  'length',\n",
       "  'wl',\n",
       "  'skewness',\n",
       "  'kurtosis',\n",
       "  'time_gradient',\n",
       "  'leakage_intensity_width_2'],\n",
       " 'disp_classification_features': ['log_intensity',\n",
       "  'width',\n",
       "  'length',\n",
       "  'wl',\n",
       "  'skewness',\n",
       "  'kurtosis',\n",
       "  'time_gradient',\n",
       "  'leakage_intensity_width_2'],\n",
       " 'particle_classification_features': ['log_intensity',\n",
       "  'width',\n",
       "  'length',\n",
       "  'x',\n",
       "  'y',\n",
       "  'wl',\n",
       "  'skewness',\n",
       "  'kurtosis',\n",
       "  'time_gradient',\n",
       "  'leakage_intensity_width_2',\n",
       "  'log_reco_energy',\n",
       "  'reco_disp_norm',\n",
       "  'reco_disp_sign'],\n",
       " 'allowed_tels': [1, 2, 3, 4],\n",
       " 'write_pe_image': False,\n",
       " 'mc_image_scaling_factor': 1,\n",
       " 'image_extractor': 'LocalPeakWindowSum',\n",
       " 'image_extractor_for_muons': 'GlobalPeakWindowSum',\n",
       " 'CameraCalibrator': {'apply_waveform_time_shift': False},\n",
       " 'time_sampling_correction_path': 'default',\n",
       " 'LocalPeakWindowSum': {'window_shift': 4,\n",
       "  'window_width': 8,\n",
       "  'apply_integration_correction': False},\n",
       " 'GlobalPeakWindowSum': {'window_shift': 4,\n",
       "  'window_width': 8,\n",
       "  'apply_integration_correction': False},\n",
       " 'timestamps_pointing': 'ucts',\n",
       " 'train_gamma_src_r_deg': [0, 'inf'],\n",
       " 'source_dependent': False,\n",
       " 'mc_nominal_source_x_deg': 0.4,\n",
       " 'mc_nominal_source_y_deg': 0.0,\n",
       " 'volume_reducer': {'algorithm': 'None', 'parameters': {}},\n",
       " 'calibration_product': 'LSTCalibrationCalculator',\n",
       " 'LSTCalibrationCalculator': {'squared_excess_noise_factor': 1.222,\n",
       "  'flatfield_product': 'FlasherFlatFieldCalculator',\n",
       "  'pedestal_product': 'PedestalIntegrator',\n",
       "  'PedestalIntegrator': {'sample_size': 10000,\n",
       "   'sample_duration': 100000,\n",
       "   'tel_id': 1,\n",
       "   'time_sampling_correction_path': 'None',\n",
       "   'charge_median_cut_outliers': [-10, 10],\n",
       "   'charge_std_cut_outliers': [-10, 10],\n",
       "   'charge_product': 'FixedWindowSum'},\n",
       "  'FlasherFlatFieldCalculator': {'sample_size': 10000,\n",
       "   'sample_duration': 100000,\n",
       "   'tel_id': 1,\n",
       "   'time_sampling_correction_path': 'None',\n",
       "   'charge_product': 'LocalPeakWindowSum',\n",
       "   'charge_median_cut_outliers': [-0.5, 0.5],\n",
       "   'charge_std_cut_outliers': [-10, 10],\n",
       "   'time_cut_outliers': [2, 38]},\n",
       "  'LocalPeakWindowSum': {'window_shift': 5,\n",
       "   'window_width': 12,\n",
       "   'apply_integration_correction': False},\n",
       "  'FixedWindowSum': {'window_shift': 6,\n",
       "   'window_width': 12,\n",
       "   'peak_index': 18,\n",
       "   'apply_integration_correction': False}}}"
      ]
     },
     "execution_count": 25,
     "metadata": {},
     "output_type": "execute_result"
    }
   ],
   "source": [
    "config"
   ]
  },
  {
   "cell_type": "code",
   "execution_count": 26,
   "id": "e63234f0-661d-4843-9d7d-0c90d7c1fa7f",
   "metadata": {
    "tags": []
   },
   "outputs": [
    {
     "data": {
      "text/plain": [
       "dict"
      ]
     },
     "execution_count": 26,
     "metadata": {},
     "output_type": "execute_result"
    }
   ],
   "source": [
    "type(config)"
   ]
  },
  {
   "cell_type": "code",
   "execution_count": 27,
   "id": "3e18cabd-44dd-4d0b-8e09-e751e95acc45",
   "metadata": {},
   "outputs": [
    {
     "data": {
      "text/plain": [
       "{'picture_thresh': 8,\n",
       " 'boundary_thresh': 4,\n",
       " 'keep_isolated_pixels': False,\n",
       " 'min_number_picture_neighbors': 2,\n",
       " 'use_only_main_island': False,\n",
       " 'delta_time': 2}"
      ]
     },
     "execution_count": 27,
     "metadata": {},
     "output_type": "execute_result"
    }
   ],
   "source": [
    "config[\"tailcut\"]"
   ]
  },
  {
   "cell_type": "code",
   "execution_count": 31,
   "id": "896eb37d-bf34-4d02-9f70-a6413f17ce4c",
   "metadata": {},
   "outputs": [],
   "source": [
    "import json \n",
    "with open(\"config.json\", \"w\") as f:\n",
    "    json.dump(config, f)"
   ]
  },
  {
   "cell_type": "markdown",
   "id": "6411bea3-9aac-4f08-88d9-bb95acb23544",
   "metadata": {},
   "source": [
    "# Closing the HDF5 file"
   ]
  },
  {
   "cell_type": "code",
   "execution_count": 28,
   "id": "d46a0ef5-aa4b-4962-a00b-2de2c1051112",
   "metadata": {},
   "outputs": [],
   "source": [
    "h5file.close()"
   ]
  }
 ],
 "metadata": {
  "kernelspec": {
   "display_name": "Python 3 (ipykernel)",
   "language": "python",
   "name": "python3"
  },
  "language_info": {
   "codemirror_mode": {
    "name": "ipython",
    "version": 3
   },
   "file_extension": ".py",
   "mimetype": "text/x-python",
   "name": "python",
   "nbconvert_exporter": "python",
   "pygments_lexer": "ipython3",
   "version": "3.8.12"
  }
 },
 "nbformat": 4,
 "nbformat_minor": 5
}
